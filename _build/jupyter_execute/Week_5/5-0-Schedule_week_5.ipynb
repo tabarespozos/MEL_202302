{
 "cells": [
  {
   "cell_type": "markdown",
   "metadata": {
    "id": "N3bvX8UwV3oS"
   },
   "source": [
    "**Semana 5: Regresión lineal simple - Parte II**\n",
    "\n",
    "**Objetivo**\n",
    "El objetivo de esta semana es profundizar en la comprensión de la regresión lineal simple centrándonos en el concepto de prueba de hipótesis. Discutiremos cómo realizar pruebas de hipótesis para los coeficientes de regresión e interpretar los resultados. También discutiremos el concepto de intervalos de confianza para coeficientes de regresión y cómo interpretarlos. Por último, discutiremos el concepto de R-cuadrado y R-cuadrado ajustado y cómo interpretarlos.\n",
    "\n",
    "**Programa:**\n",
    "\n",
    "*Regresión lineal simple - Aplicación*\n",
    "- Implementación de la regresión lineal simple en python\n",
    "- Interpretación de los resultados de la regresión\n",
    "\n",
    "*Pruebas de significación en regresión*\n",
    "- Pruebas de hipótesis para coeficientes de regresión\n",
    "- Intervalos de confianza para coeficientes de regresión\n",
    "- R-cuadrado y R-cuadrado ajustado\n",
    "\n",
    "**Lecturas obligatorias:**\n",
    "[Chapters 11 from \"Applied Statistics and Probability for Engineers\" by Douglas C. Montgomery and George C. Runger.](https://uniandes.primo.exlibrisgroup.com/permalink/57U_UDLA/1sib6to/alma991005387282807681)\n",
    "\n",
    "[Chapters 1,2, and 3 from \"Introduction to linear regression analysis\" by  Douglas C. Montgomery, Elizabeth A. Peck, and Vining G.  Geoffrey](https://uniandes.primo.exlibrisgroup.com/permalink/57U_UDLA/1sib6to/alma991004028619707681)\n",
    "\n",
    "**Material complementario:**\n",
    "1. [\"An Introduction to Statistical Learning: with Applications in R\" by Gareth James, Daniela Witten, Trevor Hastie, and Robert Tibshirani.](https://uniandes.primo.exlibrisgroup.com/permalink/57U_UDLA/1g0omtq/alma991005449699907681)\n",
    "2. [\"Python Data Science Handbook\" by Jake VanderPlas](https://uniandes.primo.exlibrisgroup.com/permalink/57U_UDLA/1g0omtq/alma991005449699907681)\n",
    "3. [\"Python for Data Analysis\" by Wes McKinney](https://uniandes.primo.exlibrisgroup.com/permalink/57U_UDLA/1g0omtq/alma991005449699907681)\n",
    "4. Video: [Simple Linear Regression](https://www.youtube.com/watch?v=ZkjP5RJLQF4)\n",
    "\n",
    "**Tutorial de software:**\n",
    "Tutorial de Python: Correlación y Regresión Lineal Simple en Python\n",
    "**Horario de oficina:**\n",
    "Disponible previa petición. Envíe un correo electrónico para concertar una cita."
   ]
  },
  {
   "cell_type": "markdown",
   "metadata": {
    "id": "Escrc3cIV3ob"
   },
   "source": [
    "**Tareas:**\n",
    "\n",
    "Tarea 1: Recopile un pequeño conjunto de datos de su elección y proporcione una breve descripción estadística utilizando las medidas de tendencia central y dispersión. Utilice técnicas apropiadas de visualización de datos para presentar sus conclusiones. (Fecha de entrega: Semana 2 Clase 1)\n",
    "\n",
    "Tarea 2: Dado un conjunto de datos, determine si sigue una determinada distribución de probabilidad (Normal, Binomial, etc.). Justifique su respuesta utilizando pruebas estadísticas y visualizaciones apropiadas. (Fecha de entrega: Semana 3 Clase 1)\n",
    "\n",
    "Tarea 3: Realice una prueba de hipótesis sobre un conjunto de datos dado. Calcule e interprete los intervalos de confianza para un parámetro poblacional. (Fecha de entrega: Semana 4 Clase 1)\n",
    "\n",
    "Tarea 4: Dado un conjunto de datos, realice un análisis de regresión lineal simple. Compruebe la significación de los coeficientes de regresión, interprete los resultados y presente las conclusiones. (Entrega: Semana 5 Clase 1)"
   ]
  }
 ],
 "metadata": {
  "colab": {
   "provenance": []
  },
  "kernelspec": {
   "display_name": "Python 3",
   "language": "python",
   "name": "python3"
  },
  "language_info": {
   "codemirror_mode": {
    "name": "ipython",
    "version": 3
   },
   "file_extension": ".py",
   "mimetype": "text/x-python",
   "name": "python",
   "nbconvert_exporter": "python",
   "pygments_lexer": "ipython3",
   "version": "3.8.0"
  }
 },
 "nbformat": 4,
 "nbformat_minor": 0
}