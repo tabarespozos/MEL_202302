{
 "cells": [
  {
   "cell_type": "markdown",
   "id": "ee2a152f-9aff-4e23-9d56-db203b863d2c",
   "metadata": {
    "id": "ee2a152f-9aff-4e23-9d56-db203b863d2c"
   },
   "source": [
    "## Lectura 7-2: Predictores categóricos e interacciones\n"
   ]
  },
  {
   "cell_type": "markdown",
   "id": "321f235b",
   "metadata": {},
   "source": [
    "\n",
    "\n",
    "Hasta ahora, en cada uno de nuestros análisis, sólo hemos utilizado variables numéricas como predictores. También hemos utilizado únicamente *modelos aditivos*, lo que significa que el efecto que cualquier predictor tenía sobre la respuesta no dependía de los otros predictores. En este capítulo, eliminaremos estas dos restricciones. Ajustaremos modelos con predictores categóricos y utilizaremos modelos que permiten que los predictores *interactúen*. Las matemáticas de la regresión múltiple permanecerán en gran medida inalteradas, sin embargo, prestaremos mucha atención a la interpretación, así como a algunas diferencias en el uso en `python`.\n"
   ]
  },
  {
   "cell_type": "markdown",
   "id": "809d7f5e",
   "metadata": {
    "id": "809d7f5e"
   },
   "source": [
    "\n",
    "## Variables ficticias\n",
    "\n",
    "En este capítulo, utilizaremos brevemente el conjunto de datos incorporado `mtcars` antes de volver a nuestro conjunto de datos `autompg` que usamos en la lectura anterior. El conjunto de datos `mtcars` es algo más pequeño, por lo que echaremos un vistazo rápidamente a todo el conjunto de datos.\n"
   ]
  },
  {
   "cell_type": "code",
   "execution_count": 78,
   "id": "64e012a4",
   "metadata": {},
   "outputs": [
    {
     "name": "stdout",
     "output_type": "stream",
     "text": [
      "     mpg  cyl   disp   hp  drat     wt   qsec  vs  am  gear  carb\n",
      "0   21.0    6  160.0  110  3.90  2.620  16.46   0   1     4     4\n",
      "1   21.0    6  160.0  110  3.90  2.875  17.02   0   1     4     4\n",
      "2   22.8    4  108.0   93  3.85  2.320  18.61   1   1     4     1\n",
      "3   21.4    6  258.0  110  3.08  3.215  19.44   1   0     3     1\n",
      "4   18.7    8  360.0  175  3.15  3.440  17.02   0   0     3     2\n",
      "5   18.1    6  225.0  105  2.76  3.460  20.22   1   0     3     1\n",
      "6   14.3    8  360.0  245  3.21  3.570  15.84   0   0     3     4\n",
      "7   24.4    4  146.7   62  3.69  3.190  20.00   1   0     4     2\n",
      "8   22.8    4  140.8   95  3.92  3.150  22.90   1   0     4     2\n",
      "9   19.2    6  167.6  123  3.92  3.440  18.30   1   0     4     4\n",
      "10  17.8    6  167.6  123  3.92  3.440  18.90   1   0     4     4\n",
      "11  16.4    8  275.8  180  3.07  4.070  17.40   0   0     3     3\n",
      "12  17.3    8  275.8  180  3.07  3.730  17.60   0   0     3     3\n",
      "13  15.2    8  275.8  180  3.07  3.780  18.00   0   0     3     3\n",
      "14  10.4    8  472.0  205  2.93  5.250  17.98   0   0     3     4\n",
      "15  10.4    8  460.0  215  3.00  5.424  17.82   0   0     3     4\n",
      "16  14.7    8  440.0  230  3.23  5.345  17.42   0   0     3     4\n",
      "17  32.4    4   78.7   66  4.08  2.200  19.47   1   1     4     1\n",
      "18  30.4    4   75.7   52  4.93  1.615  18.52   1   1     4     2\n",
      "19  33.9    4   71.1   65  4.22  1.835  19.90   1   1     4     1\n",
      "20  21.5    4  120.1   97  3.70  2.465  20.01   1   0     3     1\n",
      "21  15.5    8  318.0  150  2.76  3.520  16.87   0   0     3     2\n",
      "22  15.2    8  304.0  150  3.15  3.435  17.30   0   0     3     2\n",
      "23  13.3    8  350.0  245  3.73  3.840  15.41   0   0     3     4\n",
      "24  19.2    8  400.0  175  3.08  3.845  17.05   0   0     3     2\n",
      "25  27.3    4   79.0   66  4.08  1.935  18.90   1   1     4     1\n",
      "26  26.0    4  120.3   91  4.43  2.140  16.70   0   1     5     2\n",
      "27  30.4    4   95.1  113  3.77  1.513  16.90   1   1     5     2\n",
      "28  15.8    8  351.0  264  4.22  3.170  14.50   0   1     5     4\n",
      "29  19.7    6  145.0  175  3.62  2.770  15.50   0   1     5     6\n",
      "30  15.0    8  301.0  335  3.54  3.570  14.60   0   1     5     8\n",
      "31  21.4    4  121.0  109  4.11  2.780  18.60   1   1     4     2\n"
     ]
    }
   ],
   "source": [
    "import pandas as pd\n",
    "import numpy as np\n",
    "import statsmodels.api as sm\n",
    "from statsmodels.sandbox.regression.predstd import wls_prediction_std\n",
    "import matplotlib.pyplot as plt\n",
    "\n",
    "\n",
    "# Please note that you need to install openpyxl to read .xlsx files\n",
    "\n",
    "# Read the .xlsx file\n",
    "mtcars = pd.read_excel('../data/mtcars.xlsx', engine='openpyxl')\n",
    "\n",
    "# Display the dataframe\n",
    "print(mtcars)\n",
    "\n"
   ]
  },
  {
   "cell_type": "markdown",
   "id": "78bcad28",
   "metadata": {
    "id": "78bcad28"
   },
   "source": [
    "\n",
    "Nos interesarán tres de las variables: `mpg`, `hp` y `am`.\n",
    "\n",
    "- `mpg`: eficiencia del combustible, en millas por galón.\n",
    "- `hp`: caballos de fuerza, en libras-pie por segundo.\n",
    "- `am`: transmisión. Automática o manual.\n",
    "\n",
    "Como hacemos a menudo, vamos a empezar por trazar los datos. Estamos interesados en `mpg` como variable de respuesta, y `hp` como predictor."
   ]
  },
  {
   "cell_type": "code",
   "execution_count": 79,
   "id": "79ad5739",
   "metadata": {},
   "outputs": [
    {
     "data": {
      "image/png": "[encoded data removed]",
      "text/plain": [
       "<Figure size 640x480 with 1 Axes>"
      ]
     },
     "metadata": {},
     "output_type": "display_data"
    }
   ],
   "source": [
    "# First plot\n",
    "plt.scatter(mtcars['hp'], mtcars['mpg'], s=20*2)\n",
    "#include line of best fit\n",
    "plt.plot(np.unique(mtcars['hp']), np.poly1d(np.polyfit(mtcars['hp'], mtcars['mpg'], 1))(np.unique(mtcars['hp'])), color='red')\n",
    "plt.xlabel('hp')\n",
    "plt.ylabel('mpg')\n",
    "plt.show()"
   ]
  },
  {
   "cell_type": "markdown",
   "id": "c40fc481",
   "metadata": {
    "id": "c40fc481"
   },
   "source": [
    "\n",
    "Como también nos interesa el tipo de transmisión, también podríamos etiquetar los puntos en consecuencia.\n"
   ]
  },
  {
   "cell_type": "code",
   "execution_count": 80,
   "id": "8092e898",
   "metadata": {},
   "outputs": [
    {
     "data": {
      "image/png": "[encoded data removed]",
      "text/plain": [
       "<Figure size 640x480 with 1 Axes>"
      ]
     },
     "metadata": {},
     "output_type": "display_data"
    }
   ],
   "source": [
    "# Colors and markers based on 'am'\n",
    "colors = mtcars['am'].apply(lambda x: 'red' if x == 0 else 'blue')\n",
    "markers = mtcars['am'].apply(lambda x: 'o' if x == 0 else 's')\n",
    "\n",
    "# Scatter plot\n",
    "for i, marker in enumerate(['o', 's']):\n",
    "    subset = mtcars[mtcars['am'] == i]\n",
    "    plt.scatter(subset['hp'], subset['mpg'], color=colors[subset.index], marker=marker, label='Automatic' if i == 0 else 'Manual')\n",
    "\n",
    "# Line of best fit\n",
    "X = mtcars['hp'].values.reshape(-1, 1)\n",
    "y = mtcars['mpg'].values\n",
    "\n",
    "\n",
    "# Additional configurations\n",
    "plt.legend()\n",
    "plt.xlabel('hp')\n",
    "plt.ylabel('mpg')\n",
    "plt.title('HP vs MPG with Transmission Type differentiation')\n",
    "plt.grid(True)\n",
    "plt.show()"
   ]
  },
  {
   "cell_type": "markdown",
   "id": "197beacb",
   "metadata": {
    "id": "197beacb"
   },
   "source": [
    "\n",
    "\n",
    "Ahora ajustamos el modelo SLR\n",
    "\n",
    "$$ Y = \\beta_0 + \\beta_1 x_1 + \\epsilon, $$ \n",
    "\n",
    "donde $Y$ es `mpg` y $x_1$ es `hp`. Por brevedad, suprimimos el índice $i$ para las observaciones.\n"
   ]
  },
  {
   "cell_type": "code",
   "execution_count": 81,
   "id": "abead842",
   "metadata": {},
   "outputs": [],
   "source": [
    "# Linear regression\n",
    "model = sm.OLS(mtcars['mpg'], sm.add_constant(mtcars[['hp']]))\n",
    "mpg_hp_slr = model.fit()"
   ]
  },
  {
   "cell_type": "markdown",
   "id": "e7cb4610",
   "metadata": {
    "id": "e7cb4610"
   },
   "source": [
    "A continuación, volvemos a representar los datos y añadimos la línea ajustada al gráfico."
   ]
  },
  {
   "cell_type": "code",
   "execution_count": 82,
   "id": "5a4c4f10",
   "metadata": {},
   "outputs": [
    {
     "data": {
      "image/png": "[encoded data removed]",
      "text/plain": [
       "<Figure size 640x480 with 1 Axes>"
      ]
     },
     "metadata": {},
     "output_type": "display_data"
    }
   ],
   "source": [
    "\n",
    "# Colors and markers based on 'am'\n",
    "colors = mtcars['am'].apply(lambda x: 'red' if x == 0 else 'blue')\n",
    "markers = mtcars['am'].apply(lambda x: 'o' if x == 0 else 's')\n",
    "\n",
    "# Scatter plot\n",
    "for i, marker in enumerate(['o', 's']):\n",
    "    subset = mtcars[mtcars['am'] == i]\n",
    "    plt.scatter(subset['hp'], subset['mpg'], color=colors[subset.index], marker=marker, label='Automatic' if i == 0 else 'Manual')\n",
    "\n",
    "# Line of best fit\n",
    "X_for_prediction = sm.add_constant(mtcars[['hp']])\n",
    "plt.plot(mtcars['hp'], mpg_hp_slr.predict(X_for_prediction), color='gray', linestyle='--')\n",
    "\n",
    "# Additional configurations\n",
    "plt.legend()\n",
    "plt.xlabel('hp')\n",
    "plt.ylabel('mpg')\n",
    "plt.title('HP vs MPG with Transmission Type differentiation')\n",
    "plt.grid(True)\n",
    "plt.show()"
   ]
  },
  {
   "cell_type": "markdown",
   "id": "7c6a6f15",
   "metadata": {
    "id": "7c6a6f15"
   },
   "source": [
    "\n",
    "Deberíamos notar un patrón aquí. Las observaciones manuales azules se sitúan en gran medida por encima de la línea, mientras que las observaciones automáticas rojas se sitúan en su mayoría por debajo de la línea. Esto significa que nuestro modelo subestima la eficiencia de combustible de las transmisiones manuales, y sobreestima la eficiencia de combustible de las transmisiones automáticas. Para corregir esto, vamos a añadir un predictor a nuestro modelo, a saber, `am` como $x_2$.\n",
    "\n",
    "Nuestro nuevo modelo es\n",
    "\n",
    "$$ Y = \\beta_0 + \\beta_1 x_1 + \\beta_2 x_2 + \\epsilon, $$ \n",
    "\n",
    "donde $x_1$ y $Y$ siguen siendo los mismos, pero ahora\n",
    "\n",
    "$$ \n",
    "x_2 =\n",
    "  \\begin{cases}\n",
    "   1 & \\text{manual transmission} \\\\\n",
    "   0       & \\text{automatic transmission}\n",
    "  \\end{cases}.\n",
    "$$ \n",
    "\n",
    "En este caso, llamamos a $x_2$ una **variable dummy**. Una variable dummy (o ficticia) tiene un nombre un tanto desafortunado, ya que no es en absoluto \"tonta\". De hecho, es algo inteligente. Una variable de este tipo es una variable numérica que se utiliza en un análisis de regresión para \"codificar\" una variable categórica binaria. Veamos cómo funciona.\n",
    "\n",
    "- En primer lugar, observe que `am` ya es una variable ficticia, puesto que utiliza los valores `0` y `1` para representar las transmisiones automática y manual. A menudo, una variable como `am` almacenaría los valores de carácter `auto` y `man` y tendríamos que convertirlos a `0` y `1` o, como veremos más adelante, `Python` se encargará de crear variables ficticias por nosotros.\n",
    "\n",
    "Así que, para ajustar el modelo anterior, lo hacemos como cualquier otro modelo de regresión múltiple que hayamos visto antes.\n"
   ]
  },
  {
   "cell_type": "code",
   "execution_count": 83,
   "id": "ec907a99",
   "metadata": {},
   "outputs": [
    {
     "name": "stdout",
     "output_type": "stream",
     "text": [
      "                            OLS Regression Results                            \n",
      "==============================================================================\n",
      "Dep. Variable:                    mpg   R-squared:                       0.782\n",
      "Model:                            OLS   Adj. R-squared:                  0.767\n",
      "Method:                 Least Squares   F-statistic:                     52.02\n",
      "Date:                Tue, 19 Sep 2023   Prob (F-statistic):           2.55e-10\n",
      "Time:                        21:35:40   Log-Likelihood:                -78.003\n",
      "No. Observations:                  32   AIC:                             162.0\n",
      "Df Residuals:                      29   BIC:                             166.4\n",
      "Df Model:                           2                                         \n",
      "Covariance Type:            nonrobust                                         \n",
      "==============================================================================\n",
      "                 coef    std err          t      P>|t|      [0.025      0.975]\n",
      "------------------------------------------------------------------------------\n",
      "Intercept     26.5849      1.425     18.655      0.000      23.670      29.500\n",
      "hp            -0.0589      0.008     -7.495      0.000      -0.075      -0.043\n",
      "am             5.2771      1.080      4.888      0.000       3.069       7.485\n",
      "==============================================================================\n",
      "Omnibus:                        0.879   Durbin-Watson:                   1.457\n",
      "Prob(Omnibus):                  0.644   Jarque-Bera (JB):                0.805\n",
      "Skew:                           0.117   Prob(JB):                        0.669\n",
      "Kurtosis:                       2.259   Cond. No.                         495.\n",
      "==============================================================================\n",
      "\n",
      "Notes:\n",
      "[1] Standard Errors assume that the covariance matrix of the errors is correctly specified.\n"
     ]
    }
   ],
   "source": [
    "import statsmodels.formula.api as smf\n",
    "\n",
    "# Regression\n",
    "mpg_hp_add = smf.ols('mpg ~ hp + am', data=mtcars).fit()\n",
    "print(mpg_hp_add.summary())"
   ]
  },
  {
   "cell_type": "markdown",
   "id": "57f18670",
   "metadata": {
    "id": "57f18670"
   },
   "source": [
    "\n",
    "Comprobando brevemente la salida, vemos que `Python` ha estimado los tres parámetros $\\beta$.\n"
   ]
  },
  {
   "cell_type": "code",
   "execution_count": 84,
   "id": "ba5bb45e",
   "metadata": {},
   "outputs": [
    {
     "data": {
      "text/plain": [
       "Intercept    26.584914\n",
       "hp           -0.058888\n",
       "am            5.277085\n",
       "dtype: float64"
      ]
     },
     "execution_count": 84,
     "metadata": {},
     "output_type": "execute_result"
    }
   ],
   "source": [
    "mpg_hp_add.params"
   ]
  },
  {
   "cell_type": "markdown",
   "id": "5cdf43fb",
   "metadata": {
    "id": "5cdf43fb"
   },
   "source": [
    "\n",
    "Dado que $x_2$ sólo puede tomar valores `0` y `1`, podemos escribir efectivamente dos modelos diferentes, uno para transmisiones manuales y otro para transmisiones automáticas.\n",
    "\n",
    "Para transmisiones automáticas, es decir $x_2 = 0$, tenemos,\n",
    "\n",
    "$$ Y = \\beta_0 + \\beta_1 x_1 + \\epsilon. $$\n",
    "\n",
    "Entonces para transmisiones manuales, es decir $x_2 = 1$, tenemos,\n",
    "\n",
    "$$ Y = (\\beta_0 + \\beta_2) + \\beta_1 x_1 + \\epsilon. $$ \n",
    "\n",
    "Observe que estos modelos comparten la misma pendiente, $\\beta_1$, pero tienen diferentes interceptos, que difieren en $\\beta_2$. Así que el cambio en `mpg` es el mismo para ambos modelos, pero en promedio `mpg` difiere en $\\beta_2$ entre los dos tipos de transmisión.\n",
    "\n",
    "Ahora vamos a calcular la pendiente estimada y el intercepto de estos dos modelos para que podamos añadirlos a un gráfico. Tenga en cuenta que:\n",
    "\n",
    "-   $\\hat{\\beta}_0$ = `26.584914`\n",
    "-   $\\hat{\\beta}_1$ = ` -0.05888`\n",
    "-   $\\hat{\\beta}_2$ = ` 5.277085`\n",
    "\n",
    "A continuación, podemos combinarlos para calcular la pendiente y los interceptos estimados.\n"
   ]
  },
  {
   "cell_type": "code",
   "execution_count": 85,
   "id": "d4ab6aba",
   "metadata": {},
   "outputs": [
    {
     "name": "stdout",
     "output_type": "stream",
     "text": [
      "26.584913747970575\n",
      "31.861999056149198\n"
     ]
    }
   ],
   "source": [
    "# Extract coefficients\n",
    "int_auto = mpg_hp_add.params['Intercept']\n",
    "int_manu = mpg_hp_add.params['Intercept'] + mpg_hp_add.params['am']\n",
    "\n",
    "print(int_auto)\n",
    "print(int_manu)"
   ]
  },
  {
   "cell_type": "code",
   "execution_count": 86,
   "id": "15a461cb",
   "metadata": {},
   "outputs": [
    {
     "name": "stdout",
     "output_type": "stream",
     "text": [
      "-0.05888780335351099\n",
      "-0.05888780335351099\n"
     ]
    }
   ],
   "source": [
    "slope_auto = mpg_hp_add.params['hp']\n",
    "slope_manu = mpg_hp_add.params['hp']\n",
    "\n",
    "print(slope_auto)\n",
    "print(slope_manu)"
   ]
  },
  {
   "cell_type": "markdown",
   "id": "ce6acb01",
   "metadata": {
    "id": "ce6acb01"
   },
   "source": [
    "\n",
    "Al volver a representar los datos, utilizamos estas pendientes e interceptos para añadir los \"dos\" modelos ajustados al gráfico."
   ]
  },
  {
   "cell_type": "code",
   "execution_count": 87,
   "id": "c10766ed",
   "metadata": {},
   "outputs": [
    {
     "data": {
      "image/png": "[encoded data removed]",
      "text/plain": [
       "<Figure size 640x480 with 1 Axes>"
      ]
     },
     "metadata": {},
     "output_type": "display_data"
    }
   ],
   "source": [
    "\n",
    "# Colors and markers based on 'am'\n",
    "colors = mtcars['am'].apply(lambda x: 'red' if x == 0 else 'blue')\n",
    "markers = mtcars['am'].apply(lambda x: 'o' if x == 0 else 's')\n",
    "\n",
    "# Scatter plot\n",
    "for i, marker in enumerate(['o', 's']):\n",
    "    subset = mtcars[mtcars['am'] == i]\n",
    "    plt.scatter(subset['hp'], subset['mpg'], color=colors[subset.index], marker=marker, label='Automatic' if i == 0 else 'Manual')\n",
    "\n",
    "# Add regression lines\n",
    "x = np.linspace(min(mtcars['hp']), max(mtcars['hp']), 100)\n",
    "plt.plot(x, int_auto + slope_auto * x, color='C1', linestyle='-', linewidth=2)\n",
    "plt.plot(x, int_manu + slope_manu * x, color='C2', linestyle='--', linewidth=2)\n",
    "\n",
    "# Additional configurations\n",
    "plt.legend()\n",
    "plt.xlabel('hp')\n",
    "plt.ylabel('mpg')\n",
    "plt.title('HP vs MPG with Transmission Type differentiation')\n",
    "plt.grid(True)\n",
    "plt.show()"
   ]
  },
  {
   "cell_type": "markdown",
   "id": "0703e8cb",
   "metadata": {
    "id": "0703e8cb"
   },
   "source": [
    "Observamos enseguida que los puntos ya no son sistemáticamente incorrectos. Las observaciones rojas, manuales, varían en torno a la línea roja sin ningún patrón particular, sin subestimar las observaciones como antes. Los puntos negros, automáticos, varían en torno a la línea negra, también sin un patrón evidente.\n",
    "\n",
    "Dicen que una imagen vale más que mil palabras, pero como estadístico, a veces una imagen vale más que todo un análisis. La imagen anterior hace claramente obvio que $\\beta_2$ es significativo, pero vamos a verificar matemáticamente. Esencialmente nos gustaría probar:\n",
    "\n",
    "$$\n",
    "H_0: \\beta_2 = 0 \\quad \\text{vs} \\quad H_1: \\beta_2 \\neq 0.\n",
    "$$ \n",
    "\n",
    "Esto no es nada nuevo. De nuevo, las matemáticas son las mismas que las de los análisis de regresión múltiple que hemos visto antes. Podríamos realizar aquí una prueba $t$ o $F$. La única diferencia es un ligero cambio en la interpretación. Podríamos pensar en esto como una prueba de un modelo con una sola línea ($H_0$) contra un modelo que permite dos líneas ($H_1$).\n",
    "\n",
    "Para obtener el estadístico de prueba y el valor p para la prueba $t$, utilizaríamos"
   ]
  },
  {
   "cell_type": "code",
   "execution_count": 88,
   "id": "aa6f225a",
   "metadata": {},
   "outputs": [
    {
     "name": "stdout",
     "output_type": "stream",
     "text": [
      "             coef    std err          t   P>|t|     [0.025     0.975]\n",
      "2  am      5.2771      1.080      4.888   0.000      3.069      7.485\n"
     ]
    }
   ],
   "source": [
    "# Extract the 'am' coefficient details from the summary\n",
    "summary_df = pd.DataFrame(mpg_hp_add.summary().tables[1].data[1:], columns=mpg_hp_add.summary().tables[1].data[0])\n",
    "am_coeff = summary_df[summary_df[''] == 'am']\n",
    "print(am_coeff)\n"
   ]
  },
  {
   "cell_type": "markdown",
   "id": "c2e473e1",
   "metadata": {
    "id": "c2e473e1"
   },
   "source": [
    "\n",
    "Para hacer lo mismo con la prueba $F$, utilizaríamos\n"
   ]
  },
  {
   "cell_type": "code",
   "execution_count": 89,
   "id": "59e4258f",
   "metadata": {},
   "outputs": [
    {
     "name": "stdout",
     "output_type": "stream",
     "text": [
      "   df_resid         ssr  df_diff     ss_diff          F    Pr(>F)\n",
      "0      30.0  447.674314      0.0         NaN        NaN       NaN\n",
      "1      29.0  245.439288      1.0  202.235025  23.895179  0.000035\n"
     ]
    }
   ],
   "source": [
    "# Perform ANOVA test between the two models\n",
    "anova_results = sm.stats.anova_lm(mpg_hp_slr, mpg_hp_add, typ=1)\n",
    "\n",
    "print(anova_results)"
   ]
  },
  {
   "cell_type": "markdown",
   "id": "a8a832e9",
   "metadata": {
    "id": "a8a832e9"
   },
   "source": [
    "\n",
    "Observe que, en efecto, se trata de la misma prueba, ya que los valores p son exactamente iguales. (Y el estadístico de prueba $F$ es el estadístico de prueba $t$ al cuadrado).\n",
    "\n",
    "Recapitulando algunas interpretaciones:\n",
    "\n",
    "-   $\\hat{\\beta}_0 = 26.58$ es el consumo medio estimado para un coche con transmisión automática y **0** `hp`.\n",
    "\n",
    "-   $\\hat{\\beta}_0 + \\hat{\\beta}_2 = 31.86$  es la media estimada de \"mpg\" de un coche con transmisión manual\n",
    "y **0** `hp`.\n",
    "\n",
    "-   $\\hat{\\beta}_2 = 5.27$ es la **diferencia** estimada en la media de `mpg` de los carros con transmisión manual respecto a los de transmisión automática, para **cualquier** `hp`.\n",
    "\n",
    "-   $\\hat{\\beta}_1 = -0.058$ es el cambio estimado en la media de `mpg` para un aumento de un `hp`, para **cualquiera** de los tipos de transmisión.\n",
    "\n",
    "Debemos prestar especial atención a los dos últimos. En el modelo,\n",
    "\n",
    "$$\n",
    "Y = \\beta_0 + \\beta_1 x_1 + \\beta_2 x_2 + \\epsilon,\n",
    "$$\n",
    "\n",
    "\n",
    "\n",
    "Vemos que $\\beta_1$ es el cambio medio en $Y$ para un aumento en $x_1$, *sin importar* el valor de $x_2$. Además, $\\beta_2$ es siempre la diferencia en la media de $Y$ para *cualquier* valor de $x_1$. Estas son dos restricciones que no siempre vamos a querer, por lo que necesitamos una manera de especificar un modelo más flexible.\n",
    "\n",
    "Aquí nos limitamos a un único predictor numérico $x_1$ y una variable ficticia $x_2$. Sin embargo, el concepto de variable ficticia puede utilizarse con modelos de regresión múltiple más amplios. Aquí sólo utilizamos un único predictor numérico para facilitar la visualización, ya que podemos pensar en la interpretación de \"dos líneas\". Pero en general, podemos pensar en una variable ficticia como la creación de \"dos modelos\", uno para cada categoría de una variable categórica binaria.\n"
   ]
  },
  {
   "cell_type": "markdown",
   "id": "426a02ee",
   "metadata": {
    "id": "426a02ee"
   },
   "source": [
    "\n",
    "## Interacciones\n",
    "\n",
    "Para eliminar la restricción de la \"misma pendiente\", hablaremos ahora de **interacción**. Para ilustrar este concepto, volveremos al conjunto de datos `autompg` que creamos en una anterior lectura,  con algunas modificaciones más.\n"
   ]
  },
  {
   "cell_type": "code",
   "execution_count": 90,
   "id": "fbfa76aa",
   "metadata": {},
   "outputs": [
    {
     "name": "stdout",
     "output_type": "stream",
     "text": [
      "<class 'pandas.core.frame.DataFrame'>\n",
      "Index: 383 entries, 8 cylinder 70 chevrolet chevelle malibu to 4 cylinder 82 chevy s-10\n",
      "Data columns (total 9 columns):\n",
      " #   Column    Non-Null Count  Dtype   \n",
      "---  ------    --------------  -----   \n",
      " 0   mpg       383 non-null    float64 \n",
      " 1   cyl       383 non-null    category\n",
      " 2   disp      383 non-null    float64 \n",
      " 3   hp        383 non-null    float64 \n",
      " 4   wt        383 non-null    float64 \n",
      " 5   acc       383 non-null    float64 \n",
      " 6   year      383 non-null    int64   \n",
      " 7   origin    383 non-null    int64   \n",
      " 8   domestic  383 non-null    int32   \n",
      "dtypes: category(1), float64(5), int32(1), int64(2)\n",
      "memory usage: 25.9+ KB\n",
      "None\n"
     ]
    }
   ],
   "source": [
    "import pandas as pd\n",
    "\n",
    "# Read data frame from the web\n",
    "url = \"http://archive.ics.uci.edu/ml/machine-learning-databases/auto-mpg/auto-mpg.data\"\n",
    "autompg = pd.read_csv(url, sep=\"\\s+\", header=None, comment=\"\\t\", quotechar=\"\\\"\", na_values=[\"?\"])\n",
    "\n",
    "# Assign headers to the dataframe\n",
    "autompg.columns = [\"mpg\", \"cyl\", \"disp\", \"hp\", \"wt\", \"acc\", \"year\", \"origin\", \"name\"]\n",
    "\n",
    "# Remove rows with missing 'hp' data\n",
    "autompg = autompg[autompg['hp'].notna()]\n",
    "\n",
    "# Remove 'plymouth reliant'\n",
    "autompg = autompg[autompg['name'] != \"plymouth reliant\"]\n",
    "\n",
    "# Create row names based on the engine, year, and name\n",
    "autompg.index = autompg['cyl'].astype(str) + \" cylinder \" + autompg['year'].astype(str) + \" \" + autompg['name']\n",
    "\n",
    "# Drop the 'name' column\n",
    "autompg.drop('name', axis=1, inplace=True)\n",
    "\n",
    "# Convert horsepower from object to numeric\n",
    "autompg['hp'] = pd.to_numeric(autompg['hp'], errors='coerce')\n",
    "\n",
    "# Create a dummy variable for foreign vs. domestic cars. Domestic = 1.\n",
    "autompg['domestic'] = (autompg['origin'] == 1).astype(int)\n",
    "\n",
    "# Remove 3 and 5 cylinder cars\n",
    "autompg = autompg[~autompg['cyl'].isin([3, 5])]\n",
    "\n",
    "# Change 'cyl' to a category variable\n",
    "autompg['cyl'] = autompg['cyl'].astype('category')\n",
    "\n",
    "# Display the structure (similar to str in R)\n",
    "print(autompg.info())\n"
   ]
  },
  {
   "cell_type": "code",
   "execution_count": 91,
   "id": "eec07cec",
   "metadata": {},
   "outputs": [
    {
     "data": {
      "text/html": [
       "<div>\n",
       "<style scoped>\n",
       "    .dataframe tbody tr th:only-of-type {\n",
       "        vertical-align: middle;\n",
       "    }\n",
       "\n",
       "    .dataframe tbody tr th {\n",
       "        vertical-align: top;\n",
       "    }\n",
       "\n",
       "    .dataframe thead th {\n",
       "        text-align: right;\n",
       "    }\n",
       "</style>\n",
       "<table border=\"1\" class=\"dataframe\">\n",
       "  <thead>\n",
       "    <tr style=\"text-align: right;\">\n",
       "      <th></th>\n",
       "      <th>mpg</th>\n",
       "      <th>cyl</th>\n",
       "      <th>disp</th>\n",
       "      <th>hp</th>\n",
       "      <th>wt</th>\n",
       "      <th>acc</th>\n",
       "      <th>year</th>\n",
       "      <th>origin</th>\n",
       "      <th>domestic</th>\n",
       "    </tr>\n",
       "  </thead>\n",
       "  <tbody>\n",
       "    <tr>\n",
       "      <th>8 cylinder 70 chevrolet chevelle malibu</th>\n",
       "      <td>18.0</td>\n",
       "      <td>8</td>\n",
       "      <td>307.0</td>\n",
       "      <td>130.0</td>\n",
       "      <td>3504.0</td>\n",
       "      <td>12.0</td>\n",
       "      <td>70</td>\n",
       "      <td>1</td>\n",
       "      <td>1</td>\n",
       "    </tr>\n",
       "    <tr>\n",
       "      <th>8 cylinder 70 buick skylark 320</th>\n",
       "      <td>15.0</td>\n",
       "      <td>8</td>\n",
       "      <td>350.0</td>\n",
       "      <td>165.0</td>\n",
       "      <td>3693.0</td>\n",
       "      <td>11.5</td>\n",
       "      <td>70</td>\n",
       "      <td>1</td>\n",
       "      <td>1</td>\n",
       "    </tr>\n",
       "    <tr>\n",
       "      <th>8 cylinder 70 plymouth satellite</th>\n",
       "      <td>18.0</td>\n",
       "      <td>8</td>\n",
       "      <td>318.0</td>\n",
       "      <td>150.0</td>\n",
       "      <td>3436.0</td>\n",
       "      <td>11.0</td>\n",
       "      <td>70</td>\n",
       "      <td>1</td>\n",
       "      <td>1</td>\n",
       "    </tr>\n",
       "    <tr>\n",
       "      <th>8 cylinder 70 amc rebel sst</th>\n",
       "      <td>16.0</td>\n",
       "      <td>8</td>\n",
       "      <td>304.0</td>\n",
       "      <td>150.0</td>\n",
       "      <td>3433.0</td>\n",
       "      <td>12.0</td>\n",
       "      <td>70</td>\n",
       "      <td>1</td>\n",
       "      <td>1</td>\n",
       "    </tr>\n",
       "    <tr>\n",
       "      <th>8 cylinder 70 ford torino</th>\n",
       "      <td>17.0</td>\n",
       "      <td>8</td>\n",
       "      <td>302.0</td>\n",
       "      <td>140.0</td>\n",
       "      <td>3449.0</td>\n",
       "      <td>10.5</td>\n",
       "      <td>70</td>\n",
       "      <td>1</td>\n",
       "      <td>1</td>\n",
       "    </tr>\n",
       "  </tbody>\n",
       "</table>\n",
       "</div>"
      ],
      "text/plain": [
       "                                          mpg cyl   disp     hp      wt   acc  \\\n",
       "8 cylinder 70 chevrolet chevelle malibu  18.0   8  307.0  130.0  3504.0  12.0   \n",
       "8 cylinder 70 buick skylark 320          15.0   8  350.0  165.0  3693.0  11.5   \n",
       "8 cylinder 70 plymouth satellite         18.0   8  318.0  150.0  3436.0  11.0   \n",
       "8 cylinder 70 amc rebel sst              16.0   8  304.0  150.0  3433.0  12.0   \n",
       "8 cylinder 70 ford torino                17.0   8  302.0  140.0  3449.0  10.5   \n",
       "\n",
       "                                         year  origin  domestic  \n",
       "8 cylinder 70 chevrolet chevelle malibu    70       1         1  \n",
       "8 cylinder 70 buick skylark 320            70       1         1  \n",
       "8 cylinder 70 plymouth satellite           70       1         1  \n",
       "8 cylinder 70 amc rebel sst                70       1         1  \n",
       "8 cylinder 70 ford torino                  70       1         1  "
      ]
     },
     "execution_count": 91,
     "metadata": {},
     "output_type": "execute_result"
    }
   ],
   "source": [
    "autompg.head()"
   ]
  },
  {
   "cell_type": "markdown",
   "id": "5e38a687",
   "metadata": {
    "id": "5e38a687"
   },
   "source": [
    "\n",
    "Hemos eliminado los carros con `3` y `5` cilindros, así como creado una nueva variable `domestic` que indica si un coche fue fabricado o no en Estados Unidos. La eliminación de los cilindros `3` y `5` es simplemente para facilitar la demostración más adelante en la lectura y no se haría en la práctica. La nueva variable `domestic` toma el valor `1` si el coche fue construido en Estados Unidos, y `0` en caso contrario, a lo que nos referiremos como \"extranjero\". (También hemos convertido `cyl` y `origin` en variables factoriales, de las que hablaremos más adelante.\n",
    "\n",
    "Ahora nos ocuparemos de tres variables: `mpg`, `disp` y `doméstico`. Utilizaremos `mpg` como respuesta. Podemos ajustar un modelo,\n",
    "\n",
    "\n",
    "$$ \n",
    "Y = \\beta_0 + \\beta_1 x_1 + \\beta_2 x_2 + \\epsilon,\n",
    "$$\n",
    "\n",
    "donde\n",
    "\n",
    "-   $Y$ es `mpg`, la eficiencia del combustible en millas por galón,\n",
    "-   $x_1$ es `disp`,la cilindrada en pulgadas cúbicas,\n",
    "-   $x_2$ es `domestic` como se ha descrito anteriormente, que es una variable ficticia.\n",
    "\n",
    "$$\n",
    "x_2 =\n",
    "  \\begin{cases}\n",
    "   1 & \\text{Domestic} \\\\\n",
    "   0 & \\text{Foreign}\n",
    "  \\end{cases}\n",
    "$$\n",
    "\n",
    "Ajustaremos este modelo, extraeremos la pendiente y la intersección de las \"dos rectas\", representaremos los datos y sumaremos las rectas.\n"
   ]
  },
  {
   "cell_type": "code",
   "execution_count": 92,
   "id": "78d39a22",
   "metadata": {},
   "outputs": [
    {
     "data": {
      "image/png": "[encoded data removed]",
      "text/plain": [
       "<Figure size 640x480 with 1 Axes>"
      ]
     },
     "metadata": {},
     "output_type": "display_data"
    }
   ],
   "source": [
    "\n",
    "# Assuming 'autompg' dataframe is already loaded as in the previous conversion.\n",
    "\n",
    "# Fit linear regression model\n",
    "X = autompg[['disp', 'domestic']]\n",
    "X = sm.add_constant(X)  # Add a constant for the intercept\n",
    "mpg_disp_add= sm.OLS(autompg['mpg'], X).fit()\n",
    "\n",
    "# Get coefficients\n",
    "int_for = mpg_disp_add.params['const']\n",
    "int_dom = mpg_disp_add.params['const'] + mpg_disp_add.params['domestic']\n",
    "slope_for = mpg_disp_add.params['disp']\n",
    "slope_dom = mpg_disp_add .params['disp']\n",
    "\n",
    "# Plotting\n",
    "colors = autompg['domestic'] + 1\n",
    "plt.scatter(autompg['disp'], autompg['mpg'], c=colors, marker='o', s=50, cmap='viridis')\n",
    "plt.xlabel('disp')\n",
    "plt.ylabel('mpg')\n",
    "\n",
    "# Adding regression lines\n",
    "x_vals = autompg['disp'].values\n",
    "plt.plot(x_vals, int_for + slope_for * x_vals, color='blue', linewidth=2, label='Foreign cars')\n",
    "plt.plot(x_vals, int_dom + slope_dom * x_vals, color='red', linestyle='--', linewidth=2, label='Domestic cars')\n",
    "\n",
    "# Adding legend\n",
    "plt.legend(loc='upper right')\n",
    "plt.show()\n"
   ]
  },
  {
   "cell_type": "markdown",
   "id": "2cb3ae75",
   "metadata": {
    "id": "2cb3ae75"
   },
   "source": [
    "\n",
    "Se trata de un modelo que tiene en cuenta dos líneas *paralelas*, lo que significa que los `mpg` pueden ser diferentes de media entre carros extranjeros y nacionales de la misma cilindrada, pero el cambio en los `mpg` medios para un aumento de la cilindrada es el mismo para ambos. Podemos ver que este modelo no funciona muy bien aquí. La línea roja se ajusta bastante bien a los puntos amarillos, pero la línea azul no lo hace muy bien para los puntos violeta, debería tener claramente una pendiente más negativa. Esencialmente, nos gustaría un modelo que permita dos pendientes diferentes.\n",
    "\n",
    "Consideremos el siguiente modelo,\n",
    "\n",
    "$$ \n",
    "Y = \\beta_0 + \\beta_1 x_1 + \\beta_2 x_2 + \\beta_3 x_1 x_2 + \\epsilon,\n",
    "$$\n",
    "\n",
    "donde $x_1$, $x_2$, y $Y$ son los mismos que antes, pero hemos añadido un nuevo término de **interacción** $x_1 x_2$ que multiplica $x_1$ y $x_2$, por lo que también tenemos un parámetro $\\beta$ adicional $\\beta_3.$\n",
    "\n",
    "Este modelo crea esencialmente dos pendientes y dos interceptos, siendo $\\beta_2$ la diferencia en interceptos y $\\beta_3$ la diferencia en pendientes. Para ver esto, vamos a desglosar el modelo en los dos \"submodelos\" para los carros extranjeros y nacionales.\n",
    "\n",
    "Para los carros extranjeros, es decir $x_2 = 0$, tenemos\n",
    "\n",
    "$$\n",
    "Y = \\beta_0 + \\beta_1 x_1 + \\epsilon.\n",
    "$$\n",
    "\n",
    "Para los carros nacionales, es decir $x_2 = 1$, tenemos\n",
    "\n",
    "$$\n",
    "Y = (\\beta_0 + \\beta_2) + (\\beta_1 + \\beta_3) x_1 + \\epsilon.\n",
    "$$\n",
    "\n",
    "\n",
    "Estos dos modelos tienen pendientes e interceptos diferentes.\n",
    "\n",
    "-   $\\beta_0$ es la media de `mpg` de un coche extranjero con **0** `disp`.\n",
    "-   $\\beta_1$ es el cambio en la media de `mpg` para un aumento de un `disp`, para carros **extranjeros**.\n",
    "-   $\\beta_0 + \\beta_2$ es la media de `mpg` de un coche nacional con\n",
    "    **0** `disp`.\n",
    "-   $\\beta_1 + \\beta_3$ es el cambio en la media de `mpg` para un aumento de un `disp`, para carros **domésticos**.\n",
    "\n",
    "¿Cómo ajustamos este modelo en `Python`? Hay varias formas de hacerlo.\n",
    "\n",
    "Un método sería simplemente crear una nueva variable, y luego ajustar un modelo como cualquier otro.\n"
   ]
  },
  {
   "cell_type": "code",
   "execution_count": 93,
   "id": "66eebc4b",
   "metadata": {},
   "outputs": [],
   "source": [
    "# Create interaction term\n",
    "autompg['x3'] = autompg['disp'] * autompg['domestic']\n"
   ]
  },
  {
   "cell_type": "markdown",
   "id": "c96f2c3a",
   "metadata": {
    "id": "c96f2c3a"
   },
   "source": [
    "\n",
    "Sólo debe hacerlo como último recurso. Preferimos no tener que modificar nuestros datos simplemente para ajustar un modelo. En su lugar, podemos decirle a `Python` que nos gustaría utilizar los datos existentes con un término de interacción.\n"
   ]
  },
  {
   "cell_type": "code",
   "execution_count": 94,
   "id": "2b2aea75",
   "metadata": {},
   "outputs": [],
   "source": [
    "# Interaction term (though we don't really need to create it manually with the formula API)\n",
    "autompg['x3'] = autompg['disp'] * autompg['domestic']\n",
    "\n",
    "# Fit linear regression models\n",
    "model_int = smf.ols('mpg ~ disp + domestic + x3', data=autompg).fit()\n"
   ]
  },
  {
   "cell_type": "markdown",
   "id": "8b1cafc3",
   "metadata": {
    "id": "8b1cafc3"
   },
   "source": [
    "Un método alternativo, que se ajustará exactamente al mismo modelo que el anterior, sería utilizar el operador `*`. Este método crea automáticamente el término de interacción, así como cualquier \"término de orden inferior\", que en este caso son los términos de primer orden para `disp` y `domestic`.\n"
   ]
  },
  {
   "cell_type": "code",
   "execution_count": 95,
   "id": "e37dd0a8",
   "metadata": {},
   "outputs": [],
   "source": [
    "model_int2 = smf.ols('mpg ~ disp * domestic', data=autompg).fit()  # Equivalent to the previous model\n"
   ]
  },
  {
   "cell_type": "markdown",
   "id": "121ddb96",
   "metadata": {
    "id": "121ddb96"
   },
   "source": [
    "\n",
    "Podemos comprobar rápidamente que hacen lo mismo.\n"
   ]
  },
  {
   "cell_type": "code",
   "execution_count": 96,
   "id": "d36c9b0d",
   "metadata": {},
   "outputs": [
    {
     "name": "stdout",
     "output_type": "stream",
     "text": [
      "Intercept    46.054842\n",
      "disp         -0.156924\n",
      "domestic    -12.575471\n",
      "x3            0.102518\n",
      "dtype: float64\n",
      "Intercept        46.054842\n",
      "disp             -0.156924\n",
      "domestic        -12.575471\n",
      "disp:domestic     0.102518\n",
      "dtype: float64\n"
     ]
    }
   ],
   "source": [
    "# Print coefficients\n",
    "print(model_int.params)\n",
    "print(model_int2.params)"
   ]
  },
  {
   "cell_type": "markdown",
   "id": "95ebef8e",
   "metadata": {
    "id": "95ebef8e"
   },
   "source": [
    "\n",
    "Vemos que tanto las variables como las estimaciones de sus coeficientes son efectivamente las mismas para ambos modelos.\n"
   ]
  },
  {
   "cell_type": "code",
   "execution_count": 97,
   "id": "69fdeb15",
   "metadata": {},
   "outputs": [
    {
     "name": "stdout",
     "output_type": "stream",
     "text": [
      "                            OLS Regression Results                            \n",
      "==============================================================================\n",
      "Dep. Variable:                    mpg   R-squared:                       0.701\n",
      "Model:                            OLS   Adj. R-squared:                  0.699\n",
      "Method:                 Least Squares   F-statistic:                     296.3\n",
      "Date:                Tue, 19 Sep 2023   Prob (F-statistic):           5.41e-99\n",
      "Time:                        21:35:41   Log-Likelihood:                -1100.8\n",
      "No. Observations:                 383   AIC:                             2210.\n",
      "Df Residuals:                     379   BIC:                             2225.\n",
      "Df Model:                           3                                         \n",
      "Covariance Type:            nonrobust                                         \n",
      "=================================================================================\n",
      "                    coef    std err          t      P>|t|      [0.025      0.975]\n",
      "---------------------------------------------------------------------------------\n",
      "Intercept        46.0548      1.806     25.504      0.000      42.504      49.606\n",
      "disp             -0.1569      0.017     -9.407      0.000      -0.190      -0.124\n",
      "domestic        -12.5755      1.956     -6.428      0.000     -16.422      -8.729\n",
      "disp:domestic     0.1025      0.017      6.060      0.000       0.069       0.136\n",
      "==============================================================================\n",
      "Omnibus:                       52.188   Durbin-Watson:                   0.865\n",
      "Prob(Omnibus):                  0.000   Jarque-Bera (JB):               77.495\n",
      "Skew:                           0.879   Prob(JB):                     1.49e-17\n",
      "Kurtosis:                       4.328   Cond. No.                     3.61e+03\n",
      "==============================================================================\n",
      "\n",
      "Notes:\n",
      "[1] Standard Errors assume that the covariance matrix of the errors is correctly specified.\n",
      "[2] The condition number is large, 3.61e+03. This might indicate that there are\n",
      "strong multicollinearity or other numerical problems.\n"
     ]
    }
   ],
   "source": [
    "# Print summary for model_int\n",
    "print(model_int2.summary())"
   ]
  },
  {
   "cell_type": "markdown",
   "id": "e6790443",
   "metadata": {
    "id": "e6790443"
   },
   "source": [
    "\n",
    "Vemos que utilizando `summary()` se obtienen los resultados habituales de un modelo de regresión múltiple. Prestamos mucha atención a la fila para `disp:domestic` que prueba,\n",
    "\n",
    "$$\n",
    "H_0: \\beta_3 = 0.\n",
    "$$\n",
    "\n",
    "En este caso, la prueba de $\\beta_3 = 0$ es la prueba de dos líneas con pendientes paralelas frente a dos líneas con pendientes posiblemente diferentes. La línea `disp:domestic` en la salida `summary()` utiliza una prueba $t$ para realizar la prueba.\n",
    "\n",
    "También podríamos utilizar una prueba ANOVA $F$. El modelo aditivo sin interacción es nuestro modelo nulo, y el modelo de interacción es el alternativo.\n"
   ]
  },
  {
   "cell_type": "code",
   "execution_count": 98,
   "id": "42ba2549",
   "metadata": {},
   "outputs": [
    {
     "name": "stdout",
     "output_type": "stream",
     "text": [
      "   df_resid          ssr  df_diff     ss_diff          F        Pr(>F)\n",
      "0     380.0  7713.981816      0.0         NaN        NaN           NaN\n",
      "1     379.0  7032.625063      1.0  681.356754  36.719462  3.293721e-09\n"
     ]
    }
   ],
   "source": [
    "from statsmodels.stats.anova import anova_lm\n",
    "anova_results = anova_lm(mpg_disp_add , model_int2)\n",
    "print(anova_results)\n"
   ]
  },
  {
   "cell_type": "markdown",
   "id": "148e5f55",
   "metadata": {
    "id": "148e5f55"
   },
   "source": [
    "\n",
    "De nuevo vemos que esta prueba tiene el mismo valor p que la prueba $t$. También el valor p es extremadamente bajo, por lo que entre los dos, elegimos el modelo de interacción.\n"
   ]
  },
  {
   "cell_type": "code",
   "execution_count": 99,
   "id": "8e17d324",
   "metadata": {},
   "outputs": [
    {
     "name": "stdout",
     "output_type": "stream",
     "text": [
      "Intercept        46.054842\n",
      "disp             -0.156924\n",
      "domestic        -12.575471\n",
      "disp:domestic     0.102518\n",
      "dtype: float64\n"
     ]
    }
   ],
   "source": [
    "import statsmodels.api as sm\n",
    "import statsmodels.formula.api as smf\n",
    "import matplotlib.pyplot as plt\n",
    "\n",
    "# 1. Fit the interaction model and print the parameters\n",
    "model_int = smf.ols(formula='mpg ~ disp * domestic', data=autompg).fit()\n",
    "print(model_int.params)  # This will give you the names of the coefficients\n",
    "\n",
    "# Now, manually check the printed coefficients' names, especially those for the `domestic` dummy variable and the interaction term.\n",
    "\n",
    "# Assuming the coefficient names are 'domestic', 'disp:domestic' (but please adjust if they're different)\n",
    "int_for = model_int.params['Intercept']\n",
    "int_dom = model_int.params['Intercept'] + model_int.params['domestic']\n",
    "slope_for = model_int.params['disp']\n",
    "slope_dom = model_int.params['disp'] + model_int.params['disp:domestic']\n",
    "\n",
    "\n"
   ]
  },
  {
   "cell_type": "markdown",
   "id": "1543cb7c",
   "metadata": {
    "id": "1543cb7c"
   },
   "source": [
    "\n",
    "Aquí calculamos de nuevo la pendiente y los interceptos de las dos rectas para utilizarlos en el trazado.\n"
   ]
  },
  {
   "cell_type": "code",
   "execution_count": 100,
   "id": "0ef46570",
   "metadata": {},
   "outputs": [
    {
     "data": {
      "image/png": "[encoded data removed]",
      "text/plain": [
       "<Figure size 640x480 with 1 Axes>"
      ]
     },
     "metadata": {},
     "output_type": "display_data"
    }
   ],
   "source": [
    "# Plotting\n",
    "colors = autompg['domestic']\n",
    "plt.scatter(autompg['disp'], autompg['mpg'], c=colors, marker='o', s=50, cmap='viridis', alpha=0.6)\n",
    "plt.xlabel('disp')\n",
    "plt.ylabel('mpg')\n",
    "\n",
    "# Adding regression lines\n",
    "x_vals = autompg['disp'].values\n",
    "plt.plot(x_vals, int_for + slope_for * x_vals, color='blue', linewidth=2, label='Foreign cars')\n",
    "plt.plot(x_vals, int_dom + slope_dom * x_vals, color='red', linestyle='--', linewidth=2, label='Domestic cars')\n",
    "\n",
    "# Adding legend\n",
    "plt.legend(loc='upper right')\n",
    "plt.show()"
   ]
  },
  {
   "cell_type": "markdown",
   "id": "962596d3",
   "metadata": {
    "id": "962596d3"
   },
   "source": [
    "\n",
    "Vemos que estas líneas se ajustan mucho mejor a los datos, lo que coincide con el resultado de nuestras pruebas.\n",
    "\n",
    "Hasta ahora sólo hemos visto la interacción entre una variable categórica (`doméstica`) y una variable numérica (`disp`). Aunque esto es fácil de visualizar, ya que permite diferentes pendientes para dos líneas, no es el único tipo de interacción que podemos utilizar en un modelo. También podemos considerar interacciones entre dos variables numéricas.\n",
    "\n",
    "Consideremos el modelo\n",
    "\n",
    "$$\n",
    "Y = \\beta_0 + \\beta_1 x_1 + \\beta_2 x_2 + \\beta_3 x_1 x_2 + \\epsilon,\n",
    "$$\n",
    "\n",
    "donde\n",
    "\n",
    "-   $Y$ es `mpg`,la eficiencia del combustible en millas por galón,\n",
    "-   $x_1$ es `disp`, la cilindrada en pulgadas cúbicas,\n",
    "-   $x_2$ es `hp`, la potencia, en pies-libra por segundo.\n",
    "\n",
    "¿Cómo cambia `mpg` en función de `disp` en este modelo? Podemos reordenar algunos términos para ver cómo.\n",
    "\n",
    "$$\n",
    "Y = \\beta_0 + (\\beta_1 + \\beta_3 x_2) x_1 + \\beta_2 x_2 + \\epsilon\n",
    "$$\n",
    "\n",
    "Así, para un aumento de una unidad en $x_1$ (`disp`), la media de $Y$ (`mpg`) aumenta $\\beta_1 + \\beta_3 x_2$, ¡que es un valor diferente dependiendo del valor de $x_2$ (`hp`)!\n",
    "\n",
    "Como ahora trabajamos en tres dimensiones, este modelo no puede justificarse fácilmente mediante visualizaciones como el ejemplo anterior. En su lugar, tendremos que basarnos en una prueba.\n"
   ]
  },
  {
   "cell_type": "code",
   "execution_count": 101,
   "id": "8547246e",
   "metadata": {},
   "outputs": [
    {
     "name": "stdout",
     "output_type": "stream",
     "text": [
      "                            OLS Regression Results                            \n",
      "==============================================================================\n",
      "Dep. Variable:                    mpg   R-squared:                       0.755\n",
      "Model:                            OLS   Adj. R-squared:                  0.753\n",
      "Method:                 Least Squares   F-statistic:                     390.2\n",
      "Date:                Tue, 19 Sep 2023   Prob (F-statistic):          1.73e-115\n",
      "Time:                        21:35:42   Log-Likelihood:                -1062.4\n",
      "No. Observations:                 383   AIC:                             2133.\n",
      "Df Residuals:                     379   BIC:                             2148.\n",
      "Df Model:                           3                                         \n",
      "Covariance Type:            nonrobust                                         \n",
      "==============================================================================\n",
      "                 coef    std err          t      P>|t|      [0.025      0.975]\n",
      "------------------------------------------------------------------------------\n",
      "Intercept     52.4082      1.523     34.417      0.000      49.414      55.402\n",
      "disp          -0.1002      0.007    -15.090      0.000      -0.113      -0.087\n",
      "hp            -0.2198      0.020    -11.063      0.000      -0.259      -0.181\n",
      "disp:hp        0.0006   5.16e-05     10.956      0.000       0.000       0.001\n",
      "==============================================================================\n",
      "Omnibus:                       53.388   Durbin-Watson:                   1.001\n",
      "Prob(Omnibus):                  0.000   Jarque-Bera (JB):              101.980\n",
      "Skew:                           0.782   Prob(JB):                     7.17e-23\n",
      "Kurtosis:                       4.986   Cond. No.                     2.49e+05\n",
      "==============================================================================\n",
      "\n",
      "Notes:\n",
      "[1] Standard Errors assume that the covariance matrix of the errors is correctly specified.\n",
      "[2] The condition number is large, 2.49e+05. This might indicate that there are\n",
      "strong multicollinearity or other numerical problems.\n"
     ]
    }
   ],
   "source": [
    "import statsmodels.api as sm\n",
    "import statsmodels.formula.api as smf\n",
    "\n",
    "# Fit the additive model\n",
    "mpg_disp_add_hp = smf.ols(formula='mpg ~ disp + hp', data=autompg).fit()\n",
    "\n",
    "# Fit the interaction model\n",
    "mpg_disp_int_hp = smf.ols(formula='mpg ~ disp * hp', data=autompg).fit()\n",
    "\n",
    "# Display the summary of the interaction model\n",
    "print(mpg_disp_int_hp.summary())\n",
    "\n",
    "\n",
    "\n"
   ]
  },
  {
   "cell_type": "markdown",
   "id": "70039650",
   "metadata": {
    "id": "70039650"
   },
   "source": [
    "\n",
    "Usando `summary()` nos centramos en la fila para `disp:hp` que prueba,\n",
    "\n",
    "$$\n",
    "H_0: \\beta_3 = 0.\n",
    "$$\n",
    "\n",
    "De nuevo, vemos un valor p muy bajo, por lo que rechazamos el nulo (modelo aditivo) a favor del modelo de interacción. De nuevo, existe una prueba $F$ equivalente.\n"
   ]
  },
  {
   "cell_type": "code",
   "execution_count": 102,
   "id": "f725d4b1",
   "metadata": {},
   "outputs": [
    {
     "name": "stdout",
     "output_type": "stream",
     "text": [
      "   df_resid          ssr  df_diff      ss_diff           F        Pr(>F)\n",
      "0     380.0  7576.553401      0.0          NaN         NaN           NaN\n",
      "1     379.0  5754.231624      1.0  1822.321777  120.026443  1.887753e-24\n"
     ]
    }
   ],
   "source": [
    "# Conduct an ANOVA comparison between the two models\n",
    "anova_results = sm.stats.anova_lm(mpg_disp_add_hp, mpg_disp_int_hp, typ=1)\n",
    "print(anova_results)\n",
    "\n"
   ]
  },
  {
   "cell_type": "markdown",
   "id": "2ef835e3",
   "metadata": {
    "id": "2ef835e3"
   },
   "source": [
    "\n",
    "Podemos examinar más detenidamente los coeficientes de nuestro modelo de interacción ajustado.\n"
   ]
  },
  {
   "cell_type": "code",
   "execution_count": 103,
   "id": "36440db5",
   "metadata": {},
   "outputs": [
    {
     "name": "stdout",
     "output_type": "stream",
     "text": [
      "Intercept    52.408200\n",
      "disp         -0.100174\n",
      "hp           -0.219820\n",
      "disp:hp       0.000566\n",
      "dtype: float64\n"
     ]
    }
   ],
   "source": [
    "\n",
    "# Print the coefficients of the interaction model\n",
    "print(mpg_disp_int_hp.params)"
   ]
  },
  {
   "cell_type": "markdown",
   "id": "ad36986b",
   "metadata": {
    "id": "ad36986b"
   },
   "source": [
    "\n",
    "-   $\\hat{\\beta}_0 = 52.408$ es la media estimada de `mpg` para un coche con 0 `disp` y 0 `cv`.\n",
    "-   $\\hat{\\beta}_1 = −0.100$ es el cambio estimado en la media de `mpg` para un aumento de 1 `disp`, **para un coche con 0 `hp`**.\n",
    "-   $\\hat{\\beta}_2 = −0.219$ es el cambio estimado en la media de `mpg` para un aumento de 1 `hp`, **para un coche con 0 `disp`**.\n",
    "-   $\\hat{\\beta}_3 = 5.66\\times 10^{-4}$ es una estimación de la modificación del cambio en el promedio de `mpg` por un aumento en `disp`, para un coche de un determinado `hp` (o viceversa).\n",
    "\n",
    "Este último coeficiente necesita más explicación. Recordemos la que hemos hecho antes\n",
    "\n",
    "$$Y = \\beta_0 + (\\beta_1 + \\beta_3 x_2) x_1 + \\beta_2 x_2 + \\epsilon.$$\n",
    "\n",
    "Por lo tanto, nuestra estimación para $\\beta_1 + \\beta_3 x_2$, es\n",
    "$\\hat{\\beta}_1 + \\hat{\\beta}_3 x_2$, que en este caso es\n",
    "\n",
    "$$-0.1001738 + 5.658269\\times 10^{-4} x_2.$$\n",
    "\n",
    "Esto significa que, para un aumento de un `disp` vemos un cambio estimado en el `mpg` medio de $-0.1001738 + 5.658269\\times 10^{-4} x_2$. Por tanto, la relación entre `disp` y `mpg` depende de los `cv` del coche.\n",
    "\n",
    "Así que para un coche con 50 `hp`, el cambio estimado en promedio `mpg` para un aumento de un `disp` es\n",
    "\n",
    "$$-0.1001738 + 5.658269\\times 10^{-4} \\cdot 50 = -0.0718824$$\n",
    "\n",
    "Y para un coche con 350 `hp`, el cambio estimado en el promedio de `mpg` para un aumento de un `disp` es de\n",
    "\n",
    "$$-0.1001738 + 5.658269\\times 10^{-4} \\cdot 350 = 0.0978657$$\n",
    "\n",
    "¡Fíjate en que el signo ha cambiado!"
   ]
  },
  {
   "cell_type": "markdown",
   "id": "3ed5c22c",
   "metadata": {
    "id": "3ed5c22c"
   },
   "source": [
    "\n",
    "## Variables categóricas\n",
    "\n",
    "Hasta ahora  hemos limitado nuestro uso de variables categóricas a variables categóricas binarias. Específicamente, nos hemos limitado a variables ficticias que toman un valor de `0` o `1` y representan una variable categórica numéricamente.\n",
    "\n",
    "Ahora hablaremos de las variables **categóricas**, con ellas, un usuario humano puede simplemente pensar en las categorías de una variable, y `Python` se encargará de las variables ficticias necesarias sin que el usuario tenga que hacer ninguna asignación 0/1.\n"
   ]
  },
  {
   "cell_type": "code",
   "execution_count": 104,
   "id": "dc872340",
   "metadata": {},
   "outputs": [
    {
     "name": "stdout",
     "output_type": "stream",
     "text": [
      "False\n"
     ]
    }
   ],
   "source": [
    "# Check if column 'origin' is of factor type\n",
    "print(autompg['origin'].dtype.name == 'category')"
   ]
  },
  {
   "cell_type": "markdown",
   "id": "a3d18cc8",
   "metadata": {
    "id": "a3d18cc8"
   },
   "source": [
    "\n",
    "Antes, cuando utilizábamos la variable  `domestic`, no era una variable factorial. Era simplemente una variable numérica que sólo tenía dos valores posibles, `1` para nacional y  `0` para extranjero. Vamos a crear una nueva variable \"origen\" que almacena la misma información, pero de una manera diferente."
   ]
  },
  {
   "cell_type": "code",
   "execution_count": 105,
   "id": "b426e176",
   "metadata": {},
   "outputs": [
    {
     "name": "stdout",
     "output_type": "stream",
     "text": [
      "8 cylinder 70 chevrolet chevelle malibu    domestic\n",
      "8 cylinder 70 buick skylark 320            domestic\n",
      "8 cylinder 70 plymouth satellite           domestic\n",
      "8 cylinder 70 amc rebel sst                domestic\n",
      "8 cylinder 70 ford torino                  domestic\n",
      "Name: origin, dtype: object\n"
     ]
    }
   ],
   "source": [
    "# Modify the 'origin' column based on the 'domestic' column values\n",
    "autompg.loc[autompg['domestic'] == 1, 'origin'] = 'domestic'\n",
    "autompg.loc[autompg['domestic'] == 0, 'origin'] = 'foreign'\n",
    "\n",
    "# Display the head of the 'origin' column\n",
    "print(autompg['origin'].head())"
   ]
  },
  {
   "cell_type": "code",
   "execution_count": 106,
   "id": "77814bd9",
   "metadata": {},
   "outputs": [],
   "source": [
    "# Convert 'origin' column to factor type\n",
    "autompg['origin'] = autompg['origin'].astype('category')\n"
   ]
  },
  {
   "cell_type": "markdown",
   "id": "0b2a74f7",
   "metadata": {
    "id": "0b2a74f7"
   },
   "source": [
    "\n",
    "Ahora la variable `origin` almacena `\"domestic\"` para carros nacionales y `\"foreign\"` para los carros extranjeros.\n"
   ]
  },
  {
   "cell_type": "code",
   "execution_count": 107,
   "id": "a13cd316",
   "metadata": {},
   "outputs": [
    {
     "name": "stdout",
     "output_type": "stream",
     "text": [
      "True\n"
     ]
    }
   ],
   "source": [
    "# Check if column 'origin' is of factor type\n",
    "print(autompg['origin'].dtype.name == 'category')"
   ]
  },
  {
   "cell_type": "markdown",
   "id": "df975402",
   "metadata": {
    "id": "df975402"
   },
   "source": [
    "\n",
    "Observe que python se ha encargado de crear las categorias correspondientes. \n"
   ]
  },
  {
   "cell_type": "code",
   "execution_count": 108,
   "id": "fa70cc38",
   "metadata": {},
   "outputs": [
    {
     "name": "stdout",
     "output_type": "stream",
     "text": [
      "Index(['domestic', 'foreign'], dtype='object')\n"
     ]
    }
   ],
   "source": [
    "# Print the levels (unique values) of 'origin'\n",
    "print(autompg['origin'].cat.categories)"
   ]
  },
  {
   "cell_type": "markdown",
   "id": "d53ac2b3",
   "metadata": {
    "id": "d53ac2b3"
   },
   "source": [
    "\n",
    "``` {r}\n",
    "autompg$origin = as.factor(autompg$origin)\n",
    "```\n"
   ]
  },
  {
   "cell_type": "markdown",
   "id": "50f2c0ea",
   "metadata": {
    "id": "50f2c0ea"
   },
   "source": [
    "\n",
    "Ahora, cuando comprobamos la estructura del conjunto de datos `autompg`, vemos que `origin` es una variable categórica."
   ]
  },
  {
   "cell_type": "code",
   "execution_count": 109,
   "id": "b08e5296",
   "metadata": {},
   "outputs": [
    {
     "name": "stdout",
     "output_type": "stream",
     "text": [
      "<class 'pandas.core.frame.DataFrame'>\n",
      "Index: 383 entries, 8 cylinder 70 chevrolet chevelle malibu to 4 cylinder 82 chevy s-10\n",
      "Data columns (total 10 columns):\n",
      " #   Column    Non-Null Count  Dtype   \n",
      "---  ------    --------------  -----   \n",
      " 0   mpg       383 non-null    float64 \n",
      " 1   cyl       383 non-null    category\n",
      " 2   disp      383 non-null    float64 \n",
      " 3   hp        383 non-null    float64 \n",
      " 4   wt        383 non-null    float64 \n",
      " 5   acc       383 non-null    float64 \n",
      " 6   year      383 non-null    int64   \n",
      " 7   origin    383 non-null    category\n",
      " 8   domestic  383 non-null    int32   \n",
      " 9   x3        383 non-null    float64 \n",
      "dtypes: category(2), float64(6), int32(1), int64(1)\n",
      "memory usage: 34.5+ KB\n",
      "None\n"
     ]
    }
   ],
   "source": [
    "# Print the structure (info) of the DataFrame\n",
    "print(autompg.info())"
   ]
  },
  {
   "cell_type": "markdown",
   "id": "8612e9e3",
   "metadata": {
    "id": "8612e9e3"
   },
   "source": [
    "\n",
    "Las variables categóricas tienen **niveles** que son los posibles valores (categorías) que puede tomar la variable, en este caso extranjera o nacional.\n"
   ]
  },
  {
   "cell_type": "code",
   "execution_count": 110,
   "id": "891bbd91",
   "metadata": {},
   "outputs": [
    {
     "name": "stdout",
     "output_type": "stream",
     "text": [
      "Index(['domestic', 'foreign'], dtype='object')\n"
     ]
    }
   ],
   "source": [
    "# Print the levels (unique values) of 'origin'\n",
    "print(autompg['origin'].cat.categories)"
   ]
  },
  {
   "cell_type": "markdown",
   "id": "e1b0fcac",
   "metadata": {},
   "source": [
    "\n",
    "Recordemos que anteriormente hemos ajustado el modelo\n",
    "\n",
    "$$ Y = \\beta_0 + \\beta_1 x_1 + \\beta_2 x_2 + \\beta_3 x_1 x_2 + \\epsilon, $$\n",
    "\n",
    "donde\n",
    "\n",
    "-   $Y$ es `mpg`, la eficiencia del combustible en millas por galón,\n",
    "-   $x_1$ es `disp`, la cilindrada en pulgadas cúbicas,\n",
    "-   $x_2$ es `domestic`,una variable ficticia en la que `1` indica un coche nacional.\n"
   ]
  },
  {
   "cell_type": "code",
   "execution_count": 111,
   "id": "944c8c60",
   "metadata": {},
   "outputs": [
    {
     "data": {
      "text/plain": [
       "Intercept        46.054842\n",
       "disp             -0.156924\n",
       "domestic        -12.575471\n",
       "disp:domestic     0.102518\n",
       "dtype: float64"
      ]
     },
     "execution_count": 111,
     "metadata": {},
     "output_type": "execute_result"
    }
   ],
   "source": [
    "# Fit the model with interaction between disp and domestic\n",
    "mod_dummy = smf.ols(formula='mpg ~ disp * domestic', data=autompg).fit()\n",
    "mod_dummy.params\n"
   ]
  },
  {
   "cell_type": "markdown",
   "id": "48e5f595",
   "metadata": {
    "id": "48e5f595"
   },
   "source": [
    "\n",
    "Así que aquí vemos que\n",
    "\n",
    "$$\\hat{\\beta}_0 + \\hat{\\beta}_2 = 46.0548423 + -12.5754714 = 33.4793709$$\n",
    "\n",
    "es la media estimada de `mpg` para un coche **doméstico** con 0 `disp`.\n",
    "\n",
    "Ahora intentemos hacer lo mismo, pero utilizando nuestra nueva variable factorial.\n"
   ]
  },
  {
   "cell_type": "code",
   "execution_count": 112,
   "id": "1b206321",
   "metadata": {},
   "outputs": [
    {
     "data": {
      "text/plain": [
       "Intercept                 33.479371\n",
       "origin[T.foreign]         12.575471\n",
       "disp                      -0.054405\n",
       "disp:origin[T.foreign]    -0.102518\n",
       "dtype: float64"
      ]
     },
     "execution_count": 112,
     "metadata": {},
     "output_type": "execute_result"
    }
   ],
   "source": [
    "# Fit the model with interaction between disp and origin\n",
    "mod_factor = smf.ols(formula='mpg ~ disp * origin', data=autompg).fit()\n",
    "mod_factor.params"
   ]
  },
  {
   "cell_type": "markdown",
   "id": "016d23a9",
   "metadata": {
    "id": "016d23a9"
   },
   "source": [
    "\n",
    "Parece que no produce los mismos resultados. Enseguida nos damos cuenta de que el intercepto es diferente, al igual que el coeficiente que precede a `disp`. También observamos que los dos coeficientes restantes son de la misma magnitud que sus homólogos respectivos utilizando la variable nacional, pero con un signo diferente. ¿Por qué ocurre esto?\n",
    "\n",
    "Resulta que al utilizar una variable factorial, `R` nos crea automáticamente una variable ficticia. Sin embargo, no es la variable ficticia que habíamos utilizado originalmente.\n",
    "\n",
    "`R` está ajustando el modelo\n",
    "\n",
    "$$Y = \\beta_0 + \\beta_1 x_1 + \\beta_2 x_2 + \\beta_3 x_1 x_2 + \\epsilon,$$\n",
    "\n",
    "donde\n",
    "\n",
    "- $Y$ es `mpg`, la eficiencia del combustible en millas por galón,\n",
    "- $x_1$ es `disp`, el desplazamiento en pulgadas cúbicas,\n",
    "- $x_2$ **es una variable ficticia creada por `Python`.** Utiliza `1` para representar un **carro extranjero**.\n",
    "\n",
    "Así que ahora,\n",
    "\n",
    "$$\\hat{\\beta}_0 = 33.4793709$$\n",
    "\n",
    "es la media estimada de \"mpg\" de un coche \"nacional\" con 0 \"disp\", que es la misma que antes.\n",
    "\n",
    "Cuando `Python` creó $x_2$, la variable ficticia, utilizó los carros nacionales como el nivel de **referencia**, que es el valor por defecto de la variable categórica. Así que cuando la variable ficticia es \"0\", el modelo representa este nivel de referencia, que es nacional. (`Python` hace esta elección porque nacional va antes que extranjero alfabéticamente, ojo mirando las palabras en ingles claro está).\n",
    "\n",
    "Así pues, los dos modelos tienen coeficientes estimados diferentes, pero debido a las distintas representaciones del modelo, en realidad son el mismo modelo.\n"
   ]
  },
  {
   "cell_type": "markdown",
   "id": "7dd18d66",
   "metadata": {
    "id": "7dd18d66"
   },
   "source": [
    "\n",
    "### Factores con más de dos niveles\n",
    "\n",
    "Consideremos ahora una variable factorial con más de dos niveles. En este conjunto de datos, `cyl` es un ejemplo.\n"
   ]
  },
  {
   "cell_type": "code",
   "execution_count": 113,
   "id": "e797e7ae",
   "metadata": {},
   "outputs": [
    {
     "name": "stdout",
     "output_type": "stream",
     "text": [
      "True\n"
     ]
    }
   ],
   "source": [
    "# Check if column 'cyl' is of factor type\n",
    "print(autompg['cyl'].dtype.name == 'category')"
   ]
  },
  {
   "cell_type": "code",
   "execution_count": 114,
   "id": "39781adf",
   "metadata": {},
   "outputs": [
    {
     "name": "stdout",
     "output_type": "stream",
     "text": [
      "Int64Index([4, 6, 8], dtype='int64')\n"
     ]
    }
   ],
   "source": [
    "# Print the levels (unique values) of 'cyl'\n",
    "print(autompg['cyl'].cat.categories)"
   ]
  },
  {
   "cell_type": "markdown",
   "id": "d5611d34",
   "metadata": {
    "id": "d5611d34"
   },
   "source": [
    "\n",
    "\n",
    "Aquí la variable `cyl` tiene tres niveles posibles: `4`, `6` y `8`. Te preguntarás, ¿por qué no utilizar simplemente `cyl` como una variable numérica? Por supuesto que podría.\n",
    "\n",
    "Sin embargo, eso forzaría a que la diferencia en mpg medio entre `4` y `6` cilindros fuera la misma que la diferencia en mpg medio entre `6` y `8` cilindros. Esto suele tener sentido para una variable continua, pero no para una variable discreta con tan pocos valores posibles. En el caso de esta variable, no existe un motor de 7 cilindros ni un motor de 6,23 cilindros en vehículos personales. Por estas razones, consideraremos simplemente que `cyl` es categórica. Se trata de una decisión que normalmente habrá que tomar con variables ordinales. A menudo, con un gran número de categorías, la decisión de tratarlas como variables numéricas es apropiada porque, de lo contrario, se necesitaría un gran número de variables ficticias para representar estas variables.\n",
    "\n",
    "Definamos tres variables ficticias relacionadas con la variable factorial `cyl`.\n",
    "\n",
    "$$\n",
    "v_1 =\n",
    "  \\begin{cases}\n",
    "   1 & \\text{4 cylinder} \\\\\n",
    "   0       & \\text{not 4 cylinder}\n",
    "  \\end{cases}\n",
    "$$\n",
    "\n",
    "$$\n",
    "v_2 =\n",
    "  \\begin{cases}\n",
    "   1 & \\text{6 cylinder} \\\\\n",
    "   0       & \\text{not 6 cylinder}\n",
    "  \\end{cases}\n",
    "$$\n",
    "\n",
    "$$\n",
    "v_3 =\n",
    "  \\begin{cases}\n",
    "   1 & \\text{8 cylinder} \\\\\n",
    "   0       & \\text{not 8 cylinder}\n",
    "  \\end{cases}\n",
    "$$\n"
   ]
  },
  {
   "cell_type": "markdown",
   "id": "6393ac66",
   "metadata": {},
   "source": [
    "\n",
    "Ahora, vamos a ajustar un modelo aditivo en `Python`, utilizando `mpg` como respuesta, y `disp` y `cyl` como predictores. Esto debería ser un modelo que utiliza \"tres líneas de regresión\" para modelar `mpg`, uno para cada uno de los posibles niveles de `cyl`. Todos ellos tendrán la misma pendiente (ya que es un modelo aditivo), pero cada uno tendrá su propio intercepto."
   ]
  },
  {
   "cell_type": "code",
   "execution_count": 115,
   "id": "833badbb",
   "metadata": {},
   "outputs": [
    {
     "name": "stdout",
     "output_type": "stream",
     "text": [
      "                            OLS Regression Results                            \n",
      "==============================================================================\n",
      "Dep. Variable:                    mpg   R-squared:                       0.690\n",
      "Model:                            OLS   Adj. R-squared:                  0.687\n",
      "Method:                 Least Squares   F-statistic:                     280.8\n",
      "Date:                Tue, 19 Sep 2023   Prob (F-statistic):           6.24e-96\n",
      "Time:                        21:35:42   Log-Likelihood:                -1107.9\n",
      "No. Observations:                 383   AIC:                             2224.\n",
      "Df Residuals:                     379   BIC:                             2240.\n",
      "Df Model:                           3                                         \n",
      "Covariance Type:            nonrobust                                         \n",
      "===============================================================================\n",
      "                  coef    std err          t      P>|t|      [0.025      0.975]\n",
      "-------------------------------------------------------------------------------\n",
      "Intercept      34.9993      0.822     42.561      0.000      33.382      36.616\n",
      "C(cyl)[T.6]    -3.6332      0.950     -3.823      0.000      -5.502      -1.764\n",
      "C(cyl)[T.8]    -2.0360      1.722     -1.182      0.238      -5.423       1.351\n",
      "disp           -0.0522      0.007     -7.505      0.000      -0.066      -0.039\n",
      "==============================================================================\n",
      "Omnibus:                       55.103   Durbin-Watson:                   0.955\n",
      "Prob(Omnibus):                  0.000   Jarque-Bera (JB):              103.808\n",
      "Skew:                           0.810   Prob(JB):                     2.87e-23\n",
      "Kurtosis:                       4.970   Cond. No.                     2.00e+03\n",
      "==============================================================================\n",
      "\n",
      "Notes:\n",
      "[1] Standard Errors assume that the covariance matrix of the errors is correctly specified.\n",
      "[2] The condition number is large,  2e+03. This might indicate that there are\n",
      "strong multicollinearity or other numerical problems.\n"
     ]
    }
   ],
   "source": [
    "# Fit the additive model with disp and cyl\n",
    "mpg_disp_add_cyl = smf.ols(formula='mpg ~ disp + C(cyl)', data=autompg).fit()\n",
    "print(mpg_disp_add_cyl.summary())"
   ]
  },
  {
   "cell_type": "markdown",
   "id": "7ac1f144",
   "metadata": {
    "id": "7ac1f144"
   },
   "source": [
    "\n",
    "La pregunta es, ¿cuál es el modelo que `Python` ha ajustado aquí? Ha elegido utilizar el modelo\n",
    "\n",
    "$$Y = \\beta_0 + \\beta_1 x + \\beta_2 v_2 + \\beta_3 v_3 + \\epsilon,$$\n",
    "\n",
    "donde\n",
    "\n",
    "- $Y$ es `mpg`, la eficiencia del combustible en millas por galón,\n",
    "- $x$ es `disp`, el desplazamiento en pulgadas cúbicas,\n",
    "- $v_2$ y $v_3$ son las variables ficticias definidas anteriormente.\n",
    "\n",
    "¿Por qué `R` no utiliza $v_1$? Básicamente porque no es necesario. Para crear tres líneas, sólo necesita dos variables ficticias, ya que está utilizando un nivel de referencia, que en este caso es un coche de 4 cilindros. Los tres \"submodelos\" son entonces:\n",
    "\n",
    "-   4 Cilindro: $Y = \\beta_0 + \\beta_1 x + \\epsilon$\n",
    "-   6 Cilindro: $Y = (\\beta_0 + \\beta_2) + \\beta_1 x + \\epsilon$\n",
    "-   8 Cilindro: $Y = (\\beta_0 + \\beta_3) + \\beta_1 x + \\epsilon$\n",
    "\n",
    "Obsérvese que todos tienen la misma pendiente. Sin embargo, utilizando las dos variables ficticias obtenemos los tres interceptos.\n",
    "\n",
    "- $\\beta_0$ es el promedio de `mpg` para un coche de 4 cilindros con 0 `disp`.\n",
    "- $\\beta_0 + \\beta_2$ es la media de \"mpg\" de un coche de 6 cilindros con 0\n",
    "    disp`.\n",
    "- $\\beta_0 + \\beta_3$ es la media de `mpg` de un coche de 8 cilindros con 0\n",
    "    `disp`.\n",
    "\n",
    "Como el nivel de referencia es el de 4 cilindros, $\\beta_0$ es específico de 4 cilindros, pero $\\beta_2$ y $\\beta_3$ se utilizan para representar cantidades relativas a 4 cilindros.\n",
    "\n",
    "Como hemos hecho antes, podemos extraer estos interceptos y pendientes para las tres rectas, y trazarlos en consecuencia."
   ]
  },
  {
   "cell_type": "code",
   "execution_count": 116,
   "id": "e14782ec",
   "metadata": {},
   "outputs": [
    {
     "data": {
      "image/png": "[encoded data removed]",
      "text/plain": [
       "<Figure size 640x480 with 1 Axes>"
      ]
     },
     "metadata": {},
     "output_type": "display_data"
    }
   ],
   "source": [
    "import numpy as np\n",
    "import pandas as pd\n",
    "import statsmodels.formula.api as smf  # use smf instead of sm for formula API\n",
    "import matplotlib.pyplot as plt\n",
    "\n",
    "# Ensure the 'cyl' column is a categorical column\n",
    "autompg['cyl'] = autompg['cyl'].astype('category')\n",
    "\n",
    "# Create a linear model object\n",
    "mpg_disp_add_cyl = smf.ols(\"mpg ~ disp + C(cyl)\", data=autompg).fit()\n",
    "\n",
    "# Get the intercept and slope coefficients for each cylinder type\n",
    "int_4cyl = mpg_disp_add_cyl.params['Intercept']\n",
    "slope_4cyl = mpg_disp_add_cyl.params['disp']\n",
    "\n",
    "# 6 and 8 cylinders' intercepts will be the sum of the main intercept and their respective coefficients\n",
    "int_6cyl = int_4cyl + mpg_disp_add_cyl.params['C(cyl)[T.6]']\n",
    "int_8cyl = int_4cyl + mpg_disp_add_cyl.params['C(cyl)[T.8]']\n",
    "\n",
    "# Slopes for 6 and 8 cylinders remain the same as 4 cylinder's slope\n",
    "slope_6cyl = slope_4cyl\n",
    "slope_8cyl = slope_4cyl\n",
    "\n",
    "# Create a plot of mpg vs. disp, colored by cylinder type\n",
    "plot_colors = [\"Darkorange\", \"Darkgrey\", \"Dodgerblue\"]\n",
    "plt.figure()\n",
    "\n",
    "# Scatter plots for each cylinder type\n",
    "for cyl, color in zip([4, 6, 8], plot_colors):\n",
    "    plt.scatter(autompg[autompg['cyl'] == cyl][\"disp\"], \n",
    "                autompg[autompg['cyl'] == cyl][\"mpg\"], \n",
    "                c=color, s=50, label=f\"{cyl} Cylinder\")\n",
    "\n",
    "# Add a regression line for each cylinder type\n",
    "plt.plot(autompg[\"disp\"], int_4cyl + slope_4cyl * autompg[\"disp\"], c=plot_colors[0], lw=2)\n",
    "plt.plot(autompg[\"disp\"], int_6cyl + slope_6cyl * autompg[\"disp\"], c=plot_colors[1], lw=2)\n",
    "plt.plot(autompg[\"disp\"], int_8cyl + slope_8cyl * autompg[\"disp\"], c=plot_colors[2], lw=2)\n",
    "\n",
    "# Add a legend\n",
    "plt.legend()\n",
    "\n",
    "# Set the plot title and labels\n",
    "plt.title(\"MPG vs. Displacement by Cylinder Type\")\n",
    "plt.xlabel(\"Displacement (cu. in.)\")\n",
    "plt.ylabel(\"MPG\")\n",
    "\n",
    "# Show the plot\n",
    "plt.show()\n"
   ]
  },
  {
   "cell_type": "markdown",
   "id": "812883ad",
   "metadata": {
    "id": "812883ad"
   },
   "source": [
    "\n",
    "En este gráfico, tenemos\n",
    "\n",
    "- 4 Cilindro: puntos naranjas, línea naranja continua.\n",
    "- 6 Cilindro: puntos grises, línea  gris continua.\n",
    "- 8 cilindros: puntos azules, línea azul continua.\n",
    "\n",
    "El extraño resultado aquí es que estamos estimando que los carros de 8 cilindros tienen mejor eficiencia de combustible que los de 6 cilindros en **cualquier** cilindrada. La línea azul  está siempre por encima de la línea gris discontinua. No parece correcto. Quizás para motores de gran cilindrada podría ser cierto, pero parece erróneo para cilindradas medias y bajas.\n",
    "\n",
    "Para intentar arreglar esto, intentaremos usar un modelo de interacción, es decir, en lugar de simplemente tres interceptos y una pendiente, permitiremos tres pendientes. Una vez más, dejaremos que `Python` haga su trabajo, y luego averiguaremos qué modelo ha aplicado.\n"
   ]
  },
  {
   "cell_type": "code",
   "execution_count": 117,
   "id": "b943bba9",
   "metadata": {},
   "outputs": [
    {
     "name": "stdout",
     "output_type": "stream",
     "text": [
      "                            OLS Regression Results                            \n",
      "==============================================================================\n",
      "Dep. Variable:                    mpg   R-squared:                       0.722\n",
      "Model:                            OLS   Adj. R-squared:                  0.718\n",
      "Method:                 Least Squares   F-statistic:                     195.4\n",
      "Date:                Tue, 19 Sep 2023   Prob (F-statistic):          2.66e-102\n",
      "Time:                        21:35:42   Log-Likelihood:                -1087.2\n",
      "No. Observations:                 383   AIC:                             2186.\n",
      "Df Residuals:                     377   BIC:                             2210.\n",
      "Df Model:                           5                                         \n",
      "Covariance Type:            nonrobust                                         \n",
      "=================================================================================\n",
      "                    coef    std err          t      P>|t|      [0.025      0.975]\n",
      "---------------------------------------------------------------------------------\n",
      "Intercept        43.5905      1.556     28.015      0.000      40.531      46.650\n",
      "cyl[T.6]        -13.2003      3.499     -3.773      0.000     -20.080      -6.321\n",
      "cyl[T.8]        -20.8571      3.444     -6.057      0.000     -27.628     -14.086\n",
      "disp             -0.1307      0.014     -9.362      0.000      -0.158      -0.103\n",
      "disp:cyl[T.6]     0.0830      0.020      4.168      0.000       0.044       0.122\n",
      "disp:cyl[T.8]     0.1082      0.017      6.550      0.000       0.076       0.141\n",
      "==============================================================================\n",
      "Omnibus:                       53.697   Durbin-Watson:                   0.839\n",
      "Prob(Omnibus):                  0.000   Jarque-Bera (JB):              101.712\n",
      "Skew:                           0.789   Prob(JB):                     8.20e-23\n",
      "Kurtosis:                       4.970   Cond. No.                     5.07e+03\n",
      "==============================================================================\n",
      "\n",
      "Notes:\n",
      "[1] Standard Errors assume that the covariance matrix of the errors is correctly specified.\n",
      "[2] The condition number is large, 5.07e+03. This might indicate that there are\n",
      "strong multicollinearity or other numerical problems.\n"
     ]
    }
   ],
   "source": [
    "import pandas as pd\n",
    "import statsmodels.api as sm\n",
    "import seaborn as sns\n",
    "import matplotlib.pyplot as plt\n",
    "\n",
    "import statsmodels.formula.api as smf\n",
    "\n",
    "# Fit the model with an interaction term\n",
    "mpg_disp_int_cyl = smf.ols('mpg ~ disp * cyl', data=autompg).fit()\n",
    "print(mpg_disp_int_cyl.summary())"
   ]
  },
  {
   "cell_type": "markdown",
   "id": "1fcd398b",
   "metadata": {
    "id": "1fcd398b"
   },
   "source": [
    "\n",
    "Python ha vuelto a elegir los carros de 4 cilindros como nivel de referencia, pero esto también afecta a los términos de interacción. `python` ha ajustado el modelo.\n",
    "\n",
    "$$Y = \\beta_0 + \\beta_1 x + \\beta_2 v_2 + \\beta_3 v_3 + \\gamma_2 x v_2 + \\gamma_3 x v_3 + \\epsilon$$\n",
    "\n",
    "Estamos utilizando $\\gamma$ como un parámetro $\\beta$ para simplificar, de modo que, por ejemplo $\\beta_2$ y $\\gamma_2$ son ambos asociados con $v_2$.\n",
    "\n",
    "Ahora, los tres \"submodelos\" son:\n",
    "\n",
    "-   4 Cilindro: $Y = \\beta_0 + \\beta_1 x + \\epsilon$.\n",
    "-   6 Cilindro::\n",
    "    $Y = (\\beta_0 + \\beta_2) + (\\beta_1 + \\gamma_2) x + \\epsilon$.\n",
    "-   8 Cilindro:\n",
    "    $Y = (\\beta_0 + \\beta_3) + (\\beta_1 + \\gamma_3) x + \\epsilon$.\n",
    "\n",
    "Interpretando algunos parámetros y coeficientes entonces:\n",
    "\n",
    "- $(\\beta_0 + \\beta_2)$ es el promedio de `mpg` de un coche de 6 cilindros con\n",
    "    0 `disp`\n",
    "-   $(\\hat{\\beta}_1 + \\hat{\\gamma}_3) = -0.1306935 + 0.1081714 = -0.0225221$\n",
    "    es el cambio estimado en el promedio de \"mpg\" para un aumento de un  `disp` , para un coche de 8 cilindros.\n",
    "\n",
    "Así que, como hemos visto antes, $\\beta_2$ y $\\beta_3$ cambian los interceptos para carros de 6 y 8 cilindros en relación con el nivel de referencia de $\\beta_0$ para carros de 4 cilindros.\n",
    "\n",
    "Ahora, de forma similar, $\\gamma_2$ y $\\gamma_3$ cambian las pendientes de los carros de 6 y 8 cilindros en relación con el nivel de referencia de $\\beta_1$ para los carros de 4 cilindros.\n",
    "\n",
    "Una vez más, extraemos los coeficientes y trazamos los resultados.\n"
   ]
  },
  {
   "cell_type": "code",
   "execution_count": 118,
   "id": "ec364bd0",
   "metadata": {},
   "outputs": [
    {
     "data": {
      "image/png": "[encoded data removed]",
      "text/plain": [
       "<Figure size 558.875x500 with 1 Axes>"
      ]
     },
     "metadata": {},
     "output_type": "display_data"
    }
   ],
   "source": [
    "# Interaction plot\n",
    "sns.lmplot(data=autompg, x='disp', y='mpg', hue='cyl', ci=None)\n",
    "plt.title('Interaction between disp and cylinder type on mpg')\n",
    "plt.show()"
   ]
  },
  {
   "cell_type": "markdown",
   "id": "1073a87c",
   "metadata": {
    "id": "1073a87c"
   },
   "source": [
    "\n",
    "Esto tiene mucho mejor aspecto. Podemos ver que, en el caso de los carros de cilindrada media, los carros de 6 cilindros obtienen ahora mejores resultados que los de 8 cilindros, lo que parece mucho más razonable que antes.\n",
    "\n",
    "Para justificar completamente el modelo de interacción (es decir, una pendiente única para cada nivel de `cyl`) en comparación con el modelo aditivo (pendiente única), podemos realizar una prueba $F$. Observe primero que no hay ninguna prueba $t$ que pueda hacer esto, ya que la diferencia entre los dos modelos no es un único parámetro.\n",
    "\n",
    "Haremos la prueba,\n",
    "\n",
    "$H_0: \\gamma_2 = \\gamma_3 = 0$\n",
    "\n",
    "que representa las líneas de regresión paralelas que vimos antes,\n",
    "\n",
    "$$Y = \\beta_0 + \\beta_1 x + \\beta_2 v_2 + \\beta_3 v_3 + \\epsilon.$$\n",
    "\n",
    "De nuevo, se trata de una diferencia de dos parámetros, por lo que no será útil ninguna prueba $t$.\n"
   ]
  },
  {
   "cell_type": "code",
   "execution_count": 119,
   "id": "44842f07",
   "metadata": {},
   "outputs": [
    {
     "name": "stdout",
     "output_type": "stream",
     "text": [
      "   df_resid          ssr  df_diff     ss_diff          F        Pr(>F)\n",
      "0     379.0  7299.524999      0.0         NaN        NaN           NaN\n",
      "1     377.0  6551.731850      2.0  747.793149  21.514771  1.419369e-09\n"
     ]
    }
   ],
   "source": [
    "# Now, use anova_lm to compare\n",
    "table = sm.stats.anova_lm(mpg_disp_add_cyl, mpg_disp_int_cyl, typ=1)\n",
    "print(table)"
   ]
  },
  {
   "cell_type": "markdown",
   "id": "b5330c2a",
   "metadata": {
    "id": "b5330c2a"
   },
   "source": [
    "\n",
    "Como era de esperar, vemos un valor p muy bajo y, por tanto, rechazamos la nulidad. Preferimos el modelo de interacción al modelo aditivo.\n",
    "\n",
    "Recapitulando un poco:\n",
    "\n",
    "-   Modelo Nulo\n",
    "    $Y = \\beta_0 + \\beta_1 x + \\beta_2 v_2 + \\beta_3 v_3 + \\epsilon$\n",
    "    -   Número de parámetros: $q = 4$\n",
    "-   Modelo completo:\n",
    "    $Y = \\beta_0 + \\beta_1 x + \\beta_2 v_2 + \\beta_3 v_3 + \\gamma_2 x v_2 + \\gamma_3 x v_3 + \\epsilon$\n",
    "    -   Número de parámetros: $p = 6$\n"
   ]
  },
  {
   "cell_type": "code",
   "execution_count": 120,
   "id": "2804ab10",
   "metadata": {},
   "outputs": [
    {
     "name": "stdout",
     "output_type": "stream",
     "text": [
      "2\n"
     ]
    }
   ],
   "source": [
    "difference = len(mpg_disp_int_cyl.params) - len(mpg_disp_add_cyl.params)\n",
    "print(difference)\n"
   ]
  },
  {
   "cell_type": "markdown",
   "id": "c2f13901",
   "metadata": {
    "id": "c2f13901"
   },
   "source": [
    "Vemos que hay una diferencia de dos parámetros, que también aparece en la tabla ANOVA resultante de `R`. Observe que los dos valores siguientes también aparecen en la tabla ANOVA.\n"
   ]
  },
  {
   "cell_type": "markdown",
   "id": "eca5d5f3",
   "metadata": {
    "id": "eca5d5f3"
   },
   "source": [
    "\n",
    "## Parametrización\n",
    "\n",
    "Hasta ahora hemos dejado que `Python` decida cómo crear las variables ficticias y, por lo tanto, `Python` ha decidido la parametrización de los modelos. Para ilustrar la capacidad de utilizar parametrizaciones alternativas, vamos a recrear los datos, pero creando directamente las variables ficticias nosotros mismos."
   ]
  },
  {
   "cell_type": "code",
   "execution_count": 121,
   "id": "fef7f74f",
   "metadata": {},
   "outputs": [
    {
     "name": "stdout",
     "output_type": "stream",
     "text": [
      "                                             mpg   disp  v1  v2  v3\n",
      "8 cylinder 70 chevrolet chevelle malibu     18.0  307.0   0   0   1\n",
      "8 cylinder 70 buick skylark 320             15.0  350.0   0   0   1\n",
      "8 cylinder 70 plymouth satellite            18.0  318.0   0   0   1\n",
      "8 cylinder 70 amc rebel sst                 16.0  304.0   0   0   1\n",
      "8 cylinder 70 ford torino                   17.0  302.0   0   0   1\n",
      "8 cylinder 70 ford galaxie 500              15.0  429.0   0   0   1\n",
      "8 cylinder 70 chevrolet impala              14.0  454.0   0   0   1\n",
      "8 cylinder 70 plymouth fury iii             14.0  440.0   0   0   1\n",
      "8 cylinder 70 pontiac catalina              14.0  455.0   0   0   1\n",
      "8 cylinder 70 amc ambassador dpl            15.0  390.0   0   0   1\n",
      "8 cylinder 70 dodge challenger se           15.0  383.0   0   0   1\n",
      "8 cylinder 70 plymouth 'cuda 340            14.0  340.0   0   0   1\n",
      "8 cylinder 70 chevrolet monte carlo         15.0  400.0   0   0   1\n",
      "8 cylinder 70 buick estate wagon (sw)       14.0  455.0   0   0   1\n",
      "4 cylinder 70 toyota corona mark ii         24.0  113.0   1   0   0\n",
      "6 cylinder 70 plymouth duster               22.0  198.0   0   1   0\n",
      "6 cylinder 70 amc hornet                    18.0  199.0   0   1   0\n",
      "6 cylinder 70 ford maverick                 21.0  200.0   0   1   0\n",
      "4 cylinder 70 datsun pl510                  27.0   97.0   1   0   0\n",
      "4 cylinder 70 volkswagen 1131 deluxe sedan  26.0   97.0   1   0   0\n"
     ]
    }
   ],
   "source": [
    "# Creating new dataframe\n",
    "autompg['v1'] = (autompg['cyl'] == 4).astype(int)\n",
    "autompg['v2'] = (autompg['cyl'] == 6).astype(int)\n",
    "autompg['v3'] = (autompg['cyl'] == 8).astype(int)\n",
    "new_param_data = autompg[['mpg', 'disp', 'v1', 'v2', 'v3']]\n",
    "\n",
    "print(new_param_data.head(20))"
   ]
  },
  {
   "cell_type": "markdown",
   "id": "776c35d1",
   "metadata": {
    "id": "776c35d1"
   },
   "source": [
    "\n",
    "Ahora,\n",
    "\n",
    "- `y`es `mpg`\n",
    "- `x` es `disp`, el desplazamiento en pulgadas cúbicas,\n",
    "- `v1`, `v2`, y `v3` son variables ficticias como se definieron anteriormente.\n",
    "\n",
    "En primer lugar vamos a tratar de ajustar un modelo aditivo utilizando `x`, en este caso somos nosotros quienes definimos cual es la variable de referencia."
   ]
  },
  {
   "cell_type": "code",
   "execution_count": 122,
   "id": "d841da6e",
   "metadata": {},
   "outputs": [
    {
     "name": "stdout",
     "output_type": "stream",
     "text": [
      "                            OLS Regression Results                            \n",
      "==============================================================================\n",
      "Dep. Variable:                    mpg   R-squared:                       0.690\n",
      "Model:                            OLS   Adj. R-squared:                  0.687\n",
      "Method:                 Least Squares   F-statistic:                     280.8\n",
      "Date:                Tue, 19 Sep 2023   Prob (F-statistic):           6.24e-96\n",
      "Time:                        21:35:46   Log-Likelihood:                -1107.9\n",
      "No. Observations:                 383   AIC:                             2224.\n",
      "Df Residuals:                     379   BIC:                             2240.\n",
      "Df Model:                           3                                         \n",
      "Covariance Type:            nonrobust                                         \n",
      "==============================================================================\n",
      "                 coef    std err          t      P>|t|      [0.025      0.975]\n",
      "------------------------------------------------------------------------------\n",
      "Intercept     32.9633      2.437     13.527      0.000      28.172      37.755\n",
      "disp          -0.0522      0.007     -7.505      0.000      -0.066      -0.039\n",
      "v1             2.0360      1.722      1.182      0.238      -1.351       5.423\n",
      "v2            -1.5972      1.093     -1.462      0.145      -3.746       0.551\n",
      "==============================================================================\n",
      "Omnibus:                       55.103   Durbin-Watson:                   0.955\n",
      "Prob(Omnibus):                  0.000   Jarque-Bera (JB):              103.808\n",
      "Skew:                           0.810   Prob(JB):                     2.87e-23\n",
      "Kurtosis:                       4.970   Cond. No.                     3.10e+03\n",
      "==============================================================================\n",
      "\n",
      "Notes:\n",
      "[1] Standard Errors assume that the covariance matrix of the errors is correctly specified.\n",
      "[2] The condition number is large, 3.1e+03. This might indicate that there are\n",
      "strong multicollinearity or other numerical problems.\n"
     ]
    }
   ],
   "source": [
    "# Linear models\n",
    "model1 = smf.ols('mpg ~ disp + v1 + v2 ', data=new_param_data).fit()\n",
    "print(model1.summary())"
   ]
  },
  {
   "cell_type": "markdown",
   "id": "480a0b08",
   "metadata": {
    "id": "480a0b08"
   },
   "source": [
    " Esto se debe a que\n",
    "\n",
    "$$\\boldsymbol{1} = v_1 + v_2 + v_3$$\n",
    "\n",
    "lo que significa que $\\boldsymbol{1}$, $v_1$, $v_2$, y $v_3$ son linealmente dependientes. Esto haría que la matriz $X^\\top X$ fuera singular, pero tenemos que ser capaces de invertirlo para resolver las ecuaciones normales y obtener $\\hat{\\beta}.$ Con el intercepto, `v1`, y `v2`, `Python` puede hacer los necesarios \"tres interceptos\". Por lo tanto, en este caso `v3` es el nivel de referencia.\n",
    "\n",
    "Si eliminamos el intercepto, entonces podemos obtener directamente los \"tres interceptos\" sin un nivel de referencia."
   ]
  },
  {
   "cell_type": "code",
   "execution_count": 202,
   "id": "4a1edeb5",
   "metadata": {},
   "outputs": [
    {
     "name": "stdout",
     "output_type": "stream",
     "text": [
      "                            OLS Regression Results                            \n",
      "==============================================================================\n",
      "Dep. Variable:                    mpg   R-squared:                       0.690\n",
      "Model:                            OLS   Adj. R-squared:                  0.687\n",
      "Method:                 Least Squares   F-statistic:                     280.8\n",
      "Date:                Mon, 18 Sep 2023   Prob (F-statistic):           6.28e-96\n",
      "Time:                        12:43:17   Log-Likelihood:                -1107.9\n",
      "No. Observations:                 383   AIC:                             2224.\n",
      "Df Residuals:                     379   BIC:                             2240.\n",
      "Df Model:                           3                                         \n",
      "Covariance Type:            nonrobust                                         \n",
      "==============================================================================\n",
      "                 coef    std err          t      P>|t|      [0.025      0.975]\n",
      "------------------------------------------------------------------------------\n",
      "disp          -0.0522      0.007     -7.504      0.000      -0.066      -0.038\n",
      "v1            34.9984      0.822     42.561      0.000      33.382      36.615\n",
      "v2            31.3645      1.593     19.695      0.000      28.233      34.496\n",
      "v3            32.9609      2.437     13.525      0.000      28.169      37.752\n",
      "==============================================================================\n",
      "Omnibus:                       55.099   Durbin-Watson:                   0.955\n",
      "Prob(Omnibus):                  0.000   Jarque-Bera (JB):              103.795\n",
      "Skew:                           0.810   Prob(JB):                     2.89e-23\n",
      "Kurtosis:                       4.970   Cond. No.                     2.95e+03\n",
      "==============================================================================\n",
      "\n",
      "Notes:\n",
      "[1] Standard Errors assume that the covariance matrix of the errors is correctly specified.\n",
      "[2] The condition number is large, 2.95e+03. This might indicate that there are\n",
      "strong multicollinearity or other numerical problems.\n"
     ]
    }
   ],
   "source": [
    "model2 = smf.ols('mpg ~ 0 + disp + v1 + v2 + v3', data=new_param_data).fit()\n",
    "print(model2.summary())\n"
   ]
  },
  {
   "cell_type": "markdown",
   "id": "41af2717",
   "metadata": {
    "id": "41af2717"
   },
   "source": [
    "\n",
    "Aquí, estamos ajustando el modelo\n",
    "\n",
    "$$\n",
    "Y = \\mu_1 v_1 + \\mu_2 v_2 + \\mu_3 v_3 + \\beta x +\\epsilon.\n",
    "$$\n",
    "\n",
    "Así tenemos:\n",
    "\n",
    "-   4 Cilindro: $Y = \\mu_1 + \\beta x + \\epsilon$\n",
    "-   6 Cilindro: $Y = \\mu_2 + \\beta x + \\epsilon$\n",
    "-   8 Cilindro: $Y = \\mu_3 + \\beta x + \\epsilon$\n",
    "\n",
    "También podríamos hacer algo parecido con el modelo de interacción, y dar a cada línea una intercepción y una pendiente, sin necesidad de un nivel de referencia.\n"
   ]
  },
  {
   "cell_type": "code",
   "execution_count": 203,
   "id": "eee054a4",
   "metadata": {},
   "outputs": [
    {
     "name": "stdout",
     "output_type": "stream",
     "text": [
      "                            OLS Regression Results                            \n",
      "==============================================================================\n",
      "Dep. Variable:                    mpg   R-squared:                       0.721\n",
      "Model:                            OLS   Adj. R-squared:                  0.718\n",
      "Method:                 Least Squares   F-statistic:                     195.3\n",
      "Date:                Mon, 18 Sep 2023   Prob (F-statistic):          2.72e-102\n",
      "Time:                        12:44:24   Log-Likelihood:                -1087.2\n",
      "No. Observations:                 383   AIC:                             2186.\n",
      "Df Residuals:                     377   BIC:                             2210.\n",
      "Df Model:                           5                                         \n",
      "Covariance Type:            nonrobust                                         \n",
      "==============================================================================\n",
      "                 coef    std err          t      P>|t|      [0.025      0.975]\n",
      "------------------------------------------------------------------------------\n",
      "v1            43.5856      1.556     28.013      0.000      40.526      46.645\n",
      "v2            30.3903      3.134      9.698      0.000      24.228      36.552\n",
      "v3            22.7335      3.072      7.400      0.000      16.693      28.774\n",
      "disp:v1       -0.1307      0.014     -9.360      0.000      -0.158      -0.103\n",
      "disp:v2       -0.0477      0.014     -3.360      0.001      -0.076      -0.020\n",
      "disp:v3       -0.0225      0.009     -2.552      0.011      -0.040      -0.005\n",
      "==============================================================================\n",
      "Omnibus:                       53.684   Durbin-Watson:                   0.839\n",
      "Prob(Omnibus):                  0.000   Jarque-Bera (JB):              101.680\n",
      "Skew:                           0.789   Prob(JB):                     8.33e-23\n",
      "Kurtosis:                       4.970   Cond. No.                     2.66e+03\n",
      "==============================================================================\n",
      "\n",
      "Notes:\n",
      "[1] Standard Errors assume that the covariance matrix of the errors is correctly specified.\n",
      "[2] The condition number is large, 2.66e+03. This might indicate that there are\n",
      "strong multicollinearity or other numerical problems.\n"
     ]
    }
   ],
   "source": [
    "model3 = smf.ols('mpg ~ 0 + v1 + v2 + v3 + disp:v1 + disp:v2 + disp:v3', data=new_param_data).fit()\n",
    "print(model3.summary())"
   ]
  },
  {
   "cell_type": "markdown",
   "id": "908cde99",
   "metadata": {
    "id": "908cde99"
   },
   "source": [
    "$$ Y = \\mu_1 v_1 + \\mu_2 v_2 + \\mu_3 v_3 + \\beta x +\\epsilon.$$\n",
    "\n",
    "-   4 Cilindro: $Y = \\mu_1 + \\beta_1 x + \\epsilon$\n",
    "-   6 Cilindro: $Y = \\mu_2 + \\beta_2 x + \\epsilon$\n",
    "-   8 Cilindro: $Y = \\mu_3 + \\beta_3 x + \\epsilon$\n",
    "\n",
    "Utilizando los datos originales, tenemos (al menos) tres formas equivalentes de especificar el modelo de interacción con `Python`.\n"
   ]
  },
  {
   "cell_type": "code",
   "execution_count": 204,
   "id": "c59af661",
   "metadata": {},
   "outputs": [
    {
     "name": "stdout",
     "output_type": "stream",
     "text": [
      "                            OLS Regression Results                            \n",
      "==============================================================================\n",
      "Dep. Variable:                    mpg   R-squared:                       0.721\n",
      "Model:                            OLS   Adj. R-squared:                  0.718\n",
      "Method:                 Least Squares   F-statistic:                     195.3\n",
      "Date:                Mon, 18 Sep 2023   Prob (F-statistic):          2.72e-102\n",
      "Time:                        12:45:15   Log-Likelihood:                -1087.2\n",
      "No. Observations:                 383   AIC:                             2186.\n",
      "Df Residuals:                     377   BIC:                             2210.\n",
      "Df Model:                           5                                         \n",
      "Covariance Type:            nonrobust                                         \n",
      "=================================================================================\n",
      "                    coef    std err          t      P>|t|      [0.025      0.975]\n",
      "---------------------------------------------------------------------------------\n",
      "Intercept        43.5856      1.556     28.013      0.000      40.526      46.645\n",
      "cyl[T.6]        -13.1953      3.499     -3.771      0.000     -20.075      -6.316\n",
      "cyl[T.8]        -20.8522      3.444     -6.055      0.000     -27.624     -14.081\n",
      "disp             -0.1307      0.014     -9.360      0.000      -0.158      -0.103\n",
      "disp:cyl[T.6]     0.0829      0.020      4.166      0.000       0.044       0.122\n",
      "disp:cyl[T.8]     0.1081      0.017      6.547      0.000       0.076       0.141\n",
      "==============================================================================\n",
      "Omnibus:                       53.684   Durbin-Watson:                   0.839\n",
      "Prob(Omnibus):                  0.000   Jarque-Bera (JB):              101.680\n",
      "Skew:                           0.789   Prob(JB):                     8.33e-23\n",
      "Kurtosis:                       4.970   Cond. No.                     5.07e+03\n",
      "==============================================================================\n",
      "\n",
      "Notes:\n",
      "[1] Standard Errors assume that the covariance matrix of the errors is correctly specified.\n",
      "[2] The condition number is large, 5.07e+03. This might indicate that there are\n",
      "strong multicollinearity or other numerical problems.\n"
     ]
    }
   ],
   "source": [
    "model4 = smf.ols('mpg ~ disp * cyl', data=autompg).fit()\n",
    "print(model4.summary())"
   ]
  },
  {
   "cell_type": "code",
   "execution_count": 205,
   "id": "a420cbe0",
   "metadata": {},
   "outputs": [
    {
     "name": "stdout",
     "output_type": "stream",
     "text": [
      "                            OLS Regression Results                            \n",
      "==============================================================================\n",
      "Dep. Variable:                    mpg   R-squared:                       0.721\n",
      "Model:                            OLS   Adj. R-squared:                  0.718\n",
      "Method:                 Least Squares   F-statistic:                     195.3\n",
      "Date:                Mon, 18 Sep 2023   Prob (F-statistic):          2.72e-102\n",
      "Time:                        12:46:03   Log-Likelihood:                -1087.2\n",
      "No. Observations:                 383   AIC:                             2186.\n",
      "Df Residuals:                     377   BIC:                             2210.\n",
      "Df Model:                           5                                         \n",
      "Covariance Type:            nonrobust                                         \n",
      "===============================================================================\n",
      "                  coef    std err          t      P>|t|      [0.025      0.975]\n",
      "-------------------------------------------------------------------------------\n",
      "cyl[4]         43.5856      1.556     28.013      0.000      40.526      46.645\n",
      "cyl[6]         30.3903      3.134      9.698      0.000      24.228      36.552\n",
      "cyl[8]         22.7335      3.072      7.400      0.000      16.693      28.774\n",
      "disp:cyl[4]    -0.1307      0.014     -9.360      0.000      -0.158      -0.103\n",
      "disp:cyl[6]    -0.0477      0.014     -3.360      0.001      -0.076      -0.020\n",
      "disp:cyl[8]    -0.0225      0.009     -2.552      0.011      -0.040      -0.005\n",
      "==============================================================================\n",
      "Omnibus:                       53.684   Durbin-Watson:                   0.839\n",
      "Prob(Omnibus):                  0.000   Jarque-Bera (JB):              101.680\n",
      "Skew:                           0.789   Prob(JB):                     8.33e-23\n",
      "Kurtosis:                       4.970   Cond. No.                     2.66e+03\n",
      "==============================================================================\n",
      "\n",
      "Notes:\n",
      "[1] Standard Errors assume that the covariance matrix of the errors is correctly specified.\n",
      "[2] The condition number is large, 2.66e+03. This might indicate that there are\n",
      "strong multicollinearity or other numerical problems.\n"
     ]
    }
   ],
   "source": [
    "model5 = smf.ols('mpg ~ 0 + cyl + disp:cyl', data=autompg).fit()\n",
    "print(model5.summary())"
   ]
  },
  {
   "cell_type": "code",
   "execution_count": 206,
   "id": "0bdaeda4",
   "metadata": {},
   "outputs": [
    {
     "name": "stdout",
     "output_type": "stream",
     "text": [
      "                            OLS Regression Results                            \n",
      "==============================================================================\n",
      "Dep. Variable:                    mpg   R-squared:                       0.721\n",
      "Model:                            OLS   Adj. R-squared:                  0.718\n",
      "Method:                 Least Squares   F-statistic:                     195.3\n",
      "Date:                Mon, 18 Sep 2023   Prob (F-statistic):          2.72e-102\n",
      "Time:                        12:46:15   Log-Likelihood:                -1087.2\n",
      "No. Observations:                 383   AIC:                             2186.\n",
      "Df Residuals:                     377   BIC:                             2210.\n",
      "Df Model:                           5                                         \n",
      "Covariance Type:            nonrobust                                         \n",
      "=================================================================================\n",
      "                    coef    std err          t      P>|t|      [0.025      0.975]\n",
      "---------------------------------------------------------------------------------\n",
      "cyl[4]           43.5856      1.556     28.013      0.000      40.526      46.645\n",
      "cyl[6]           30.3903      3.134      9.698      0.000      24.228      36.552\n",
      "cyl[8]           22.7335      3.072      7.400      0.000      16.693      28.774\n",
      "disp             -0.1307      0.014     -9.360      0.000      -0.158      -0.103\n",
      "disp:cyl[T.6]     0.0829      0.020      4.166      0.000       0.044       0.122\n",
      "disp:cyl[T.8]     0.1081      0.017      6.547      0.000       0.076       0.141\n",
      "==============================================================================\n",
      "Omnibus:                       53.684   Durbin-Watson:                   0.839\n",
      "Prob(Omnibus):                  0.000   Jarque-Bera (JB):              101.680\n",
      "Skew:                           0.789   Prob(JB):                     8.33e-23\n",
      "Kurtosis:                       4.970   Cond. No.                     4.05e+03\n",
      "==============================================================================\n",
      "\n",
      "Notes:\n",
      "[1] Standard Errors assume that the covariance matrix of the errors is correctly specified.\n",
      "[2] The condition number is large, 4.05e+03. This might indicate that there are\n",
      "strong multicollinearity or other numerical problems.\n"
     ]
    }
   ],
   "source": [
    "model6 = smf.ols('mpg ~ 0 + disp + cyl + disp:cyl', data=autompg).fit()\n",
    "print(model6.summary())"
   ]
  },
  {
   "cell_type": "markdown",
   "id": "6b800d9a",
   "metadata": {
    "id": "6b800d9a"
   },
   "source": [
    "\n",
    "Todos se ajustan al mismo modelo, cada uno con seis parámetros, pero los coeficientes significan cosas ligeramente diferentes en cada uno. Sin embargo, una vez interpretados como pendientes e interceptos para las \"tres líneas\", tendrán el mismo resultado.\n",
    "\n",
    "\n",
    "\n"
   ]
  },
  {
   "cell_type": "markdown",
   "id": "d6e7dce4",
   "metadata": {
    "id": "d6e7dce4"
   },
   "source": [
    "\n",
    "## Creación de modelos más amplios\n",
    "\n",
    "Ahora que hemos visto cómo incorporar predictores categóricos así como términos de interacción, podemos empezar a construir modelos mucho más grandes y flexibles que potencialmente pueden ajustarse mejor a los datos.\n",
    "\n",
    "Definamos un modelo \"grande\",\n",
    "\n",
    "$$Y = \\beta_0 + \\beta_1 x_1 + \\beta_2 x_2 + \\beta_3 x_3 + \\beta_4 x_1 x_2 + \\beta_5 x_1 x_3 + \\beta_6 x_2 x_3 + \\beta_7 x_1 x_2 x_3 + \\epsilon.$$\n",
    "\n",
    "Aquí,\n",
    "\n",
    "-   $Y$ es `mpg`.\n",
    "-   $x_1$ es `disp`.\n",
    "-   $x_2$ es `hp`.\n",
    "-   $x_3$ es `domestic`, que es una variable ficticia que definimos, donde `1` es un vehículo nacional.\n",
    "\n",
    "En primer lugar, hemos incluido un nuevo término $x_1 x_2 x_3$ que es una interacción de tres vías. Los términos de interacción pueden ser cada vez mayores, hasta el número de predictores del modelo.\n",
    "\n",
    "Dado que estamos utilizando el término de interacción de tres vías, también utilizamos todas las posibles interacciones de dos vías, así como cada uno de los términos de primer orden (**efecto principal**). Este es el concepto de **jerarquía**. Cada vez que un término de \"orden superior\" está en un modelo, los términos de \"orden inferior\" relacionados también deben incluirse. Matemáticamente, su inclusión o exclusión es a veces irrelevante, pero desde el punto de vista de la interpretación, es mejor seguir las reglas de la jerarquía.\n",
    "\n",
    "Hagamos algunos reordenamientos para obtener un \"coeficiente\" delante de $x_1$.\n",
    "\n",
    "$$Y = \\beta_0 + \\beta_2 x_2 + \\beta_3 x_3 + \\beta_6 x_2 x_3 + (\\beta_1 + \\beta_4 x_2 + \\beta_5 x_3 + \\beta_7 x_2 x_3)x_1 + \\epsilon.$$\n",
    "\n",
    "En concreto, el \"coeficiente\" delante de $x_1$ es\n",
    "\n",
    "$$(\\beta_1 + \\beta_4 x_2 + \\beta_5 x_3 + \\beta_7 x_2 x_3).$$\n",
    "\n",
    "Hablemos de este \"coeficiente\" para ayudarnos a comprender la idea de la *flexibilidad* de un modelo. Recordemos que\n",
    "\n",
    "- $\\beta_1$ es el coeficiente de un término de primer orden,\n",
    "- $\\beta_4$ y $\\beta_5$ son coeficientes para interacciones bidireccionales,\n",
    "- $\\beta_7$ es el coeficiente para la interacción de tres vías.\n",
    "\n",
    "Si las interacciones de dos y tres vías no estuvieran en el modelo, el \"coeficiente\" completo sería simplemente\n",
    "\n",
    "$$\\beta_1.$$\n",
    "\n",
    "Así, independientemente de los valores de $x_2$ y $x_3$, $\\beta_1$ determinaría la relación entre $x_1$ (`disp`) y $Y$ (`mpg`).\n",
    "\n",
    "Con la adición de las interacciones bidireccionales, ahora el \"coeficiente\" sería\n",
    "\n",
    "$$(\\beta_1 + \\beta_4 x_2 + \\beta_5 x_3).$$\n",
    "\n",
    "Ahora, cambiar $x_1$ (`disp`) tiene un efecto diferente en $Y$ (`mpg`), dependiendo de los valores de $x_2$ y $x_3$.\n",
    "\n",
    "Por último, añadiendo la interacción de tres vías se obtiene el \"coeficiente\" completo\n",
    "\n",
    "$$(\\beta_1 + \\beta_4 x_2 + \\beta_5 x_3 + \\beta_7 x_2 x_3)$$\n",
    "\n",
    "que es aún más flexible. Ahora cambiar $x_1$ (`disp`) tiene un efecto diferente en $Y$ (`mpg`), dependiendo de los valores de $x_2$ y $x_3$, pero de una manera más flexible que podemos ver con un poco más de reordenación. Ahora el \"coeficiente\" delante de $x_3$ en este \"coeficiente\" es depende de $x_2$.\n",
    "\n",
    "$$(\\beta_1 + \\beta_4 x_2 + (\\beta_5 + \\beta_7 x_2) x_3)$$\n",
    "\n",
    "Es tan flexible que resulta difícil de interpretar.\n",
    "\n",
    "Vamos a ajustar este modelo de interacción de tres vías en `Python`.\n"
   ]
  },
  {
   "cell_type": "code",
   "execution_count": 208,
   "id": "84df4ab1",
   "metadata": {},
   "outputs": [
    {
     "name": "stdout",
     "output_type": "stream",
     "text": [
      "                            OLS Regression Results                            \n",
      "==============================================================================\n",
      "Dep. Variable:                    mpg   R-squared:                       0.760\n",
      "Model:                            OLS   Adj. R-squared:                  0.756\n",
      "Method:                 Least Squares   F-statistic:                     169.7\n",
      "Date:                Mon, 18 Sep 2023   Prob (F-statistic):          4.53e-112\n",
      "Time:                        12:47:33   Log-Likelihood:                -1058.7\n",
      "No. Observations:                 383   AIC:                             2133.\n",
      "Df Residuals:                     375   BIC:                             2165.\n",
      "Df Model:                           7                                         \n",
      "Covariance Type:            nonrobust                                         \n",
      "====================================================================================\n",
      "                       coef    std err          t      P>|t|      [0.025      0.975]\n",
      "------------------------------------------------------------------------------------\n",
      "Intercept           60.6458      6.600      9.188      0.000      47.668      73.624\n",
      "disp                -0.1416      0.063     -2.232      0.026      -0.266      -0.017\n",
      "hp                  -0.3545      0.081     -4.364      0.000      -0.514      -0.195\n",
      "disp:hp              0.0014      0.001      2.035      0.043    4.62e-05       0.003\n",
      "domestic           -12.5729      7.064     -1.780      0.076     -26.464       1.318\n",
      "disp:domestic        0.0493      0.064      0.771      0.441      -0.077       0.175\n",
      "hp:domestic          0.1851      0.087      2.126      0.034       0.014       0.356\n",
      "disp:hp:domestic    -0.0009      0.001     -1.354      0.177      -0.002       0.000\n",
      "==============================================================================\n",
      "Omnibus:                       51.189   Durbin-Watson:                   1.080\n",
      "Prob(Omnibus):                  0.000   Jarque-Bera (JB):              111.254\n",
      "Skew:                           0.707   Prob(JB):                     6.94e-25\n",
      "Kurtosis:                       5.230   Cond. No.                     2.19e+06\n",
      "==============================================================================\n",
      "\n",
      "Notes:\n",
      "[1] Standard Errors assume that the covariance matrix of the errors is correctly specified.\n",
      "[2] The condition number is large, 2.19e+06. This might indicate that there are\n",
      "strong multicollinearity or other numerical problems.\n"
     ]
    }
   ],
   "source": [
    "big_model = smf.ols('mpg ~ disp * hp * domestic', data=autompg).fit()\n",
    "print(big_model.summary())"
   ]
  },
  {
   "cell_type": "markdown",
   "id": "dbe73680",
   "metadata": {
    "id": "dbe73680"
   },
   "source": [
    "\n",
    "¿Necesitamos un modelo tan grande? Probemos primero la necesidad del término de interacción de tres vías. Es decir,\n",
    "\n",
    "\n",
    "$$H_0: \\beta_7 = 0.$$\n",
    "\n",
    "Entonces,\n",
    "\n",
    "-   Modelo completo:\n",
    "    $Y = \\beta_0 + \\beta_1 x_1 + \\beta_2 x_2 + \\beta_3 x_3 + \\beta_4 x_1 x_2 + \\beta_5 x_1 x_3 + \\beta_6 x_2 x_3 + \\beta_7 x_1 x_2 x_3 + \\epsilon$\n",
    "-   Modelo nulo:\n",
    "    $Y = \\beta_0 + \\beta_1 x_1 + \\beta_2 x_2 + \\beta_3 x_3 + \\beta_4 x_1 x_2 + \\beta_5 x_1 x_3 + \\beta_6 x_2 x_3 + \\epsilon$\n",
    "\n",
    "Ajustamos el modelo nulo en `Python` como `two_way_int_mod`, luego usamos `anova_lm()` para realizar una prueba $F$ como de costumbre.\n"
   ]
  },
  {
   "cell_type": "code",
   "execution_count": 209,
   "id": "9943815f",
   "metadata": {},
   "outputs": [
    {
     "name": "stdout",
     "output_type": "stream",
     "text": [
      "                            OLS Regression Results                            \n",
      "==============================================================================\n",
      "Dep. Variable:                    mpg   R-squared:                       0.759\n",
      "Model:                            OLS   Adj. R-squared:                  0.755\n",
      "Method:                 Least Squares   F-statistic:                     197.2\n",
      "Date:                Mon, 18 Sep 2023   Prob (F-statistic):          7.68e-113\n",
      "Time:                        12:47:55   Log-Likelihood:                -1059.6\n",
      "No. Observations:                 383   AIC:                             2133.\n",
      "Df Residuals:                     376   BIC:                             2161.\n",
      "Df Model:                           6                                         \n",
      "Covariance Type:            nonrobust                                         \n",
      "=================================================================================\n",
      "                    coef    std err          t      P>|t|      [0.025      0.975]\n",
      "---------------------------------------------------------------------------------\n",
      "Intercept        52.0420      1.786     29.134      0.000      48.530      55.554\n",
      "disp             -0.0627      0.025     -2.502      0.013      -0.112      -0.013\n",
      "hp               -0.2519      0.029     -8.601      0.000      -0.309      -0.194\n",
      "disp:hp           0.0005   7.36e-05      6.297      0.000       0.000       0.001\n",
      "domestic         -3.6153      2.480     -1.458      0.146      -8.492       1.262\n",
      "disp:domestic    -0.0305      0.025     -1.224      0.222      -0.079       0.018\n",
      "hp:domestic       0.0784      0.037      2.115      0.035       0.006       0.151\n",
      "==============================================================================\n",
      "Omnibus:                       56.290   Durbin-Watson:                   1.072\n",
      "Prob(Omnibus):                  0.000   Jarque-Bera (JB):              124.316\n",
      "Skew:                           0.766   Prob(JB):                     1.01e-27\n",
      "Kurtosis:                       5.332   Cond. No.                     4.28e+05\n",
      "==============================================================================\n",
      "\n",
      "Notes:\n",
      "[1] Standard Errors assume that the covariance matrix of the errors is correctly specified.\n",
      "[2] The condition number is large, 4.28e+05. This might indicate that there are\n",
      "strong multicollinearity or other numerical problems.\n"
     ]
    }
   ],
   "source": [
    "two_way_int_mod = smf.ols('mpg ~ disp * hp + disp * domestic + hp * domestic', data=autompg).fit()\n",
    "\n",
    "print(two_way_int_mod.summary())"
   ]
  },
  {
   "cell_type": "code",
   "execution_count": 210,
   "id": "e657b7a6",
   "metadata": {},
   "outputs": [
    {
     "name": "stdout",
     "output_type": "stream",
     "text": [
      "   df_resid         ssr  df_diff   ss_diff         F    Pr(>F)\n",
      "0     376.0  5673.45199      0.0       NaN       NaN       NaN\n",
      "1     375.0  5645.85155      1.0  27.60044  1.833234  0.176561\n"
     ]
    }
   ],
   "source": [
    "# ANOVA comparison\n",
    "print(sm.stats.anova_lm(two_way_int_mod, big_model, typ=1))\n"
   ]
  },
  {
   "cell_type": "markdown",
   "id": "74e5c573",
   "metadata": {
    "id": "74e5c573"
   },
   "source": [
    "\n",
    "Vemos que el valor p es algo grande, por lo que no lo rechazaríamos. Preferimos el modelo nulo, más pequeño y menos flexible, sin la interacción de tres vías.\n",
    "\n",
    "Una nota rápida aquí: el modelo completo sigue \"ajustándose mejor\". Observe que tiene un RMSE menor que el modelo nulo, lo que significa que el modelo completo comete errores (al cuadrado) menores de media."
   ]
  },
  {
   "cell_type": "code",
   "execution_count": 211,
   "id": "f307a5d4",
   "metadata": {},
   "outputs": [
    {
     "name": "stdout",
     "output_type": "stream",
     "text": [
      "14.741126762831584\n",
      "14.813190574889921\n"
     ]
    }
   ],
   "source": [
    "print((big_model.resid ** 2).mean())\n",
    "\n",
    "print((two_way_int_mod.resid ** 2).mean())"
   ]
  },
  {
   "cell_type": "markdown",
   "id": "7d92e95a",
   "metadata": {
    "id": "7d92e95a"
   },
   "source": [
    "\n",
    "Sin embargo, no es mucho menor. Incluso podríamos decir que la diferencia es insignificante. Esta es una idea sobre la que volveremos más adelante con más detalle.\n",
    "\n",
    "Ahora que hemos elegido el modelo sin la interacción de tres vías, ¿podemos ir más allá? ¿Necesitamos las interacciones bidireccionales? Probemos\n",
    "\n",
    "$$H_0: \\beta_4 = \\beta_5 = \\beta_6 = 0.$$\n",
    "\n",
    "Recuerda que ya elegimos $\\beta_7 = 0$, entonces,\n",
    "\n",
    "-   Modelo completo\n",
    "    $Y = \\beta_0 + \\beta_1 x_1 + \\beta_2 x_2 + \\beta_3 x_3 + \\beta_4 x_1 x_2 + \\beta_5 x_1 x_3 + \\beta_6 x_2 x_3 + \\epsilon$\n",
    "-   Modelo nulo\n",
    "    $Y = \\beta_0 + \\beta_1 x_1 + \\beta_2 x_2 + \\beta_3 x_3 + \\epsilon$\n",
    "\n",
    "Ajustamos el modelo nulo en `Python` como `additive_mod`, luego usamos `anova_lm()` para\n"
   ]
  },
  {
   "cell_type": "markdown",
   "id": "41d22e94",
   "metadata": {
    "id": "41d22e94"
   },
   "source": [
    "realizar una prueba $F$ como de costumbre.\n"
   ]
  },
  {
   "cell_type": "code",
   "execution_count": 212,
   "id": "d7fe8cd6",
   "metadata": {},
   "outputs": [
    {
     "name": "stdout",
     "output_type": "stream",
     "text": [
      "   df_resid          ssr  df_diff      ss_diff          F        Pr(>F)\n",
      "0     379.0  7369.773479      0.0          NaN        NaN           NaN\n",
      "1     376.0  5673.451990      3.0  1696.321489  37.473769  3.289643e-21\n"
     ]
    }
   ],
   "source": [
    "\n",
    "additive_mod = smf.ols('mpg ~ disp + hp + domestic', data=autompg).fit()\n",
    "\n",
    "print(sm.stats.anova_lm(additive_mod, two_way_int_mod, typ=1))"
   ]
  },
  {
   "cell_type": "markdown",
   "id": "d63c44f2",
   "metadata": {
    "id": "d63c44f2"
   },
   "source": [
    "\n",
    "Aquí el valor p es pequeño, por lo que rechazamos el nulo y preferimos el modelo completo (alternativo). De los modelos que hemos considerado, nuestra preferencia final es para\n",
    "\n",
    "$$Y = \\beta_0 + \\beta_1 x_1 + \\beta_2 x_2 + \\beta_3 x_3 + \\beta_4 x_1 x_2 + \\beta_5 x_1 x_3 + \\beta_6 x_2 x_3 + \\epsilon.$$\n",
    "\n"
   ]
  }
 ],
 "metadata": {
  "colab": {
   "provenance": []
  },
  "kernelspec": {
   "display_name": "Python 3",
   "language": "python",
   "name": "python3"
  },
  "language_info": {
   "codemirror_mode": {
    "name": "ipython",
    "version": 3
   },
   "file_extension": ".py",
   "mimetype": "text/x-python",
   "name": "python",
   "nbconvert_exporter": "python",
   "pygments_lexer": "ipython3",
   "version": "3.9.13"
  }
 },
 "nbformat": 4,
 "nbformat_minor": 5
}