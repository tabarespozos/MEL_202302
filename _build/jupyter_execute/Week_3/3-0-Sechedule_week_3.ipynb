{
 "cells": [
  {
   "cell_type": "markdown",
   "metadata": {},
   "source": [
    "## Semana 3: Pruebas de hipótesis e intervalos de confianza"
   ]
  },
  {
   "cell_type": "markdown",
   "metadata": {
    "id": "sGn1L-nmCE-h"
   },
   "source": [
    "\n",
    "\n",
    "**Objetivo**\n",
    "Al final de esta semana, los estudiantes deben entender cómo establecer y realizar pruebas de hipótesis, y calcular e interpretar los intervalos de confianza.\n",
    "\n",
    "**Programa**\n",
    "\n",
    "*Introducción a las pruebas de hipótesis*\n",
    "- Comprender las hipótesis: Nula y alternativa\n",
    "- Nivel de significación y valores P\n",
    "- Tipos de error: Tipo I y Tipo II\n",
    "\n",
    "*Pruebas de hipótesis de una muestra*\n",
    "- Pruebas z y pruebas t\n",
    "- Pruebas direccionales y no direccionales\n",
    "\n",
    "*Pruebas de hipótesis con dos muestras*.\n",
    "- Pruebas t de muestras independientes y emparejadas\n",
    "- Supuestos y casos de uso\n",
    "\n",
    "*Introducción a los intervalos de confianza*\n",
    "- Interpretación y cálculo\n",
    "- Nivel de confianza y margen de error\n",
    "- Relación entre los intervalos de confianza y la comprobación de hipótesis\n",
    "\n",
    "\n",
    "**LLecturas obligatorias:**\n",
    "[Chapters 8, 9  and 10 from \"Applied Statistics and Probability for Engineers\" by Douglas C. Montgomery and George C. Runger.](https://uniandes.primo.exlibrisgroup.com/permalink/57U_UDLA/1sib6to/alma991005387282807681)\n",
    "\n",
    "**Material suplementario:**\n",
    "1. \"Statistics Explained: An Introductory Guide for Life Scientists\" by Steve McKillup.\n",
    "2. [Video Lecture: \"Hypothesis Testing and P-values\" by Khan Academy.](https://youtu.be/-FtlH4svqx4)\n",
    "3. [Video Lecture: \"Hypothesis Testing\" by jbstatistics](https://youtube.com/playlist?list=PLvxOuBpazmsNo893xlpXNfMzVpRBjDH67)\n",
    "\n",
    "**Tutorial de Software**\n",
    "\n",
    "[Python Tutorial: Hypothesis Testing and Confidence Intervals in Python.](https://www.kaggle.com/code/hamelg/python-for-data-24-hypothesis-testing)\n",
    "\n",
    "**Horario de oficina**\n",
    "Disponible bajo previa petición. Envíe un correo electrónico para concertar una cita.\n"
   ]
  }
 ],
 "metadata": {
  "colab": {
   "provenance": []
  },
  "kernelspec": {
   "display_name": "Python 3",
   "language": "python",
   "name": "python3"
  },
  "language_info": {
   "codemirror_mode": {
    "name": "ipython",
    "version": 3
   },
   "file_extension": ".py",
   "mimetype": "text/x-python",
   "name": "python",
   "nbconvert_exporter": "python",
   "pygments_lexer": "ipython3",
   "version": "3.8.0"
  }
 },
 "nbformat": 4,
 "nbformat_minor": 0
}