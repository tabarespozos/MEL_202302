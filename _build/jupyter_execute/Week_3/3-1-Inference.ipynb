{
 "cells": [
  {
   "cell_type": "markdown",
   "id": "17ab1cb9",
   "metadata": {
    "id": "17ab1cb9"
   },
   "source": [
    "## Lectura 3-1: Inferencia estadística"
   ]
  },
  {
   "cell_type": "markdown",
   "id": "814d8deb",
   "metadata": {
    "id": "814d8deb"
   },
   "source": [
    "# Poblaciones y muestras\n",
    "\n",
    "- El objetivo principal de la inferencia estadística es investigar propiedades sobre una **población** objetivo.\n",
    "\n",
    "- Una **población** es el conjunto de individuos que nos interesa estudiar.\n",
    "\n",
    "- Puede ser cualquier cosa, desde todos los seres humanos hasta un tipo específico de célula.\n",
    "\n",
    "- Los elementos individuales de la población a veces se denominan  **unidades**.\n",
    "\n",
    "    - Ejemplo: ¿Cuál es la altura promedio de todas las personas en Uruguay? Aquí la población son todos los habitantes de Uruguay.\n",
    "\n",
    "- Para sacar conclusiones sobre una **población**, generalmente no es posible reunir todos los datos sobre ella.\n",
    "\n",
    "- El caso especial en que se recopilan datos de toda la población es  un **censo**.\n",
    "\n",
    "- En la inferencia estadística intentamos sacar conclusiones razonables sobre  una población basándonos en la evidencia proporcionada por los **datos de la muestra**.\n",
    "\n",
    "- Una **estadística muestral** o simplemente **estadística** es una medida cuantitativa calculada a partir de una muestra.      \n",
    "\n",
    "    - Ejemplos: la media, la desviación típica, el mínimo, el máximo."
   ]
  },
  {
   "cell_type": "markdown",
   "id": "6a902772",
   "metadata": {
    "id": "6a902772"
   },
   "source": [
    "**Ejemplo**\n",
    "\n",
    "- Realizar una **encuesta** por muestreo puede ayudar a determinar el porcentaje de personas de una población que tienen una característica determinada.\n",
    "\n",
    "- Nielsen Media Research realiza una **encuesta** para poder obtener una   estimación de la proporción de hogares estadounidenses que sintonizan  un determinado programa de televisión.\n",
    "\n",
    "- La proporción real que Nielsen obtendría de una encuesta se denomina \"parámetro de población\".\n",
    "\n",
    "- Nielsen utiliza la proporción en la **muestra** como una **estimación** de  este parámetro.\n",
    "\n",
    "- Dicha estimación a partir de una muestra se denomina **estadística**."
   ]
  },
  {
   "cell_type": "markdown",
   "id": "a040dfbd",
   "metadata": {
    "id": "a040dfbd"
   },
   "source": [
    "## Métodos de muestreo\n",
    "\n",
    "- Nuestro objetivo en el muestreo es determinar el valor de una estadística para toda una población de interés, utilizando sólo un pequeño subconjunto de la población.\n",
    "\n",
    "- Lo hacemos principalmente para ahorrar tiempo y esfuerzo.\n",
    "\n",
    "- Una buena muestra es **representativa**: se parece a una pequeña versión de la población.\n",
    "\n",
    "- En la práctica, no podemos saber si una muestra es representativa, ya que no podemos obtener todos los datos de la población.\n",
    "\n",
    "- Pero sí podemos saber si un **método de muestreo** es bueno o no.\n",
    "\n",
    "- Un método de muestreo es **sesgado** si produce muestras tales que la estimación de la muestra es mayor o menor, por término medio, que el parámetro de la población que se está estimando.\n",
    "\n",
    "- Los problemas o **sesgos** de un método de muestreo pueden tener dos orígenes:"
   ]
  },
  {
   "cell_type": "markdown",
   "id": "04e0e07d",
   "metadata": {
    "id": "04e0e07d"
   },
   "source": [
    "## Sesgos\n",
    "\n",
    "### Sesgo de selección de la muestra\n",
    "\n",
    "El sesgo de selección de la muestra se produce cuando las muestras tienden a dar lugar a estimaciones de los parámetros de la población que son sistemáticamente demasiado altas o demasiado bajas. Puede producirse de las siguientes formas:\n",
    "\n",
    "- **Sesgo de tamaño**: utilización de un método que da a las unidades más grandes una mayor chance  de estar en la muestra.\n",
    "\n",
    "- **Sesgo de respuesta voluntaria**: dejar que las personas se ofrezcan voluntarias para estar en la  muestra.\n",
    "\n",
    "- **Sesgo de conveniencia**: las unidades se eligen por conveniencia.\n",
    "\n",
    "- **Sesgo de muestreo por juicio**: selección de las unidades de muestreo basada en juicio de \"expertos\". Problema: los expertos pueden pasar por alto importantes de una población.\n",
    "\n",
    "- **Sesgo del marco de muestreo**: un marco de muestreo es la \"lista\" de todas las unidades de población de las que se selecciona la muestra. La construcción de un  marco de muestreo inadecuado es una causa de sesgo."
   ]
  },
  {
   "cell_type": "markdown",
   "id": "e783e2f8",
   "metadata": {
    "id": "e783e2f8"
   },
   "source": [
    "### Sesgo de respuesta\n",
    "\n",
    "Estos tipos de sesgo se derivan del método de obtención de la respuesta.\n",
    "\n",
    "- **Sesgo de falta de respuesta**: a menudo, las personas se niegan a responder a una encuesta.   Estas personas pueden ser diferentes de las que aceptan participar.\n",
    "\n",
    "- **Sesgo de respuesta incorrecta o de medición**: el sesgo puede deberse a una mentira intencionada o a un error de medición. resultado de una mentira intencionada, o provenir de dispositivos de medición inexactos, incluidos los recuerdos inexactos de las personas entrevistadas en los datos autodeclarados.\n",
    "\n",
    "- **Sesgo de cuestionario**: las opiniones de las personas pueden variar en función del tono de voz del entrevistador, el orden en que se formulan las preguntas y la redacción de las mismas, etc.\n"
   ]
  },
  {
   "cell_type": "markdown",
   "id": "f425ac55",
   "metadata": {
    "id": "f425ac55"
   },
   "source": [
    "## Muestras aleatorias\n",
    "\n",
    "- La idea clave para construir una buena muestra es **aleatorizar**, es decir, dejar que el azar elija las unidades de muestreo.\n",
    "\n",
    "- La selección de la muestra por azar es el único método que garantiza la imparcialidad.\n",
    "\n",
    "- Todas las muestras posibles de un tamaño fijo dado tienen la misma probabilidad.\n",
    "\n",
    "- Se indexan todos los individuos de la población y se extraen aleatoriamente con igual probabilidad hasta alcanzar el tamaño de la muestra."
   ]
  },
  {
   "cell_type": "markdown",
   "id": "6c136402",
   "metadata": {
    "id": "6c136402"
   },
   "source": [
    "## Muestreo aleatorio estratificado\n",
    "\n",
    "- Dividimos la población en subgrupos basados en características compartidas (por ejemplo, país, ciudad) que no se solapan y que cubren todo el marco de muestreo.\n",
    "\n",
    "- Estos subgrupos se denominan estratos.\n",
    "\n",
    "- Se toma una muestra aleatoria simple para cada estrato proporcional a su tamaño.\n",
    "\n",
    "- Garantiza que cada estrato esté debidamente representado en la muestra."
   ]
  },
  {
   "cell_type": "markdown",
   "id": "2069507f",
   "metadata": {
    "id": "2069507f"
   },
   "source": [
    "![](../Images/sample_strat.png)"
   ]
  },
  {
   "cell_type": "markdown",
   "id": "f3b765da",
   "metadata": {
    "id": "f3b765da"
   },
   "source": [
    "## Definición formal de la inferencia estadística\n",
    "\n",
    "- El proceso de extraer conclusiones sobre una población a partir de datos muestrales se conoce como **inferencia estadística**.\n",
    "\n",
    "- Desde un punto de vista general, el objetivo de la inferencia es **inferir** la distribución que genera los datos observados.\n",
    "\n",
    "    - Ejemplo: Dada una muestra $X_1, \\dots, X_n \\sim F$, ¿cómo inferimos $F$?\n",
    "\n",
    "- Sin embargo, en la mayoría de los casos sólo nos interesa inferir alguna propiedad de $F$ (por ejemplo, su valor **medio**).\n",
    "\n",
    "- Los modelos estadísticos que suponen que la distribución puede modelizarse con un conjunto finito de parámetros $\\theta= (\\theta_{1},\\theta_{2},\\dots,\\theta_{k})$ se denominan **modelos paramétricos**.\n",
    "\n",
    "- Ejemplo: si suponemos que los datos proceden de una distribución normal $N(\\mu,\\sigma^2)$, $\\mu$ y $\\sigma$ serían los parámetros del modelo."
   ]
  },
  {
   "cell_type": "markdown",
   "id": "7951bef7",
   "metadata": {
    "id": "7951bef7"
   },
   "source": [
    "## Enfoque Frecuentista\n",
    "\n",
    "Los métodos estadísticos que se presentarán en esta clase se conocen como **métodos frecuentistas (o clásicos)**. Se basan en los siguientes\n",
    "postulados :\n",
    "\n",
    "- La probabilidad se refiere a frecuencias relativas límite. Las probabilidades son propiedades objetivas del mundo real.\n",
    "\n",
    "- Los parámetros son constantes fijas y desconocidas. Como no fluctúan, no se pueden hacer afirmaciones útiles sobre la probabilidad de los parámetros.\n",
    "\n",
    "- Los procedimientos estadísticos deben diseñarse para que tengan propiedades de frecuencia a largo plazo bien definidas. Por ejemplo, un intervalo de confianza del 95% debe atrapar el valor verdadero del parámetro con una frecuencia límite de al menos el 95%.\n",
    "    \n",
    "Existe otro enfoque de la inferencia denominado **inferencia bayesiana**, que se basa en postulados diferentes, que en una sección asincronica les compartiré."
   ]
  },
  {
   "cell_type": "markdown",
   "id": "32e78d8f",
   "metadata": {
    "id": "32e78d8f"
   },
   "source": [
    "## Estimación puntual\n",
    "\n",
    "Definición puntual:\n",
    "\n",
    "-   Sean $X_1, \\dots, X_n$  $n$  puntos de datos IID de alguna distribución $F$.\n",
    "\n",
    "-    Un estimador puntual $\\hat{\\theta}_n$ de un parámetro $\\theta$ es una función de $X_1, \\dots, X_n$: $$\\hat{\\theta}_n=g(X_1, \\dots, X_n)$$\n",
    "\n",
    "-   El **bias** de un estimador se define como:\n",
    "  \n",
    "  $$\\text{bias}(\\hat{\\theta}_n)=\\mathbb{E}(\\hat{\\theta}_n)-\\theta$$\n",
    "\n",
    "-   Un estimador es no sesgado si $\\mathbb{E}(\\hat{\\theta}_n)=\\theta$ or $\\text{bias}(\\hat{\\theta}_n)=0$"
   ]
  },
  {
   "cell_type": "markdown",
   "id": "e90e6b02",
   "metadata": {
    "id": "e90e6b02"
   },
   "source": [
    "## Distribución de las muestras\n",
    "\n",
    "- Si tomamos múltiples muestras, el valor de nuestra estimación estadística\n",
    "    $\\hat{\\theta}_n$ también variará de una muestra a otra.\n",
    "\n",
    "-   Nos referimos a esta distribución de nuestro estimador a través de las muestras como la  **distribución muestral** .\n",
    "\n",
    "-  La distribución de muestreo puede considerarse como la distribución de $\\hat{\\theta}_n$ para todas las muestras posibles de la misma población de tamaño $n$.\n",
    "    \n",
    "- La distribución de muestreo describe la variabilidad de la estimación puntual en torno al parámetro poblacional verdadero de una muestra a otra.\n",
    "\n",
    "- ***Debemos tener en cuenta que se trata de un concepto imaginario, ya que en situaciones reales no podemos obtener todas las muestras posibles.***\n",
    "\n",
    "- De hecho, en la mayoría de los casos sólo trabajaremos con una única muestra."
   ]
  },
  {
   "cell_type": "markdown",
   "id": "3fb30618",
   "metadata": {
    "id": "3fb30618"
   },
   "source": [
    "## Error estándar\n",
    "\n",
    "- La desviación estándar de $\\hat{\\theta}_n$ se denomina **error estándar**  $se$:\n",
    "\n",
    "$$se(\\hat{\\theta}_n)=\\sqrt{\\mathbb{V}(\\hat{\\theta}_n})$$\n",
    "\n",
    "- El error típico nos habla de la variabilidad del estimador entre todas las muestras posibles del mismo tamaño.\n",
    "\n",
    "- - Es una medida de la incertidumbre de la estimación puntual."
   ]
  },
  {
   "cell_type": "markdown",
   "id": "2689b5b1",
   "metadata": {
    "id": "2689b5b1"
   },
   "source": [
    "## La media muestral\n",
    "\n",
    "- Sea  $X_1,X_2,\\dots,X_n$ una muestra aleatoria de una población de media $\\mu$ y varianza $\\sigma^2$.\n",
    "\n",
    "-  Supongamos que estamos interesados en estimar la **media poblacional** $\\mu$ (por ejemplo, la estatura media de los Colombianos).\n",
    "\n",
    "-   Una estadística muestral que podemos obtener de los datos es la **media muestral** $\\overline{X_{n}}$:\n",
    "\n",
    " $$\\overline{X_{n}}=\\frac{1}{n}\\sum_{i=1}^{n} X_i$$\n",
    "\n",
    "-   La media muestral es un **estimador puntual** de la media  $\\overline{X_{n}} = \\hat{\\mu}$.\n",
    "\n",
    "-  Podemos demostrar que la media muestral es un estimador no sesgado de $\\mu$:\n",
    "\n",
    " $$\\mathbb{E}(\\overline{X_{n}}) = \\mathbb{E}(\\frac 1n \\sum_{i=1}^{n} X_i)  =  \\frac 1n \\times \\mathbb{E}(\\sum_{i=1}^{n} X_i) = \\frac 1n (n \\times \\mu) = \\mu$$"
   ]
  },
  {
   "cell_type": "markdown",
   "id": "ecd69a78",
   "metadata": {
    "id": "ecd69a78"
   },
   "source": [
    "## El error típico de la media muestral\n",
    "\n",
    "- Error típico de la media muestral $se(\\overline{X_{n}}) = \\sqrt{\\mathbb{V}(\\overline{X_{n}})}$ puede ser calculada como:\n",
    "  \n",
    " $$\\mathbb{V}(\\overline{X_{n}})=\\mathbb{V}(\\frac 1n \\sum_{i=1}^{n} X_i) = \\frac{1}{n^2} \\mathbb{V}(\\sum_{i=1}^{n} X_i) = \\frac{n}{n^2} \\mathbb{V}(X_i)=\\frac{\\sigma^2}{n}$$\n",
    "\n",
    "-   Entonces, $$se(\\overline{X_{n}}) = \\frac{\\sigma}{\\sqrt{n}}$$\n",
    "\n",
    "-   La fórmula del error típico de la media implica que la  calidad de nuestra medición implica dos cantidades: la variabilidad población $\\sigma$, y el tamaño de nuestra muestra $n$."
   ]
  },
  {
   "cell_type": "markdown",
   "id": "e477a641",
   "metadata": {
    "id": "e477a641"
   },
   "source": [
    "### Comentarios\n",
    "\n",
    "- No tenemos control sobre la variabilidad de la población, pero sí sobre el tamaño de la muestra.\n",
    "  \n",
    "- Por lo tanto, si deseamos mejorar nuestras estadísticas muestrales (reduciendo su variabilidad muestral), deberíamos utilizar muestras más grandes.\n",
    "\n",
    "- Sin embargo, la fórmula también nos dice algo muy fundamental sobre  muestreo estadístico.\n",
    "\n",
    "    - Que la utilidad de las muestras más grandes disminuye con la raíz cuadrada del tamaño de la muestra.\n",
    "\n",
    "    - Esto significa que duplicar el tamaño de la muestra no duplicará la calidad de las estadísticas, sino que la mejorará en un factor de $\\sqrt{2}$."
   ]
  },
  {
   "cell_type": "markdown",
   "id": "f656b364",
   "metadata": {
    "id": "f656b364"
   },
   "source": [
    "## Varianza de la muestra\n",
    "\n",
    "- Un problema común al calcular $se(\\overline{X_{n}})$ es que, en  general, no conocemos $\\sigma$ de la población.\n",
    "\n",
    "- En esos casos podemos estimar $\\sigma$ utilizando la **varianza muestral** $s$:\n",
    "    $$s^{2}= \\frac{1}{n-1} \\sum_{i}^{n}(X_{i}-\\overline{X_{n}})^2$$\n",
    "\n",
    "- Se trata de un estimador insesgado de la varianza.\n",
    "\n",
    "- El error estándar de la media muestral cuando se desconoce la varianza poblacional es desconocida se puede estimar de la siguiente manera:\n",
    "    $$\\hat{se}(\\overline{X_{n}}) = \\frac{s}{\\sqrt{n}}$$"
   ]
  },
  {
   "cell_type": "markdown",
   "id": "a136da42",
   "metadata": {
    "id": "a136da42"
   },
   "source": [
    "## Varianza de la población\n",
    "\n",
    "- También existe la varianza poblacional, definida de la siguiente manera:\n",
    "\n",
    "    $$\\sigma^{2}= \\frac{1}{N} \\sum_{i}^{N}(X_{i}-\\overline{X_{N}})^2$$\n",
    "\n",
    "-  La varianza poblacional sólo debe calcularse a partir de datos  población (todos los individuos).\n",
    "\n",
    "- Tenga en cuenta que estamos utilizando $N$ en lugar de $n$ para denotar toda la    población en lugar de una muestra.\n",
    "\n",
    "- Si se calcula a partir de una muestra, sería un estimador **sesgado**   de la varianza de la población."
   ]
  },
  {
   "cell_type": "markdown",
   "id": "d03d5eec",
   "metadata": {
    "id": "d03d5eec"
   },
   "source": [
    "## La distribución muestral de la media muestral\n",
    "\n",
    "- Ya hemos dicho que la distribución muestral es un concepto imaginario.\n",
    "\n",
    "- Imaginemos la distribución muestral de la media muestral.\n",
    "\n",
    "- Imaginemos que se extraen (con reposición) todas las muestras posibles de tamaño $n$ de una población.\n",
    "\n",
    "- A continuación, calcule para cada muestra el estadístico muestral, que en este caso es la media muestral.\n",
    "    \n",
    "- La distribución de frecuencias de esas medias muestrales sería la distribución muestral de la media (para muestras de tamaño $n$ extraídas de esa población concreta).\n",
    "\n",
    "- En el siguiente ejemplo calcularemos la distribución muestral para un ejemplo de juguete en el que se conoce la población.\n",
    "\n",
    "- Supongamos que nuestra población entera es una familia de 5 hermanos y nuestra propiedad de interés es la edad medida en años.\n",
    "\n",
    "- Nuestra población consta de los 5 valores siguientes: 2, 3, 4, 5 y 6.\n",
    "\n",
    "- Calculemos la media poblacional $\\mu$ y la desviación estándar poblacional  desviación típica $\\sigma$."
   ]
  },
  {
   "cell_type": "code",
   "execution_count": 4,
   "id": "44ea20ca",
   "metadata": {
    "id": "44ea20ca",
    "outputId": "49a85781-cd7e-4901-e281-994b64edbcdb"
   },
   "outputs": [
    {
     "name": "stdout",
     "output_type": "stream",
     "text": [
      "4.0\n",
      "1.4142135623730951\n"
     ]
    }
   ],
   "source": [
    "import numpy as np\n",
    "\n",
    "# Given population\n",
    "pop = np.array([2,3,4,5,6])\n",
    "\n",
    "# Calculate mean\n",
    "pop_mean = np.mean(pop)\n",
    "print(pop_mean)\n",
    "\n",
    "# Calculate standard deviation\n",
    "pop_sd = np.std(pop, ddof=0)\n",
    "print(pop_sd)\n"
   ]
  },
  {
   "cell_type": "markdown",
   "id": "81ed1d06",
   "metadata": {
    "id": "81ed1d06"
   },
   "source": [
    "- Ahora, vamos a extraer las 25 posibles muestras (con reemplazo) de tamaño $2$."
   ]
  },
  {
   "cell_type": "code",
   "execution_count": 6,
   "id": "bbd97846",
   "metadata": {
    "colab": {
     "base_uri": "https://localhost:8080/"
    },
    "executionInfo": {
     "elapsed": 888,
     "status": "ok",
     "timestamp": 1693540183803,
     "user": {
      "displayName": "Alejandra Tabares Pozos",
      "userId": "11764672960998511893"
     },
     "user_tz": 300
    },
    "id": "bbd97846",
    "outputId": "75dd90d9-be05-4ea0-c559-483a3d0d72f8"
   },
   "outputs": [
    {
     "name": "stdout",
     "output_type": "stream",
     "text": [
      "    item_1  item_2\n",
      "0        2       2\n",
      "1        2       3\n",
      "2        2       4\n",
      "3        2       5\n",
      "4        2       6\n",
      "5        3       2\n",
      "6        3       3\n",
      "7        3       4\n",
      "8        3       5\n",
      "9        3       6\n",
      "10       4       2\n",
      "11       4       3\n",
      "12       4       4\n",
      "13       4       5\n",
      "14       4       6\n",
      "15       5       2\n",
      "16       5       3\n",
      "17       5       4\n",
      "18       5       5\n",
      "19       5       6\n",
      "20       6       2\n",
      "21       6       3\n",
      "22       6       4\n",
      "23       6       5\n",
      "24       6       6\n"
     ]
    }
   ],
   "source": [
    "import itertools\n",
    "import pandas as pd\n",
    "\n",
    "# Given population from the previous example\n",
    "pop = [2,3,4,5,6]\n",
    "samp_size = 2\n",
    "\n",
    "# Generate all possible samples with repetition\n",
    "samples = list(itertools.product(pop, repeat=samp_size))\n",
    "\n",
    "# Convert to DataFrame (similar to tibble in R)\n",
    "df_samples = pd.DataFrame(samples, columns=[f'item_{i+1}' for i in range(samp_size)])\n",
    "\n",
    "print(df_samples)\n"
   ]
  },
  {
   "cell_type": "markdown",
   "id": "13c27316",
   "metadata": {
    "id": "13c27316"
   },
   "source": [
    "\n",
    "- Podemos calcular la media muestral de cada muestra utilizando usando pandas:\n"
   ]
  },
  {
   "cell_type": "code",
   "execution_count": 7,
   "id": "bb92adfb",
   "metadata": {
    "colab": {
     "base_uri": "https://localhost:8080/"
    },
    "executionInfo": {
     "elapsed": 299,
     "status": "ok",
     "timestamp": 1693540186469,
     "user": {
      "displayName": "Alejandra Tabares Pozos",
      "userId": "11764672960998511893"
     },
     "user_tz": 300
    },
    "id": "bb92adfb",
    "outputId": "62ca8bae-c444-4307-c149-1426da9dfed6"
   },
   "outputs": [
    {
     "name": "stdout",
     "output_type": "stream",
     "text": [
      "    item_1  item_2  sample_mean\n",
      "0        2       2          2.0\n",
      "1        2       3          2.5\n",
      "2        2       4          3.0\n",
      "3        2       5          3.5\n",
      "4        2       6          4.0\n",
      "5        3       2          2.5\n",
      "6        3       3          3.0\n",
      "7        3       4          3.5\n",
      "8        3       5          4.0\n",
      "9        3       6          4.5\n",
      "10       4       2          3.0\n",
      "11       4       3          3.5\n",
      "12       4       4          4.0\n",
      "13       4       5          4.5\n",
      "14       4       6          5.0\n",
      "15       5       2          3.5\n",
      "16       5       3          4.0\n",
      "17       5       4          4.5\n",
      "18       5       5          5.0\n",
      "19       5       6          5.5\n",
      "20       6       2          4.0\n",
      "21       6       3          4.5\n",
      "22       6       4          5.0\n",
      "23       6       5          5.5\n",
      "24       6       6          6.0\n"
     ]
    }
   ],
   "source": [
    "# Calculate row-wise mean and add it as a new column\n",
    "df_samples['sample_mean'] = df_samples.mean(axis=1)\n",
    "\n",
    "print(df_samples)\n"
   ]
  },
  {
   "cell_type": "code",
   "execution_count": 16,
   "id": "c8b74f5e",
   "metadata": {
    "colab": {
     "base_uri": "https://localhost:8080/",
     "height": 449
    },
    "executionInfo": {
     "elapsed": 1616,
     "status": "ok",
     "timestamp": 1693540191358,
     "user": {
      "displayName": "Alejandra Tabares Pozos",
      "userId": "11764672960998511893"
     },
     "user_tz": 300
    },
    "id": "c8b74f5e",
    "outputId": "43ca78ba-8b09-4cf5-8a32-cb13976059e5"
   },
   "outputs": [
    {
     "data": {
      "image/png": "[encoded data removed]",
      "text/plain": [
       "<Figure size 640x480 with 1 Axes>"
      ]
     },
     "metadata": {},
     "output_type": "display_data"
    }
   ],
   "source": [
    "import matplotlib.pyplot as plt\n",
    "import seaborn as sns\n",
    "\n",
    "# Given population\n",
    "pop = [2, 3, 4, 5, 6]\n",
    "\n",
    "# Create histogram using seaborn\n",
    "sns.histplot(df_samples['sample_mean'], bins=9, color=\"blue\", kde=True).set_facecolor(\"white\")\n",
    "\n",
    "\n",
    "plt.xlabel('pop')\n",
    "plt.show()\n"
   ]
  },
  {
   "cell_type": "markdown",
   "id": "215f221d",
   "metadata": {
    "id": "215f221d"
   },
   "source": [
    "\n",
    "- Puede que haya observado que el histograma tiene un pico en el centro y es  simétrico.\n",
    "\n",
    "- ***Esto es una consecuencia del ¡¡¡Teorema Central del Límite!!!***\n",
    "\n",
    "- Podemos ver que la distribución de la población es muy diferente de la distribución muestral:"
   ]
  },
  {
   "cell_type": "code",
   "execution_count": 14,
   "id": "x8Bu1cVA024Q",
   "metadata": {
    "colab": {
     "base_uri": "https://localhost:8080/",
     "height": 472
    },
    "executionInfo": {
     "elapsed": 389,
     "status": "ok",
     "timestamp": 1693540198327,
     "user": {
      "displayName": "Alejandra Tabares Pozos",
      "userId": "11764672960998511893"
     },
     "user_tz": 300
    },
    "id": "x8Bu1cVA024Q",
    "outputId": "159eff78-b831-46d6-c951-fd9b590ecb29"
   },
   "outputs": [
    {
     "data": {
      "image/png": "[encoded data removed]",
      "text/plain": [
       "<Figure size 640x480 with 1 Axes>"
      ]
     },
     "metadata": {},
     "output_type": "display_data"
    }
   ],
   "source": [
    "import matplotlib.pyplot as plt\n",
    "\n",
    "data = [2, 3, 4, 5, 6]\n",
    "\n",
    "# Creando el histograma\n",
    "plt.bar(data, [1/len(data) for _ in data], align='center', alpha=0.7, width=0.5)\n",
    "plt.xticks(data)\n",
    "plt.xlabel('Valor')\n",
    "plt.ylabel('Probabilidad')\n",
    "plt.title('Histograma Equiprobable')\n",
    "plt.ylim(0, 0.3)  # Ajustar el eje y para que vaya de 0 a 1\n",
    "plt.show()\n"
   ]
  },
  {
   "cell_type": "markdown",
   "id": "807fd1a2",
   "metadata": {
    "id": "807fd1a2"
   },
   "source": [
    "- Calculemos la media y la desviación típica de la media muestral:\n"
   ]
  },
  {
   "cell_type": "code",
   "execution_count": 12,
   "id": "ePLtUpLM2dXF",
   "metadata": {
    "colab": {
     "base_uri": "https://localhost:8080/"
    },
    "executionInfo": {
     "elapsed": 315,
     "status": "ok",
     "timestamp": 1693540412172,
     "user": {
      "displayName": "Alejandra Tabares Pozos",
      "userId": "11764672960998511893"
     },
     "user_tz": 300
    },
    "id": "ePLtUpLM2dXF",
    "outputId": "9e9c8ce9-186e-4007-f915-ca36c04114db"
   },
   "outputs": [
    {
     "name": "stdout",
     "output_type": "stream",
     "text": [
      "\n",
      "Media de las medias muestrales: 4.00\n",
      "Desviación estándar de las medias muestrales: 1.02\n"
     ]
    }
   ],
   "source": [
    "\n",
    "# Calculate the mean and standard deviation of the sample means\n",
    "mean_of_sample_means = df_samples['sample_mean'].mean()\n",
    "std_of_sample_means = df_samples['sample_mean'].std()\n",
    "\n",
    "print(f\"\\nMedia de las medias muestrales: {mean_of_sample_means:.2f}\")\n",
    "print(f\"Desviación estándar de las medias muestrales: {std_of_sample_means:.2f}\")\n"
   ]
  },
  {
   "cell_type": "markdown",
   "id": "f1bdbdb1",
   "metadata": {
    "id": "f1bdbdb1"
   },
   "source": [
    "      \n",
    "-   Podemos ver que la media de la distribución muestral de la media $\\mu_{\\overline{X}}$ es igual a la media poblacional $\\mu$.\n",
    "\n",
    "-   También podemos calcular el error típico teórico $se=\\sigma/\\sqrt{n}$"
   ]
  },
  {
   "cell_type": "code",
   "execution_count": 19,
   "id": "AY1M2YYN39CT",
   "metadata": {
    "colab": {
     "base_uri": "https://localhost:8080/"
    },
    "executionInfo": {
     "elapsed": 5,
     "status": "ok",
     "timestamp": 1693540409282,
     "user": {
      "displayName": "Alejandra Tabares Pozos",
      "userId": "11764672960998511893"
     },
     "user_tz": 300
    },
    "id": "AY1M2YYN39CT",
    "outputId": "fa487d51-3bdb-426a-fadd-1081e2c5638f"
   },
   "outputs": [
    {
     "name": "stdout",
     "output_type": "stream",
     "text": [
      "Desviación estándar de las medias muestrales: 1.00\n"
     ]
    }
   ],
   "source": [
    "import numpy as np\n",
    "\n",
    "# Given population and sample size\n",
    "pop = [2,3,4,5,6]\n",
    "samp_size = 2\n",
    "\n",
    "# Calculate standard deviation of population\n",
    "pop_sd = np.std(pop, ddof=0)\n",
    "\n",
    "# Calculate standard error\n",
    "standard_error = pop_sd / np.sqrt(samp_size)\n",
    "\n",
    "print(f\"Desviación estándar de las medias muestrales: {standard_error:.2f}\")\n"
   ]
  },
  {
   "cell_type": "markdown",
   "id": "eeebab9e",
   "metadata": {
    "id": "eeebab9e"
   },
   "source": [
    "### Comentarios\n",
    "\n",
    "- El teorema del límite central nos indica las condiciones en las que la  distribución muestral de la media es normal o, al menos, aproximadamente normal.\n",
    "\n",
    "    - Si la población de la que se toma la muestra se distribuye normalmente, entonces la distribución muestral de la media será normal, independientemente del tamaño de la muestra.\n",
    "\n",
    "    - Si la población de la que se toma la muestra no es normal, la distribución muestral de la media seguirá siendo aproximadamente normal si el tamaño de la muestra es suficiente.\n",
    "\n",
    "- ¿Qué tamaño es suficiente? Algunos autores dicen que 30 ó 40. Pero si la  distribución de la población es extremadamente no normal (es decir, muy sesgada)  necesitará más.\n"
   ]
  },
  {
   "cell_type": "markdown",
   "id": "ca185044",
   "metadata": {
    "id": "ca185044"
   },
   "source": [
    "## Estimación puntual de una proporción\n",
    "\n",
    "- Supongamos que queremos estimar la fracción de personas que votarán por  un determinado candidato.\n",
    "\n",
    "- Nuestro parámetro poblacional $p$ corresponde a la verdadera fracción de  votantes de este candidato.\n",
    "\n",
    "- Podemos modelizar una muestra de votantes independientes $X_1, \\dots, X_n$, como variables aleatorias con distribución Bernoulli y parámetro $p$.\n",
    "\n",
    "- Interpretamos $X_i=0$ como un voto negativo y $X_i=1$ como un voto positivo.\n",
    "\n",
    "- La proporción muestral $\\hat{p}_{n}=\\frac 1n \\sum_{i}X_{i}$ es nuestro estimador de $p$."
   ]
  },
  {
   "cell_type": "markdown",
   "id": "fe27881d",
   "metadata": {
    "id": "fe27881d"
   },
   "source": [
    "- Entonces $\\mathbb{E}(\\hat{p}_{n})= \\frac 1n \\sum_i \\mathbb{E}(X_i)=p$, y $\\hat{p}_n$ es no sesgada\n",
    "\n",
    "-   El error estándar $se$ sería\n",
    "  \n",
    "  $$se = \\sqrt{\\mathbb{V}(\\hat{p}_n)}= \\sqrt{p(1-p)/n}$$\n",
    "\n",
    "-   El error estándar estimado $\\hat{se}$:\n",
    "  \n",
    "  $$\\hat{se} =\\sqrt{\\hat{p}(1-\\hat p)/n}$$\n",
    "\n",
    "-  Por el Teorema Central del Límite, la distribución muestral de la proporción muestral converge a una distribución normal:\n",
    "  \n",
    "  $$\\hat{p}_{n} \\approx N(p, \\hat{se}^2)$$\n",
    "\n",
    "-   Esto se debe a que la proporción muestral es en realidad la media muestral de una población binaria."
   ]
  },
  {
   "cell_type": "markdown",
   "id": "754dfac0",
   "metadata": {
    "id": "754dfac0"
   },
   "source": [
    "## Consistencia\n",
    "\n",
    "- Se espera que un buen estimador sea insesgado y tenga un error estándar mínimo.\n",
    "\n",
    "\n",
    "- Antes se prestaba mucha atención a la insesgadez, pero hoy en día se considera menos importante.\n",
    "   \n",
    "- Muchos de los estimadores que utilizaremos son sesgados.\n",
    "\n",
    "    - Un requisito razonable para un estimador es que converja al verdadero valor del parámetro a medida que recogemos más y más datos.\n",
    "\n",
    "- Un estimador puntual $\\hat{\\theta}_n$ de un parámetro $\\theta$ es **consistente** si converge al valor verdadero cuando el número de datos de la muestra tiende a infinito.\n",
    "  "
   ]
  },
  {
   "cell_type": "markdown",
   "id": "1173457a",
   "metadata": {
    "id": "1173457a"
   },
   "source": [
    "**Teorema:** \n",
    "\n",
    "\n",
    "Si para un estimador $\\hat{\\theta}_n$, con $bias \\rightarrow 0$ y en $se \\rightarrow 0$ cuando $n\\rightarrow \\infty$, $\\hat{\\theta}_n$,es un estimador consistente de $\\theta$.\n"
   ]
  },
  {
   "cell_type": "markdown",
   "id": "4357f590",
   "metadata": {
    "id": "4357f590"
   },
   "source": [
    "\n",
    "-   Por ejemplo, para la media muestral $\\mathbb{E}(\\overline{X_{n}})=\\mu$,\n",
    "   lo que implica que el $bias =0$.\n",
    "\n",
    "-   Entonces $se(\\overline{X_{n}}) = \\frac{\\sigma}{\\sqrt{n}}$ converge a cero cuando $n\\rightarrow \\infty$.\n",
    "\n",
    "-   $\\overline{X_{n}}$ es un estimador consistente de la media.\n",
    "\n",
    "-  Para el caso del experimento de Bernoulli se tiene que  $\\mathbb{E}(\\hat{p})=p \\Rightarrow bias=0$ y  $se = \\sqrt{p(1-p)/n} \\rightarrow 0$ cuando $n\\rightarrow \\infty$.\n",
    "\n",
    "-   Entonces $\\hat{p}$ es un estimador consistente de $p$."
   ]
  },
  {
   "cell_type": "markdown",
   "id": "89a09fcc",
   "metadata": {
    "id": "89a09fcc"
   },
   "source": [
    "## Estimación de máxima verosimilitud\n",
    "\n",
    "- Los estimadores que hemos presentado hasta ahora (por ejemplo, la media muestral, la proporción muestral) son intuitivos, fáciles de calcular y coherentes.\n",
    "    \n",
    "\n",
    "- La estimación de máxima verosimilitud (MLE) es un marco más general para estimar los **parámetros** de cualquier **modelo paramétrico**.\n",
    "\n",
    "- En los EMV, suponemos que los datos de la muestra son generados por una determinada distribución de probabilidad (continua o discreta) parametrizada por $\\theta$ e intentamos encontrar el valor de $\\theta$ que maximiza la  probabilidad conjunta de los datos bajo esa distribución.**\n",
    "\n",
    "  - **Idea:** encontrar los valores de los parámetros del modelo estadístico supuesto que hacen más probables los datos observados.\n",
    "\n",
    "- Por ejemplo, podemos suponer que cada punto de datos es generado por $N(\\mu,\\sigma^2)$, entonces calculamos la FDP conjunta (o FMP) de nuestros datos y encontrar los valores de los parámetros para $\\mu$ y $\\sigma$ que  maximizan esa densidad conjunta (o masa).\n",
    "\n",
    "- Los estudiantes que aprenden estadística suelen preguntarse: ¿cómo podemos saber que la distribución que generó los datos está en algún modelo  paramétrico?\n",
    "\n",
    "- Hay casos en los que los conocimientos previos sugieren que un  modelo paramétrico proporciona una aproximación razonable.\n",
    "\n",
    "  - Ejemplo 1: los experimentos binarios independientes (por ejemplo, lanzar una moneda o votar a un candidato) pueden representarse adecuadamente con distribuciones Bernoulli o Binomial.\n",
    "\n",
    "  - Ejemplo 2: se sabe por experiencia previa que el recuento de accidentes de tráfico sigue aproximadamente una distribución de Poisson.\n",
    "      \n",
    "- En muchos otros casos son preferibles los métodos no paramétricos, pero están fuera del alcance de este curso.\n"
   ]
  },
  {
   "cell_type": "markdown",
   "id": "59f12ad0",
   "metadata": {
    "id": "59f12ad0"
   },
   "source": [
    "## Definición Estimación de Máxima Verosimilitud\n",
    "\n",
    "- Sea $X_1,\\dots,X_n$ IID con FDP (o FMP) $f(x;\\theta)$.\n",
    "\n",
    "- Dado que suponemos que nuestras muestras de datos son variables aleatorias independientes, la densidad conjunta (o masa) sería el producto de cada FDP (o FMD): $$\\mathcal{L}_{n}(\\theta)=\\prod_{i=1}^nf(X_i;\\theta)$$\n",
    "\n",
    "- Nos referimos a esta densidad conjunta (o masa) como la **función de verosimilitud**.\n",
    "\n",
    "- La función de verosimilitud no es más que la densidad (o masa) conjunta de los  datos, excepto que la tratamos como una función del parámetro  $\\theta$.\n",
    "\n",
    "- En EMV, convertimos la tarea de estimación en un problema de optimización:\n",
    "\n",
    "   $$ \\max_{\\theta} \\quad \\mathcal{L}_{n}(\\theta) $$"
   ]
  },
  {
   "cell_type": "markdown",
   "id": "ceee8d97",
   "metadata": {
    "id": "ceee8d97"
   },
   "source": [
    "\n",
    "-   El estimador de máxima verosimilitud MLE, denotado por $\\hat{\\theta}_n$, es el valor de $\\theta$ que  máximiza $\\mathcal{L}_{n}(\\theta)$."
   ]
  },
  {
   "cell_type": "markdown",
   "id": "0de3c5d5",
   "metadata": {
    "id": "0de3c5d5"
   },
   "source": [
    "- En muchos casos la verosimilitud logarítmica es más fácil de optimizar\n",
    "   $l_n(\\theta)$:\n",
    "\n",
    "   $$l_n(\\theta) = \\log(\\mathcal{L}_{n}(\\theta))=\\log(\\prod_{i=1}^nf(X_i;\\theta))= \\sum_{i=1}^{n}\\log(f(X_i;\\theta))$$\n",
    "\n",
    "-   Dado que el logaritmo es una función monótona, el máximo de se produce  en el mismo valor de $\\theta$.\n",
    "\n",
    "-   Si $l_n$ es diferenciable podemos hallar $\\hat{\\theta}_n$     poniendo las derivadas a cero:\n",
    "\n",
    "  $$\\frac{\\partial l_n}{\\partial \\theta} = 0$$\n",
    "\n",
    "-   el EMV  tiene muchas buenas propiedades matemáticas que van más allá del discutir en este curso.\n",
    "\n",
    "-   Algunas propiedades que vale la pena conocer son que la MLE es **consistente** y es **asintóticamente normal** (es decir, su distribución muestral converge a una gaussiana)."
   ]
  },
  {
   "cell_type": "markdown",
   "id": "2d131d82",
   "metadata": {
    "id": "2d131d82"
   },
   "source": [
    "**Ejemplo 1:**\n",
    "\n",
    "Supongamos que $X_1,\\dots, X_n \\sim$ Bernoulli $(p)$.\n",
    "\n",
    "-   La función de masa de probabilidad es $f(x;p)= p^x(1- p)^{1-x}$ para $x = 0,1$. El parámetro desconocido es $p$.\n",
    "\n",
    "-   Entonces,\n",
    "\n",
    "$$\\mathcal{L}_{n}(p)=\\prod_{i=1}^nf(X_i;p) = \\prod_{i=1}^np^{X_i}(1-p)^{1-X_i}=p^S(1-p)^{n-S}$$\n",
    "\n",
    "Donde,  $S=\\sum_{i}X_i$. Así,\n",
    "\n",
    "$$l_n(\\theta) = S\\log p+ (n-S)\\log(1-p).$$\n",
    "\n",
    "-   Tomar la derivada de $l_n(\\theta)$, establecerlo igual a 0 para encontrar que el EMV es $\\hat{p}_n =S/n$, que es la proporción de la muestra."
   ]
  },
  {
   "cell_type": "markdown",
   "id": "ae7cfed3",
   "metadata": {
    "id": "ae7cfed3"
   },
   "source": [
    "- Esto se puede comprobar pegando la siguiente fórmula en  WolframAlpha:"
   ]
  },
  {
   "cell_type": "markdown",
   "id": "9e07ed1f",
   "metadata": {
    "id": "9e07ed1f"
   },
   "source": [
    "![](../Images/wolfram_p.png)"
   ]
  },
  {
   "cell_type": "markdown",
   "id": "fa543c64",
   "metadata": {
    "id": "fa543c64"
   },
   "source": [
    "**Ejemplo 2:**\n",
    "\n",
    " Sea $X_1,\\dots, X_n \\sim N(\\mu,\\sigma^2)$.\n",
    "\n",
    "-   El parámetro es $\\theta=(\\mu,\\sigma)$ y la función de verosimilitud\n",
    "    (ignorando algunas constantes) es:\n",
    "\n",
    "$$ \\mathcal{L}_{n}(\\mu,\\sigma) =\\prod_{i=1}^n \\frac{1}{\\sigma} \\exp \\left( - \\frac{1}{2\\sigma^2} (X_i -\\mu)^2 \\right)$$\n",
    "\n",
    "$$= \\frac{1}{\\sigma^n}\\exp \\left( - \\frac{1}{2\\sigma^2} \\sum_{i=1}^n(X_i -\\mu)^2 \\right) $$\n",
    "\n",
    "$$ = \\frac{1}{\\sigma^n}\\exp \\left( - \\frac{nS^2}{2\\sigma^2} \\right)\\exp \\left( - \\frac{n(\\overline{X}-\\mu)^2}{2\\sigma^2} \\right)$$\n",
    "\n",
    "-   Donde $\\overline{X}=\\frac{1}{n}\\sum_{i=1}^nX_i$ es la media muestraly $S^2 = \\frac{1}{n}\\sum_{i=1}^n(X_i-\\overline{X}^2)$."
   ]
  },
  {
   "cell_type": "markdown",
   "id": "4c41d071",
   "metadata": {
    "id": "4c41d071"
   },
   "source": [
    "- La última igualdad se deduce del hecho de que\n",
    "$$\\sum_{i=1}^n(X_i -\\mu)^2=nS^2+n(\\overline{X}-\\mu)^2$$\n",
    "\n",
    "que puede verificarse escribiendo\n",
    "\n",
    "$$\\sum_{i=1}^n(X_i -\\mu)^2 = \\sum_{i=1}^n(X_i - \\overline{X} + \\overline{X} -\\mu)^2$$\n",
    "\n",
    "y luego ampliar el cuadrado.\n",
    "\n",
    "-  La probabilidad logarítmica es:\n",
    "\n",
    " $$l_n(\\mu,\\sigma) = -n\\log \\sigma - \\frac{nS^2}{2\\sigma^2} - \\frac{n(\\overline{X}-\\mu)^2}{2\\sigma^2}$$\n",
    "\n",
    "-  Resolver las ecuaciones\n",
    "$$\\frac{\\partial l_n(\\mu,\\sigma)}{\\partial \\mu} = 0$$\n",
    "\n",
    "y\n",
    "\n",
    "$$\\frac{\\partial l_n(\\mu,\\sigma)}{\\partial \\sigma} = 0$$\n",
    "\n",
    "-   Concluimos que $\\hat{\\mu} = \\overline{X}$ y $\\hat{\\sigma}=S$.\n",
    "\n",
    "-   Puede comprobarse que se trata efectivamente de máximos globales de la\n",
    "    probabilidad."
   ]
  },
  {
   "cell_type": "markdown",
   "id": "20814f89",
   "metadata": {
    "id": "20814f89"
   },
   "source": [
    "## Estimación de máxima verosimilitud\n",
    "\n",
    "- Verifiquemos esto usando WolframAlpha:\n",
    "\n",
    "      "
   ]
  },
  {
   "cell_type": "markdown",
   "id": "96ac28d6",
   "metadata": {
    "id": "96ac28d6"
   },
   "source": [
    "![](../Images/wolfram_mu.png)"
   ]
  },
  {
   "cell_type": "markdown",
   "id": "acb2de65",
   "metadata": {
    "id": "acb2de65"
   },
   "source": [
    "- Ahora, si sustituimos $\\mu$ por $\\overline{X}$, la última expresión de $l_n$ se anula.\n",
    "\n",
    "- el valor de $\\sigma$ se puede obtener de la siguiente manera:"
   ]
  },
  {
   "cell_type": "markdown",
   "id": "d7a7965f",
   "metadata": {
    "id": "d7a7965f"
   },
   "source": [
    "![](../Images/wolfram_s.png)"
   ]
  },
  {
   "cell_type": "markdown",
   "id": "ba65f785",
   "metadata": {
    "id": "ba65f785"
   },
   "source": [
    "## Intervalo de confianza\n",
    "\n",
    "- Sabemos que el valor de un estimador puntual **varía** de una muestra a otra a muestra.\n",
    "\n",
    "- Es más razonable encontrar un intervalo que probablemente atrape el valor real del parámetro a largo plazo.\n",
    "\n",
    "- La forma general de un intervalo de confianza en la siguiente:\n",
    "\n",
    "$$\\text{Confidence Interval} = \\text{Sample Statistic} \\ \\pm \\ \\text{Margin Error}$$\n",
    "\n",
    "- Cuanto más amplio es el intervalo, mayor es la incertidumbre sobre el valor del parámetro.\n",
    "    "
   ]
  },
  {
   "cell_type": "markdown",
   "id": "2bff1ce1",
   "metadata": {
    "id": "2bff1ce1"
   },
   "source": [
    "**Definición**\n",
    "\n",
    "- Un **intervalo de confianza** para un parámetro poblacional desconocido $\\theta$ con un **nivel de confianza** $1-\\alpha$, es un intervalo $C_n = (a,b)$ donde:\n",
    "\n",
    "$$ \\mathbb{P}(\\theta \\in C_n) = 1-\\alpha$$\n",
    "\n",
    "- Donde $a= a(X_1, \\dots, X_n)$ y $b=b(X_1,\\dots,X_n)$ son funciones de los datos.\n",
    "\n",
    "- El valor $\\alpha$ se conoce como el **nivel de significación**, generalmente $0.05$, lo que equivale a trabajar con un nivel de confianza del de confianza del $95\\%$.\n",
    "\n",
    "- La significación estadística ayuda a cuantificar si un resultado se debe probablemente al azar o a algún factor de interés.\n",
    "\n",
    "- Básicamente, un resultado estadísticamente significativo es un resultado que no es atribuible al azar."
   ]
  },
  {
   "cell_type": "markdown",
   "id": "cfc52037",
   "metadata": {
    "id": "cfc52037"
   },
   "source": [
    "### Discusión\n",
    "\n",
    "- Hay mucha **confusión** sobre cómo interpretar un intervalo de confianza.\n",
    "\n",
    "\n",
    "- Un intervalo de confianza no es una declaración de probabilidad sobre $\\theta$ ya que $\\theta$ es una cantidad fija en la inferencia frecuentista, no una variable aleatoria.\n",
    "\n",
    "- Una forma de interpretarlos es decir que si repetimos el **mismo experimento** muchas veces, el intervalo contendrá el valor del parámetro $(1-\\alpha)\\%$ de las veces.\n",
    "\n",
    "- Esta interpretación es correcta, pero rara vez repetimos el mismo experimento varias veces.\n",
    "\n",
    "- Una interpretación mejor: un día que recojo datos creo un $95\\%$  para un parámetro $\\theta_1$. Luego, el día 2, hago lo mismo para un parámetro $\\theta_2$ y así repetidamente $n$ veces. El $95\\%$ de mis intervalos contendrán los valores reales de los parámetros.\n",
    "\n",
    "- En una sección asincronica hablaremos de los métodos bayesianos en los que tratamos $\\theta$ como si fuera una variable aleatoria y hacemos afirmaciones de probabilidad sobre $\\theta$.\n"
   ]
  },
  {
   "cell_type": "markdown",
   "id": "8b18612d",
   "metadata": {
    "id": "8b18612d"
   },
   "source": [
    "## Intervalo de confianza de la media muestral\n",
    "\n",
    "- Queremos encontrar un intervalo $C_n = (\\mu_1,\\mu_2)$ con un nivel de confianza $1-\\alpha$:\n",
    "  \n",
    "  $$\\mathbb{P}(\\mu_1 \\leq \\mu \\leq \\mu_2 ) = 1-\\alpha$$\n",
    "\n",
    "-  Entonces $z_a = \\Phi^{-1}(1-a)$, con $a \\in [0,1]$ donde $\\Phi^{-1}$ es la función cuantil de una normal estandarizada.\n",
    "\n",
    "-   Esto equivale a decir que $z_a$ es el valor tal que $1-\\Phi(z_a)=\\mathbb{P}(Z \\geq z_a)=a$.\n",
    "\n",
    "-  Por simetría de la distribución normal: $z_{\\alpha/2}=-z_{(1-\\alpha/2)}$."
   ]
  },
  {
   "cell_type": "markdown",
   "id": "82187390",
   "metadata": {
    "id": "82187390"
   },
   "source": [
    "![](../Images/conf_int_1.png)\n",
    "\n",
    "![](../Images/conf_int_2.png)\n",
    "\n",
    "![](../Images/conf_int_3.png)"
   ]
  },
  {
   "cell_type": "markdown",
   "id": "d816f1a5",
   "metadata": {
    "id": "d816f1a5"
   },
   "source": [
    "**Intervalo de confianza de la media muestral**\n",
    "\n",
    "- El intervalo de confianza para $\\mu $ es:\n",
    "\n",
    "$$C_n = (\\overline{X_{n}}-z_{\\alpha/2}\\frac{\\sigma}{\\sqrt{n}} , \\overline{X_{n}} + z_{\\alpha/2}\\frac{\\sigma}{\\sqrt{n}})$$\n",
    "\n",
    "- Entonces $z_{\\alpha/2} $ nos dice cuántas veces tenemos que multiplicar el **error estándar** para construir el intervalo.\n",
    "- Cuanto menor sea el valor de $\\alpha $, mayor será el valor de $z_{\\alpha/2} $ y, por tanto, más amplio será el intervalo.\n",
    "- Prueba:\n",
    "\n",
    "    $$ \\mathbb{P}(\\mu \\in C_n) = \\mathbb{P}(\\overline{X_{n}}-z_{\\alpha/2}\\frac{\\sigma}{\\sqrt{n}} < \\mu < \\overline{X_{n}} + z_{\\alpha/2}\\frac{\\sigma}{\\sqrt{n}}) $$\n",
    "     $$ =  \\mathbb{P}(-z_{\\alpha/2} < \\frac{\\overline{X_{n}}-\\mu}{\\frac{\\sigma}{\\sqrt{n}}} <  z_{\\alpha/2}) $$\n",
    "     $$= \\mathbb{P}(-z_{\\alpha/2} < Z < z_{\\alpha/2}) $$\n",
    "     $$ = 1-\\alpha $$ \n",
    "    \n",
    "\n",
    "- Dado que $z_{\\alpha/2} = \\Phi^{-1}(1-\\alpha/2) $ podemos usar la función cuantil de la normal para calcular intervalos de confianza en python.\n"
   ]
  },
  {
   "cell_type": "code",
   "execution_count": null,
   "id": "29db9cfd",
   "metadata": {
    "id": "29db9cfd",
    "outputId": "fe2ec876-fbfa-4b24-edef-42fdfe80a748"
   },
   "outputs": [
    {
     "name": "stdout",
     "output_type": "stream",
     "text": [
      "4.123477459423419\n",
      "5.876522540576581\n"
     ]
    }
   ],
   "source": [
    "from scipy.stats import norm\n",
    "import numpy as np\n",
    "\n",
    "# Define variables\n",
    "alpha = 0.05\n",
    "xbar = 5\n",
    "sigma = 2\n",
    "n = 20\n",
    "\n",
    "# Calculate standard error\n",
    "se = sigma / np.sqrt(n)\n",
    "\n",
    "# Calculate margin of error\n",
    "error = norm.ppf(1 - alpha/2) * se\n",
    "\n",
    "# Calculate confidence interval\n",
    "left = xbar - error\n",
    "right = xbar + error\n",
    "\n",
    "print(left)\n",
    "print(right)"
   ]
  },
  {
   "cell_type": "markdown",
   "id": "efcacaa6",
   "metadata": {
    "id": "efcacaa6"
   },
   "source": [
    "## Distribución T\n",
    "\n",
    "- En la práctica, si no conocemos $\\mu$ es poco probable que conozcamos   $\\sigma$.\n",
    "\n",
    "- Cuando se supone que los datos son normales y estimamos $\\sigma$ utilizando $s$, los intervalos de confianza para la media muestral se construyen mejor utilizando  la distribución **T-student**, especialmente cuando el tamaño de la muestra es  pequeño.\n",
    "\n",
    "- Un V.A. tiene distribución $t$ con $k$ grados de libertad cuando tiene  la siguiente FDP:\n",
    "\n",
    "$$f(t)=\\frac{\\Gamma(\\frac{k+1}{2})}{\\sqrt{k\\pi}\\Gamma(\\frac k2)(1+\\frac{t^2}{k})^{(k+1)/2}}$$\n",
    "\n",
    "- Cuando $k=1$ se llama distribución **Cauchy**.\n",
    "\n",
    "- Cuando $k\\rightarrow \\infty$ converge a una distribución normal estandarizada.\n",
    "   \n",
    "- La distribución $t$ tiene colas más anchas que la distribución normal cuando  tiene pocos grados de libertad (es decir, es más propensa a producir   valores que caen lejos de su media)."
   ]
  },
  {
   "cell_type": "code",
   "execution_count": null,
   "id": "a241571d",
   "metadata": {
    "id": "a241571d",
    "outputId": "031ea053-1a2c-4638-d4d9-e365bbb5aaca"
   },
   "outputs": [
    {
     "data": {
      "image/png": "[encoded data removed]",
      "text/plain": [
       "<Figure size 640x480 with 1 Axes>"
      ]
     },
     "metadata": {},
     "output_type": "display_data"
    }
   ],
   "source": [
    "import numpy as np\n",
    "import matplotlib.pyplot as plt\n",
    "from scipy.stats import norm, t\n",
    "\n",
    "# Define the x values\n",
    "x = np.linspace(-8, 8, 400)\n",
    "\n",
    "# Calculate the pdf values for the normal and t distributions\n",
    "y1 = norm.pdf(x)\n",
    "y2 = t.pdf(x, df=1)\n",
    "y3 = t.pdf(x, df=10)\n",
    "y4 = t.pdf(x, df=350)\n",
    "\n",
    "# Plot the distributions\n",
    "plt.plot(x, y1, color=\"green\", label=\"Normal\")\n",
    "plt.plot(x, y2, color=\"blue\", label=\"t, df=1\")\n",
    "plt.plot(x, y3, color=\"black\", label=\"t, df=10\")\n",
    "plt.plot(x, y4, color=\"red\", label=\"t, df=350\")\n",
    "\n",
    "# Add legend and show plot\n",
    "plt.legend()\n",
    "plt.show()\n"
   ]
  },
  {
   "cell_type": "markdown",
   "id": "81a8fbd0",
   "metadata": {},
   "source": [
    "## Distribución T: algunas curiosidades"
   ]
  },
  {
   "cell_type": "markdown",
   "id": "95304ef9",
   "metadata": {
    "id": "95304ef9"
   },
   "source": [
    "![](../Images/William_Sealy_Gosset.jpg)"
   ]
  },
  {
   "cell_type": "markdown",
   "id": "12a287ea",
   "metadata": {
    "id": "12a287ea"
   },
   "source": [
    "- La distribución T fue desarrollada por el estadístico inglés William Sealy Gosset bajo el seudónimo de “Student”.\n",
    "\n",
    "- Gosset trabajaba en la fábrica de cerveza Guinness de Dublín (Irlanda) y se interesó por los problemas de las muestras pequeñas.\n",
    "\n",
    "\n",
    "- Por ejemplo, las propiedades químicas de la cebada, donde el tamaño de las muestras   podían ser tan pequeñas como tres.\n",
    "\n",
    "- El empleador de Gosset prefería que sus empleados ocultaran su identidad cuando publicaban artículos científicos.\n",
    "    \n",
    "- Otra versión es que Guinness no quería que sus competidores supieran que utilizaba la prueba t para determinar la calidad de la materia prima .\n",
    "\n"
   ]
  },
  {
   "cell_type": "markdown",
   "id": "fd90065a",
   "metadata": {
    "id": "fd90065a"
   },
   "source": [
    "## Intervalo de confianza de la distribución T\n",
    "\n",
    "-  Sea $s^{2}= \\frac{1}{n-1} \\sum_{i}^{n}(X_{i}-\\overline{X_{n}})^2$ tenemos:\n",
    "\n",
    "$$T=\\frac{\\overline{X_{n}}-\\mu}{\\frac{s}{\\sqrt{n}}}\\sim t_{n-1}$$\n",
    "\n",
    "-   Sea $t_{n-1,a}=\\mathbb{P}(T>a)$, equivalente a la función cuantil $qt$ evaluated at $(1-a)$.\n",
    "\n",
    "-   El intervalo de confianza resultante es:\n",
    " $$C_n = (\\overline{X_{n}}-t_{n-1,\\alpha/2}\\frac{s}{\\sqrt{n}} , \\overline{X_{n}} + t_{n-1,\\alpha/2}\\frac{s}{\\sqrt{n}})$$\n",
    "\n",
    "-   Dado que las colas de la distribución $t$ son más anchas cuando $n$ es pequeño, los intervalos de confianza resultantes son más amplios."
   ]
  },
  {
   "cell_type": "markdown",
   "id": "24abbcb7",
   "metadata": {
    "id": "24abbcb7"
   },
   "source": [
    "Calculemos un intervalo de confianza para la media de `Longitud.Pétalos` de los datos del **Iris** con una confianza del $95\\%$."
   ]
  },
  {
   "cell_type": "code",
   "execution_count": null,
   "id": "7e412dda",
   "metadata": {
    "id": "7e412dda",
    "outputId": "5519ed80-0398-4b8c-b939-9891cdcd05be"
   },
   "outputs": [
    {
     "name": "stdout",
     "output_type": "stream",
     "text": [
      "Sample Mean: 3.7580000000000027\n",
      "Left boundary: 3.4731853701995132\n",
      "Right boundary: 4.0428146298004926\n"
     ]
    }
   ],
   "source": [
    "import numpy as np\n",
    "import seaborn as sns\n",
    "from scipy.stats import t\n",
    "\n",
    "# Load the iris dataset\n",
    "iris = sns.load_dataset('iris')\n",
    "\n",
    "# Parameters\n",
    "alpha = 0.05\n",
    "\n",
    "# Calculate sample properties\n",
    "n = len(iris['petal_length'])\n",
    "xbar = np.mean(iris['petal_length'])\n",
    "s = np.std(iris['petal_length'], ddof=1)  # Note the ddof=1 to get sample standard deviation\n",
    "se = s / np.sqrt(n)\n",
    "\n",
    "# Compute the t-critical value and margin of error\n",
    "t_critical = t.ppf(1 - alpha/2, df=n-1)\n",
    "error = t_critical * se\n",
    "\n",
    "# Calculate the confidence interval\n",
    "left = xbar - error\n",
    "right = xbar + error\n",
    "\n",
    "print(\"Sample Mean:\", xbar)\n",
    "print(\"Left boundary:\", left)\n",
    "print(\"Right boundary:\", right)\n"
   ]
  },
  {
   "cell_type": "markdown",
   "id": "ead8cdf8",
   "metadata": {
    "id": "ead8cdf8"
   },
   "source": [
    "-   De otra manera:"
   ]
  },
  {
   "cell_type": "code",
   "execution_count": null,
   "id": "ed1aeb3e",
   "metadata": {
    "id": "ed1aeb3e",
    "outputId": "d49a9f6e-3e4e-4304-acd8-c303eee58e53"
   },
   "outputs": [
    {
     "name": "stdout",
     "output_type": "stream",
     "text": [
      "95% Confidence Interval: (3.4731853701995132, 4.0428146298004926)\n"
     ]
    }
   ],
   "source": [
    "import numpy as np\n",
    "from scipy.stats import t\n",
    "\n",
    "confidence_level = 0.95\n",
    "degrees_freedom = len(iris['petal_length']) - 1\n",
    "sample_mean = np.mean(iris['petal_length'])\n",
    "sample_standard_error = np.std(iris['petal_length'], ddof=1) / np.sqrt(len(iris['petal_length']))\n",
    "\n",
    "confidence_interval = t.interval(confidence_level, degrees_freedom, sample_mean, sample_standard_error)\n",
    "\n",
    "print(\"95% Confidence Interval:\", confidence_interval)\n"
   ]
  },
  {
   "cell_type": "markdown",
   "id": "584f82a9",
   "metadata": {
    "id": "584f82a9"
   },
   "source": [
    "## Intervalo de confianza para una proporción de población\n",
    "\n",
    "- Supongamos que queremos calcular la proporción de sujetos que votarán por un candidato y también queremos un intervalo de confianza para la  proporción estimada.\n",
    "\n",
    "- Como se ha mostrado anteriormente, la distribución muestral de una proporción muestral sigue una distribución normal.\n",
    "  \n",
    "\n",
    "- El intervalo de confianza $C_n$ para una proporción es:\n",
    "    $$C_n = \\left(\\hat{p}-z_{\\alpha/2}\\sqrt{\\frac{\\hat{p}(1-\\hat p)}{n}} , \\hat{p} + z_{\\alpha/2}\\sqrt{\\frac{\\hat{p}(1-\\hat p)}{n}}\\right)$$"
   ]
  },
  {
   "cell_type": "markdown",
   "id": "e650656b",
   "metadata": {
    "id": "e650656b"
   },
   "source": [
    "- **Ejemplo:**\n",
    "\n",
    "- $1.219$ encuestados indicaron que votarían al  candidato A en una encuesta de $3.532$ personas.\n",
    "\n",
    "- Calcule un intervalo de confianza del 95% para la proporción de votantes:\n",
    "\n",
    "    $$\\hat{p}=\\frac{1219}{3235}=0.345$$\n",
    "\n",
    "- y $z_{\\alpha/2}=1.96$"
   ]
  },
  {
   "cell_type": "code",
   "execution_count": null,
   "id": "57aaafaa",
   "metadata": {
    "id": "57aaafaa",
    "outputId": "93127326-e648-40c7-b922-1ced7fca735b"
   },
   "outputs": [
    {
     "name": "stdout",
     "output_type": "stream",
     "text": [
      "1.959963984540054\n"
     ]
    }
   ],
   "source": [
    "from scipy.stats import norm\n",
    "\n",
    "z_score = norm.ppf(1 - 0.025)\n",
    "print(z_score)\n"
   ]
  },
  {
   "cell_type": "markdown",
   "id": "45cf2c9b",
   "metadata": {
    "id": "45cf2c9b"
   },
   "source": [
    "$$C_n = 0.345 \\pm 1.96\\sqrt{\\frac{0.345(1-0.345)}{3532}} = (0.329,0.361)$$"
   ]
  },
  {
   "cell_type": "markdown",
   "id": "6e821da7",
   "metadata": {
    "id": "6e821da7"
   },
   "source": [
    "\n",
    "- En python:"
   ]
  },
  {
   "cell_type": "code",
   "execution_count": null,
   "id": "602f1d1a",
   "metadata": {
    "id": "602f1d1a",
    "outputId": "a937574b-9a65-4dec-91df-1e3d85d08028"
   },
   "outputs": [
    {
     "name": "stdout",
     "output_type": "stream",
     "text": [
      "95% Confidence Interval: (0.3294516581314085, 0.3608088175197806)\n"
     ]
    }
   ],
   "source": [
    "import statsmodels.stats.proportion as sm_proportion\n",
    "\n",
    "count = 1219  # number of successes\n",
    "nobs = 3532   # number of trials\n",
    "\n",
    "# Conduct one-sample proportion test and extract confidence interval\n",
    "conf_int = sm_proportion.proportion_confint(count, nobs, alpha=0.05, method='normal')\n",
    "\n",
    "print(\"95% Confidence Interval:\", conf_int)"
   ]
  },
  {
   "cell_type": "markdown",
   "id": "c26c9c96",
   "metadata": {
    "id": "c26c9c96"
   },
   "source": [
    "## El Boostrap\n",
    "\n",
    "- Hemos utilizado nuestro conocimiento de la distribución muestral de la media para calcular el error típico de la media.\n",
    "\n",
    "- Pero, ¿qué ocurre si no podemos suponer que las estimaciones se distribuyen normalmente o no conocemos su distribución?\n",
    "\n",
    "- La idea del bootstrap es utilizar los propios datos para estimar una respuesta.\n",
    "\n",
    "- El método bootstrap fue concebido por Bradley Efron, del Departamento de Estadística de Stanford, que es uno de los estadísticos más influyentes del mundo.\n",
    "\n",
    "- La idea que subyace al bootstrap es que tomamos muestras repetidamente del conjunto de datos real.\n",
    "\n",
    "- Tomamos muestras con reemplazo, de modo que el mismo punto de datos suele estar representado varias veces en una de las muestras.\n",
    "\n",
    "- A continuación, calculamos nuestra estadística de interés en cada una de las muestras bootstrap y utilizamos la distribución de esas estimaciones como nuestra distribución de muestreo.\n",
    "\n",
    "- En cierto sentido, tratamos nuestra muestra particular como si fuera toda la población y, a continuación, muestreamos repetidamente con reemplazo para generar nuestras muestras para el análisis.\n",
    "\n",
    "- Esto supone que nuestra muestra particular es un reflejo exacto de la población, lo que probablemente sea razonable para muestras más grandes, pero puede fallar cuando las muestras son más pequeñas.\n",
    "\n",
    "- Esta técnica puede utilizarse para estimar el error estándar de cualquier estadística y obtener un intervalo de confianza (IC) para la misma."
   ]
  },
  {
   "cell_type": "markdown",
   "id": "4f50d81d",
   "metadata": {
    "id": "4f50d81d"
   },
   "source": [
    "![](../Images/bootstrapSEM-1.png)"
   ]
  },
  {
   "cell_type": "markdown",
   "id": "89d89a22",
   "metadata": {
    "id": "89d89a22"
   },
   "source": [
    "- El histograma muestra la distribución de las medias entre las muestras bootstrap, mientras que la línea roja muestra la distribución normal basada en la media muestral y el error estándar.\n",
    "\n",
    "- A partir de la figura, podemos ver que la distribución de las medias a través de muestras bootstrap se aproxima bastante a la estimación teórica basada en el supuesto de normalidad.\n",
    "\n",
    "- No tiene mucho sentido utilizar bootstrap para la media muestral porque conocemos la forma teórica de la distribución muestral.\n",
    "\n",
    "- El bootstrap se utilizaría más a menudo para generar errores estándar e intervalos de confianza para estimaciones estadísticas (por ejemplo, la mediana, la desviación estándar).\n",
    "\n",
    "- Bootstrap es especialmente útil cuando la CI no tiene una forma cerrada\n",
    "    o tiene una muy complicada."
   ]
  },
  {
   "cell_type": "markdown",
   "id": "13d3e0db",
   "metadata": {
    "id": "13d3e0db"
   },
   "source": [
    " La siguiente función implementa intervalos de confianza Bootstrap para una función genérica de Python:"
   ]
  },
  {
   "cell_type": "code",
   "execution_count": 20,
   "id": "1e0ec857",
   "metadata": {
    "id": "1e0ec857",
    "outputId": "6ab52931-2701-49e2-a8bf-0c8cc994f811"
   },
   "outputs": [
    {
     "name": "stdout",
     "output_type": "stream",
     "text": [
      "{'Point Estimate': 4.0, 'Standard error': 0.6427897157069477, 'Lower CI limit': 2.6, 'Upper CI limit': 5.2}\n",
      "95% Confidence Interval: (2.60, 5.20)\n"
     ]
    }
   ],
   "source": [
    "import numpy as np\n",
    "\n",
    "def myboot(x, fun, nRuns, sampleSize, alpha):\n",
    "    values = np.empty(nRuns)\n",
    "\n",
    "    for i in range(nRuns):\n",
    "        samp_i = np.random.choice(x, size=sampleSize, replace=True)\n",
    "        values[i] = fun(samp_i)\n",
    "\n",
    "    point_est = fun(x)\n",
    "    se = np.std(values, ddof=1)  # Using ddof=1 to get the sample standard deviation\n",
    "    l_CI = np.percentile(values, 100 * alpha / 2)\n",
    "    u_CI = np.percentile(values, 100 * (1 - alpha / 2))\n",
    "\n",
    "    return {\n",
    "        \"Point Estimate\": point_est,\n",
    "        \"Standard error\": se,\n",
    "        \"Lower CI limit\": l_CI,\n",
    "        \"Upper CI limit\": u_CI\n",
    "    }\n",
    "\n",
    "# Example usage:\n",
    "data = np.array([2,3,4,5,6])\n",
    "result = myboot(data, np.mean, 1000, len(data), 0.05)\n",
    "print(result)\n",
    "print(f\"95% Confidence Interval: ({result['Lower CI limit']:.2f}, {result['Upper CI limit']:.2f})\")"
   ]
  },
  {
   "cell_type": "markdown",
   "id": "844dd42c",
   "metadata": {
    "id": "844dd42c"
   },
   "source": [
    "- Los límites inferior y superior del IC se obtienen a partir de los cuantiles de muestra $\\alpha/2$ y Cuantiles de muestra $(1-\\alpha/2)$.\n",
    "\n",
    "- Los límites inferior y superior del IC se obtienen a partir de los cuantiles de muestra $\\alpha/2$ y Cuantiles de muestra $(1-\\alpha/2)$.\n",
    "\n",
    "- Calculemos un CI Bootstrap para la mediana de Pétalo.Longitud utilizando $6000$ ejecuciones, un tamaño de muestra de 64, y un nivel de significación de $0.05$:"
   ]
  },
  {
   "cell_type": "code",
   "execution_count": null,
   "id": "74c54302",
   "metadata": {
    "id": "74c54302",
    "outputId": "e31d027a-e54d-411e-9c03-6923e5bc60aa"
   },
   "outputs": [
    {
     "name": "stdout",
     "output_type": "stream",
     "text": [
      "{'Point Estimate': 4.35, 'Standard error': 0.29367249385071176, 'Lower CI limit': 3.75, 'Upper CI limit': 4.7}\n"
     ]
    }
   ],
   "source": [
    "import seaborn as sns\n",
    "import numpy as np\n",
    "\n",
    "# Load the iris dataset\n",
    "iris = sns.load_dataset('iris')\n",
    "petal_length = iris['petal_length'].to_numpy()\n",
    "\n",
    "# Use the myboot function\n",
    "result = myboot(petal_length, np.median, 6000, 64, 0.05)\n",
    "print(result)\n"
   ]
  },
  {
   "cell_type": "markdown",
   "id": "d191ece3",
   "metadata": {
    "id": "d191ece3"
   },
   "source": [
    "## Conclusiones\n",
    "\n",
    "- Hemos introducido muchos conceptos importantes en la inferencia estadística, en particular, el enfoque frecuentista.\n",
    "\n",
    "- Hemos estudiado los estimadores y sus distribuciones muestrales.\n",
    "\n",
    "- Hemos introducido una técnica general para calcular estimadores denominada máxima verosimilitud.\n",
    "\n",
    "- Hemos estudiado cómo medir la incertidumbre de un estimador utilizando un intervalo de confianza.\n",
    "\n",
    "- Hemos introducido un método de aproximación de intervalos de confianza mediante   medio de simulaciones denominado bootstrap."
   ]
  },
  {
   "cell_type": "markdown",
   "id": "f358312e",
   "metadata": {},
   "source": [
    "### Un ejemplo de analisis"
   ]
  },
  {
   "cell_type": "markdown",
   "id": "e0d59597",
   "metadata": {},
   "source": [
    "Se llama meta-análisis a un procedimiento basado en técnicas estadísticas, mediante el que se analizan datos de diferentes estudios realizados sobre el mismo tema (revisión sistemática). El esquema básico consiste en elegir un grupo de artículos científicos en donde se haya medido el mismo parámetro (efecto medio, proporción… ) y estudiar la variabilidad existente entre unos resultados y otros.\n",
    "\n",
    "En el gráfico siguiente se considera un meta-análisis del efecto de los antidepresivos más comunes, siendo el parámetro considerado el llamado odds-ratio entre la efectividad de cada antidepresivo contra placebo.\n",
    "\n",
    "Si  $p_1$ es la probabilidad de que el antidepresivo sea efectivo, y  $p_2$ la del placebo, el odds-ratio -“razón de momios” o “razón de posibilidades”- es:\n",
    "\n",
    "$$ \\dfrac{p_1/(1-p_1)}{p_2/(1-p_2)}.$$\n",
    "\n",
    "\n",
    "De manera general, el odds-ratio entre dos sucesos expresa las posibilidades de uno frente al otro. Si, por ejemplo, las odds de que llueva son de dos a uno,  $(2/1)=2$ , quiere decir que es dos veces más probable que llueva que no llueva; con lo cual, la probabilidad de lluvia sería  2/3  y de no lluvia 1/3. Si, de un grupo de 100 personas,  85  presentan síntomas de una enfermedad, la probabilidad de enfermedad será  85/100  mientras que las odds serán de  85  a 15 , es decir 5.7.\n",
    "\n",
    "Las odds exceden de la unidad siempre que haya más posibilidades del suceso de “arriba” (numerador) frente al de “abajo” (denominador). Con respecto al intervalo de confianza, es importante ver si incluye o no el valor 1 . Si lo incluye, significa que la asociación no es estadísticamente significativa, y que los resultados sólo pueden deberse a la casualidad. Si no lo incluye, indicaría mayor probabilidad de ocurrencia de un suceso frente al otro. El  1  equivale a la misma probabilidad (llover o no llover, o, en este caso, efecto de un antidepresivo frente al efecto de un placebo).\n",
    "\n",
    "![](../Images/ex_inferencia.png)"
   ]
  }
 ],
 "metadata": {
  "colab": {
   "provenance": []
  },
  "kernelspec": {
   "display_name": "base",
   "language": "python",
   "name": "python3"
  },
  "language_info": {
   "codemirror_mode": {
    "name": "ipython",
    "version": 3
   },
   "file_extension": ".py",
   "mimetype": "text/x-python",
   "name": "python",
   "nbconvert_exporter": "python",
   "pygments_lexer": "ipython3",
   "version": "3.9.13"
  },
  "polyglot_notebook": {
   "kernelInfo": {
    "defaultKernelName": "csharp",
    "items": [
     {
      "aliases": [],
      "name": "csharp"
     }
    ]
   }
  }
 },
 "nbformat": 4,
 "nbformat_minor": 5
}