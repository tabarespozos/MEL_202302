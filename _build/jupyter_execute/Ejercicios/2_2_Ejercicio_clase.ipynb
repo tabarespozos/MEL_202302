{
 "cells": [
  {
   "cell_type": "markdown",
   "id": "f38ab5fe",
   "metadata": {},
   "source": [
    "# 📝 Ejercicio"
   ]
  },
  {
   "cell_type": "markdown",
   "id": "8ef8b304",
   "metadata": {},
   "source": [
    "\n",
    "**1.**  En el último trimestre, el 15% de los correos electrónicos enviados por el equipo de marketing fueron abiertos por los clientes. Si se selecciona un correo electrónico al azar:\n",
    "  - ¿Cuál es la probabilidad de que haya sido abierto?\n",
    "  - ¿Cuál es la probabilidad de que no haya sido abierto?\n",
    "\n",
    "**2.** Estás organizando una serie de charlas para una conferencia empresarial. Hay 4 ponentes: Juan, María, Lucas y Sofía. ¿De cuántas maneras diferentes pueden presentarse si cada uno dará una charla distinta?\n",
    "\n",
    "**3.** De un equipo de 8 ingenieros de datos, necesitas formar equipos de 4 para trabajar en diferentes proyectos. ¿Cuántos posibles equipos puedes formar?\n",
    "\n",
    "**4.** En tu tienda en línea, el 20% de los visitantes que ven un video promocional compran un producto. Solo el 5% de los que no ven el video hacen una compra. Si un visitante ha comprado un producto, ¿cuál es la probabilidad de que haya visto el video?\n",
    "\n",
    "**5.** Imagina que estás usando un nuevo software que detecta errores en los códigos. Si el software identifica un error, hay un 90% de probabilidad de que realmente sea un error. Sin embargo, solo el 3% del código total tiene errores. Si el software detecta un error, ¿cuál es la probabilidad de que realmente lo sea?\n",
    "\n",
    "**6.** Tienes 10 características posibles para implementar en tu nuevo software, pero solo tienes recursos para implementar 5 de ellas en la primera versión. ¿Cuántas combinaciones diferentes de características puedes considerar?\n",
    "\n",
    "**7.** Estás evaluando contraseñas de 4 caracteres donde se pueden usar números del 0 al 9. Si se pueden repetir números, ¿cuántas contraseñas diferentes es posible generar?\n",
    "\n",
    "**8.** De todos los empleados que asistieron a una capacitación de habilidades blandas, el 70% obtuvo una mejora en su desempeño en los siguientes meses. De los que no asistieron, solo el 40% mostró una mejora. Si un empleado aleatorio mostró mejoras, ¿cuál es la probabilidad de que haya asistido a la capacitación?\n",
    "\n",
    "**9.** Estás probando dos versiones diferentes de un anuncio. El anuncio A tiene una tasa de clics (CTR) del 5%, y el anuncio B, del 7%. Si el 60% de las impresiones son del anuncio A y el resto del anuncio B, y un usuario hizo clic en un anuncio, ¿cuál es la probabilidad de que haya sido el anuncio B?\n",
    "\n",
    "\n",
    "\n"
   ]
  },
  {
   "cell_type": "markdown",
   "id": "792fcafe",
   "metadata": {},
   "source": [
    "\n",
    "\n",
    "**10.** Las puntuaciones de satisfacción de los empleados en una empresa están normalmente distribuidas con una media de 70 y una desviación estándar de 15. ¿Cuál es la probabilidad de que un empleado seleccionado al azar tenga una puntuación mayor que 85?\n",
    "\n",
    "**11.** Un restaurante estudia el tiempo que los clientes pasan cenando y encuentra que sigue una distribución normal con una media de 45 minutos y una desviación estándar de 10 minutos. ¿Cuál es el tiempo que supera el 90% de los clientes?\n",
    "\n",
    "**12.** Las ventas de una empresa en particular se distribuyen uniformemente entre 50 y 150 unidades diarias. Si un día venden 100 unidades, ¿qué porcentaje de días venderán más que eso?\n",
    "\n",
    "**13.** Si las llamadas al centro de atención al cliente tienen una media de duración de 6 minutos con una desviación estándar de 2 minutos, y asumimos que las duraciones siguen una distribución normal, ¿cuál es la probabilidad de que una llamada dure menos de 4 minutos?\n",
    "\n",
    "**14.** Dada una distribución discreta de fallos en un equipo: Fallos (0, 1, 2, 3) con probabilidades (0.7, 0.15, 0.1, 0.05) respectivamente, ¿cuál es la varianza de fallos?\n",
    "\n",
    "**15.** Un software de gestión de proyectos mide el tiempo que un empleado tarda en completar una tarea. Si se sabe que el tiempo se distribuye normalmente con una media de 3 horas y una desviación estándar de 30 minutos, ¿cuál es la probabilidad de que una tarea se complete en menos de 2.5 horas?\n",
    "\n",
    "**16.** Un gerente observa que el número de ventas de un producto particular tiene una distribución discreta con las siguientes ventas (1, 2, 3, 4) y probabilidades (0.1, 0.3, 0.4, 0.2). Si se vende el producto a $100 cada uno, ¿cuál es el ingreso esperado por venta?\n",
    "\n",
    "**17.** Una empresa de logística desea conocer el tiempo de entrega de sus paquetes. Si se sabe que el tiempo de entrega sigue una distribución uniforme entre 1 y 5 días, ¿cuál es la probabilidad de que un paquete se entregue exactamente en 3 días?\n",
    "\n",
    "**18.** Las ventas diarias de una tienda online están normalmente distribuidas con una media de 500 y una desviación estándar de 50. Si un día particular tienen 550 ventas, ¿qué porcentaje de días tendrán ventas menores que eso?\n",
    "\n",
    "**19.** Un departamento de calidad mide la cantidad de defectos de una línea de ensamblaje cada hora. Si los defectos pueden ser 0, 1, 2 con probabilidades 0.7, 0.2 y 0.1, ¿cuál es la probabilidad de que en 3 horas consecutivas no haya defectos?\n",
    "\n",
    "**20.** Una tienda observa que el tiempo que los clientes pasan comprando sigue una distribución normal con una media de 40 minutos y una desviación estándar de 10 minutos. ¿Cuál es la probabilidad de que un cliente pase más de 1 hora comprando?\n",
    "\n",
    "**21.** Un servicio de streaming estudia la cantidad de horas que sus usuarios pasan viendo contenido. Encuentran que sigue una distribución uniforme entre 1 y 3 horas diarias. ¿Qué porcentaje de usuarios verá contenido durante más de 2 horas pero menos de 2.5 horas?\n",
    "\n",
    "**22.** Una empresa de software libera una actualización y monitorea los errores reportados por sus usuarios. Si los errores reportados pueden ser 0, 1, 2, 3 con probabilidades 0.6, 0.2, 0.15 y 0.05, ¿cuál es la varianza de errores reportados?\n",
    "\n",
    "**23.** Una empresa de consultoría encuentra que el número de proyectos que completan en un mes sigue una distribución discreta con valores (2, 3, 4, 5) y probabilidades (0.1, 0.4, 0.4, 0.1). Si cobran $5000 por proyecto, ¿cuál es el ingreso esperado por mes?\n",
    "\n",
    "**24.** Una cadena de restaurantes desea conocer el tiempo de espera de sus clientes. Si se sabe que el tiempo de espera sigue una distribución uniforme entre 5 y 15 minutos, ¿cuál es la probabilidad de que un cliente espere más de 10 minutos pero menos de 12 minutos?\n",
    "\n"
   ]
  }
 ],
 "metadata": {
  "jupytext": {
   "main_language": "python"
  },
  "kernelspec": {
   "display_name": "Python 3",
   "name": "python3"
  },
  "language_info": {
   "codemirror_mode": {
    "name": "ipython",
    "version": 3
   },
   "file_extension": ".py",
   "mimetype": "text/x-python",
   "name": "python",
   "nbconvert_exporter": "python",
   "pygments_lexer": "ipython3",
   "version": "3.9.13"
  }
 },
 "nbformat": 4,
 "nbformat_minor": 5
}