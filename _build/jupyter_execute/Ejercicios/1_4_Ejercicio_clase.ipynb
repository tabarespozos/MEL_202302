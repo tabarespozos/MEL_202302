{
 "cells": [
  {
   "cell_type": "markdown",
   "id": "d5258725",
   "metadata": {},
   "source": [
    "# 📝 Ejercicio"
   ]
  },
  {
   "cell_type": "markdown",
   "id": "38959fcb",
   "metadata": {},
   "source": [
    "Imaginemos que estamos interesados en predecir la especie de los pingüinos basándonos en dos de sus medidas corporales: la longitud del culmen y la profundidad del culmen. Primero queremos explorar los datos para hacernos una idea. ¿Cuáles son las características? ¿Cuál es el objetivo?"
   ]
  },
  {
   "cell_type": "markdown",
   "id": "f8a05c72",
   "metadata": {},
   "source": [
    "Los datos se encuentran en `../data/penguins_classification.csv`, cárgalos con `pandas` en un `DataFrame`."
   ]
  },
  {
   "cell_type": "code",
   "execution_count": 1,
   "id": "fb63de93",
   "metadata": {},
   "outputs": [],
   "source": [
    "# Write your code here."
   ]
  },
  {
   "cell_type": "markdown",
   "id": "b77fc2c1",
   "metadata": {},
   "source": [
    "Muestre algunas muestras de los datos.\n",
    "\n",
    "¿Cuántas características son numéricas? ¿Cuántas características son categóricas?"
   ]
  },
  {
   "cell_type": "code",
   "execution_count": 2,
   "id": "0de548bc",
   "metadata": {},
   "outputs": [],
   "source": [
    "# Write your code here."
   ]
  },
  {
   "cell_type": "markdown",
   "id": "33868b04",
   "metadata": {},
   "source": [
    "¿Cuáles son las diferentes especies de pingüinos disponibles en el conjunto de datos y cuántas muestras de cada especie hay? Sugerencia: seleccione la columna de la derecha y utilice el método [`value_counts`](https://pandas.pydata.org/pandas-docs/stable/reference/api/pandas.Series.value_counts.html)."
   ]
  },
  {
   "cell_type": "code",
   "execution_count": 3,
   "id": "c71e8527",
   "metadata": {},
   "outputs": [],
   "source": [
    "# Write your code here."
   ]
  },
  {
   "cell_type": "markdown",
   "id": "dbbbf3f7",
   "metadata": {},
   "source": [
    "Trazar histogramas para las características numéricas"
   ]
  },
  {
   "cell_type": "code",
   "execution_count": 4,
   "id": "2addfb0d",
   "metadata": {},
   "outputs": [],
   "source": [
    "# Write your code here."
   ]
  },
  {
   "cell_type": "markdown",
   "id": "2da74dc0",
   "metadata": {},
   "source": [
    "Muestre la distribución de características para cada clase. Sugerencia: utilice [`seaborn.pairplot`](https://seaborn.pydata.org/generated/seaborn.pairplot.html)"
   ]
  },
  {
   "cell_type": "code",
   "execution_count": 5,
   "id": "8bd8db28",
   "metadata": {},
   "outputs": [],
   "source": [
    "# Write your code here."
   ]
  },
  {
   "cell_type": "markdown",
   "id": "c79f1d11",
   "metadata": {},
   "source": [
    "Observando estas distribuciones, ¿cuán difícil crees que será clasificar a los pingüinos utilizando sólo la \"profundidad del culmen\" y la \"longitud del culmen\"?"
   ]
  },
  {
   "cell_type": "code",
   "execution_count": null,
   "id": "8c22223e",
   "metadata": {},
   "outputs": [],
   "source": []
  }
 ],
 "metadata": {
  "jupytext": {
   "main_language": "python"
  },
  "kernelspec": {
   "display_name": "Python 3",
   "name": "python3"
  },
  "language_info": {
   "codemirror_mode": {
    "name": "ipython",
    "version": 3
   },
   "file_extension": ".py",
   "mimetype": "text/x-python",
   "name": "python",
   "nbconvert_exporter": "python",
   "pygments_lexer": "ipython3",
   "version": "3.9.13"
  }
 },
 "nbformat": 4,
 "nbformat_minor": 5
}