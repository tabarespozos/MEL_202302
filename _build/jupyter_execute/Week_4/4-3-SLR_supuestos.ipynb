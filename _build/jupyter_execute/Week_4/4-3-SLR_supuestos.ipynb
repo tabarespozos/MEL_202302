{
 "cells": [
  {
   "cell_type": "markdown",
   "id": "55c67139",
   "metadata": {},
   "source": [
    "## Lectura 4-3: Supuestos de la regresión lineal simple"
   ]
  },
  {
   "cell_type": "markdown",
   "id": "3a53eb85",
   "metadata": {
    "id": "3a53eb85"
   },
   "source": [
    "### Interpretación probabilística\n",
    "\n",
    "- Teniendo en cuenta los supuestos anteriores, estamos diciendo que la densidad de probabilidad (PDF) de los errores $\\epsilon$ es una gaussiana con media cero y varianza constante $\\sigma^2$:\n",
    "\n",
    " $$\\text{PDF}(\\epsilon_{i})=\\frac{1}{\\sqrt{2\\pi} \\sigma} \\exp \\left(- \\frac{\\epsilon_{i}^{2}}{2\\sigma^2}\\right)$$\n",
    "\n",
    "-   Además todos los $\\epsilon_{i}$ son IID (independientes e idénticamente distribuidos).\n",
    "\n",
    "- Esto implica que:\n",
    "\n",
    " $$\\text{PDF}(y_i|x_{i};\\beta)=\\frac{1}{\\sqrt{2\\pi} \\sigma} \\exp \\left(- \\frac{(y_i - h_{\\beta}(x_{i}) )^{2}}{2\\sigma^2}\\right)$$\n",
    "\n",
    "-  Lo que implica que la distribución de $\\mathbf{y}$ dados los valores de $\\mathbf{x}$, parametrizados por $\\beta$ también se distribuye normalmente.\n",
    "\n",
    "- Estimemos los parámetros del modelo ($\\beta$) utilizando la estimación de máxima verosimilitud."
   ]
  },
  {
   "cell_type": "markdown",
   "id": "e37e82a2",
   "metadata": {
    "id": "e37e82a2"
   },
   "source": [
    "\n",
    "-   La función de verosimilitud de $\\beta$ puede escribirse como:\n",
    "\n",
    "$$\\mathcal{L}(\\beta) = \\prod_{i=1}^{n}\\frac{1}{\\sqrt{2\\pi} \\sigma} \\exp \\left(- \\frac{(y_i - h_{\\beta}(x_{i}) )^{2}}{2\\sigma^2}\\right)$$\n",
    "\n",
    "-   y el logaritmo de probabilidad $l_n(\\beta)$:\n",
    "\n",
    "$$l_n(\\beta)  =  \\log  \\mathcal{L}(\\beta) $$\n",
    "$$ = \\log \\prod_{i=1}^{n}\\frac{1}{\\sqrt{2\\pi} \\sigma} \\exp \\left(- \\frac{(y_i - h_{\\beta}(x_{i}) )^{2}}{2\\sigma^2}\\right) $$\n",
    "$$ = \\sum_{i=1}^n  \\log \\frac{1}{\\sqrt{2\\pi} \\sigma} \\exp \\left(- \\frac{(y_i - h_{\\beta}(x_{i}) )^{2}}{2\\sigma^2}\\right) $$\n",
    "$$ = n \\log\\left(\\frac{1}{\\sqrt{2\\pi} \\sigma}\\right) - \\frac{1}{\\sigma^2}\\times \\frac{1}{2}\\sum_{i=1}^n(y_i - h_{\\beta}(x_{i}) )^{2}$$"
   ]
  },
  {
   "cell_type": "markdown",
   "id": "1119a935",
   "metadata": {
    "id": "1119a935"
   },
   "source": [
    "-   Después de ignorar las constantes, nos damos cuenta de que maximizar $l_n(\\beta)$ es equivalente a minimizar:\n",
    "\n",
    "$$\\sum_{i=1}^n(y_i - h_{\\beta}(x_{i}))^{2}$$\n",
    "\n",
    "-   Lo que equivale a minimizar la SSE.\n",
    "\n",
    "- Entonces, si uno estima los parámetros de $\\beta$ utilizando la estimación de máxima verosimilitud se llega a los mismos resultados que haciendo la estimación por mínimos cuadrados.\n",
    "\n",
    "- Por lo tanto, cada vez que realizamos una estimación por mínimos cuadrados, implícitamente estamos haciendo los mismos supuestos probabilísticos mencionados anteriormente (por ejemplo, normalidad, homocedasticidad).\n"
   ]
  },
  {
   "cell_type": "markdown",
   "id": "bbf5b29f",
   "metadata": {
    "id": "bbf5b29f"
   },
   "source": [
    "### Ejemplo: un modelo de altura\n",
    "\n",
    "- Vamos a trabajar con el conjunto de datos `Howell1` que contiene datos demográficos de los !Kung San del Kalahari recogidos por Nancy Howell a finales de los años sesenta.\n",
    "\n",
    "- Los !Kung San son la población forrajera más famosa del siglo XX, en gran parte gracias a los detallados estudios cuantitativos realizados por personas como Howell."
   ]
  },
  {
   "cell_type": "markdown",
   "id": "9bd3915b",
   "metadata": {
    "id": "9bd3915b"
   },
   "source": [
    "\n",
    "-   Cada observación corresponde a un individuo.\n",
    "\n",
    "- Las variables del conjunto de datos son:\n",
    "\n",
    "- Exploremos las correlaciones lineales entre las variables"
   ]
  },
  {
   "cell_type": "code",
   "execution_count": null,
   "id": "9e6b2066",
   "metadata": {
    "id": "9e6b2066"
   },
   "outputs": [],
   "source": [
    "# Escriba su código aquí...\n"
   ]
  },
  {
   "cell_type": "markdown",
   "id": "52226a27",
   "metadata": {
    "id": "52226a27"
   },
   "source": [
    "- Podemos ver que existe una correlación positiva entre `altura`  y `edad`.\n",
    "- Filtremos los ejemplos no adultos porque sabemos que la altura está fuertemente correlacionada con la edad antes de la edad adulta.\n"
   ]
  },
  {
   "cell_type": "code",
   "execution_count": null,
   "id": "832a6954",
   "metadata": {
    "id": "832a6954"
   },
   "outputs": [],
   "source": [
    "# Escriba su código aquí..."
   ]
  },
  {
   "cell_type": "markdown",
   "id": "d69b2275",
   "metadata": {
    "id": "d69b2275"
   },
   "source": [
    "-   Ahora bien, la edad no se correlaciona con la altura:"
   ]
  },
  {
   "cell_type": "code",
   "execution_count": null,
   "id": "492ce073",
   "metadata": {
    "id": "492ce073"
   },
   "outputs": [],
   "source": [
    "## Escriba su código aquí..."
   ]
  },
  {
   "cell_type": "markdown",
   "id": "9a34f705",
   "metadata": {
    "id": "9a34f705"
   },
   "source": [
    "-  Modelemos la altura en función del peso mediante una regresión lineal simple:\n",
    "    \n",
    "$$\\text{height}(\\text{weight})=\\beta_0+\\beta_1*\\text{weight}$$\n"
   ]
  },
  {
   "cell_type": "code",
   "execution_count": null,
   "id": "cfc7cab5",
   "metadata": {
    "id": "cfc7cab5"
   },
   "outputs": [],
   "source": [
    "# Escriba su código aquí...\n"
   ]
  },
  {
   "cell_type": "markdown",
   "id": "eeb4e71b",
   "metadata": {
    "id": "eeb4e71b"
   },
   "source": [
    "\n",
    "\n",
    "- Podemos ver que los coeficientes del modelo son $\\beta_{0}=113,879$ y $\\beta_{1}=0,905$.\n",
    "\n",
    "- La estimación de $\\beta_{0}=xxxx$, indica que una persona de peso 0 debería medir alrededor de $114$cm, lo cual sabemos ....\n",
    "\n",
    "- Dado que $\\beta_1$ es una pendiente, el valor $xxx$ puede leerse como que se espera que una persona con 1 kg más de peso sea xxx cm más alta.\n",
    "\n",
    "- Podemos acceder directamente a los coeficientes y almacenarlos en una variable:"
   ]
  },
  {
   "cell_type": "code",
   "execution_count": null,
   "id": "46f32954",
   "metadata": {
    "id": "46f32954"
   },
   "outputs": [],
   "source": [
    "# Escriba su código aquí..."
   ]
  },
  {
   "cell_type": "markdown",
   "id": "0acf656f",
   "metadata": {
    "id": "0acf656f"
   },
   "source": [
    "-   Podemos ver varios indicadores sobre el modelo lineal con el comando **summary**:"
   ]
  },
  {
   "cell_type": "code",
   "execution_count": null,
   "id": "273394d8",
   "metadata": {
    "id": "273394d8"
   },
   "outputs": [],
   "source": [
    "# Escriba su código aquí..."
   ]
  },
  {
   "cell_type": "markdown",
   "id": "1cb526f3",
   "metadata": {
    "id": "1cb526f3"
   },
   "source": [
    "- Podemos ver que $\\beta_0$ y $\\beta_1$ son ambos estadísticamente significativamente diferentes de cero.\n",
    "\n",
    "- Vemos que el coeficiente de determinación $R^2$ tiene un valor de 0,57$ que no es muy bueno pero aceptable.\n",
    "\n",
    "- Podemos concluir que el peso, aunque ....\n",
    "\n",
    "- Podemos acceder al coeficiente de determinación:"
   ]
  },
  {
   "cell_type": "code",
   "execution_count": null,
   "id": "55f6aee7",
   "metadata": {
    "id": "55f6aee7"
   },
   "outputs": [],
   "source": [
    "# Escriba su código aquí..."
   ]
  },
  {
   "cell_type": "markdown",
   "id": "b5c2930a",
   "metadata": {
    "id": "b5c2930a"
   },
   "source": [
    "- También podemos acceder a los valores ajustados que son los valores predichos por mi modelo para los datos utilizados:"
   ]
  },
  {
   "cell_type": "code",
   "execution_count": null,
   "id": "b3d163a6",
   "metadata": {
    "id": "b3d163a6"
   },
   "outputs": [],
   "source": [
    "# Escriba su código aquí..."
   ]
  },
  {
   "cell_type": "markdown",
   "id": "fc51e1a7",
   "metadata": {
    "id": "fc51e1a7"
   },
   "source": [
    "- Podemos comprobar ahora que todas las definiciones dadas para $R^2$ son\n",
    "    equivalentes."
   ]
  },
  {
   "cell_type": "code",
   "execution_count": null,
   "id": "17698042",
   "metadata": {
    "id": "17698042"
   },
   "outputs": [],
   "source": [
    "# Escriba su código aquí..."
   ]
  },
  {
   "cell_type": "markdown",
   "id": "5a3a288d",
   "metadata": {
    "id": "5a3a288d"
   },
   "source": [
    "-   O calcular manualmente el error estándar del modelo $SE_{\\text{model}}$:"
   ]
  },
  {
   "cell_type": "code",
   "execution_count": null,
   "id": "650739bc",
   "metadata": {
    "id": "650739bc"
   },
   "outputs": [],
   "source": [
    "# Escriba su código aquí..."
   ]
  },
  {
   "cell_type": "markdown",
   "id": "384c6372",
   "metadata": {
    "id": "384c6372"
   },
   "source": [
    "\n",
    "\n",
    "-  Supongamos ahora que conocemos el peso de dos personas !Kung pero no conocemos su altura.\n",
    "\n",
    "- Podríamos utilizar nuestro modelo lineal para predecir la altura de estas dos personas.\n",
    "\n"
   ]
  },
  {
   "cell_type": "code",
   "execution_count": null,
   "id": "4d613f0e",
   "metadata": {
    "id": "4d613f0e"
   },
   "outputs": [],
   "source": [
    "# Escriba su código aquí..."
   ]
  },
  {
   "cell_type": "markdown",
   "id": "a7887f84",
   "metadata": {
    "id": "a7887f84"
   },
   "source": []
  }
 ],
 "metadata": {
  "colab": {
   "provenance": []
  },
  "kernelspec": {
   "display_name": "Python 3 (ipykernel)",
   "language": "python",
   "name": "python3"
  },
  "language_info": {
   "codemirror_mode": {
    "name": "ipython",
    "version": 3
   },
   "file_extension": ".py",
   "mimetype": "text/x-python",
   "name": "python",
   "nbconvert_exporter": "python",
   "pygments_lexer": "ipython3",
   "version": "3.9.13"
  }
 },
 "nbformat": 4,
 "nbformat_minor": 5
}