{
 "cells": [
  {
   "cell_type": "markdown",
   "metadata": {
    "id": "SvVK9hllqqCF"
   },
   "source": [
    "**Semana 4. Regresión lineal simple - Parte I Regresión lineal simple - Parte I**\n",
    "\n",
    "**Objetivo:**\n",
    "Al final de esta semana, los estudiantes deben ser capaces de comprender e interpretar correlaciones, realizar análisis de regresión lineal simple y probar la significación de los coeficientes.\n",
    "\n",
    "**Programa:**\n",
    "\n",
    "*Comprender la correlación*\n",
    "- Definición e interpretación de la correlación\n",
    "- Coeficiente de Correlación\n",
    "- Limitaciones de la Correlación\n",
    "\n",
    "*Regresión Lineal Simple - Teoría*\n",
    "- Concepto de regresión lineal\n",
    "- Supuestos de la regresión lineal simple\n",
    "- Interpretación de los coeficientes de regresión\n",
    "\n",
    "*Regresión Lineal Simple - Aplicación*\n",
    "- Implementación de la Regresión Lineal Simple en python\n",
    "- Interpretación de los resultados de la regresión\n",
    "\n",
    "**Lecturas obligatorias:**\n",
    "[Chapters 11 from \"Applied Statistics and Probability for Engineers\" by Douglas C. Montgomery and George C. Runger.](https://uniandes.primo.exlibrisgroup.com/permalink/57U_UDLA/1sib6to/alma991005387282807681)\n",
    "\n",
    "[Chapter 1 from \"Introduction to linear regression analysis\" by  Douglas C. Montgomery, Elizabeth A. Peck, and Vining G.  Geoffrey](https://uniandes.primo.exlibrisgroup.com/permalink/57U_UDLA/1sib6to/alma991004028619707681)\n",
    "\n",
    "**Material suplementario:**\n",
    "1. [\"An Introduction to Statistical Learning: with Applications in R\" by Gareth James, Daniela Witten, Trevor Hastie, and Robert Tibshirani.](https://uniandes.primo.exlibrisgroup.com/permalink/57U_UDLA/1g0omtq/alma991005449699907681)\n",
    "2. [Video Lecture: \"Correlation and Regression\" by Khan Academy.](https://youtu.be/ROpbdO-gRUo)\n",
    "3. [Video Lecture: \"Linear regresion clearly explain\" by Statquest](https://youtu.be/7ArmBVF2dCs)\n",
    "3. [Spurious correlations](https://www.tylervigen.com/spurious-correlations)\n",
    "\n",
    "**Tutorial de software:**\n",
    "Tutorial de Python: Correlación y Regresión Lineal Simple en Python\n",
    "\n",
    "**Horario de oficina**\n",
    "Disponible bajo petición. Por favor, correo electrónico para concertar una cita."
   ]
  }
 ],
 "metadata": {
  "colab": {
   "provenance": []
  },
  "kernelspec": {
   "display_name": "Python 3",
   "language": "python",
   "name": "python3"
  },
  "language_info": {
   "codemirror_mode": {
    "name": "ipython",
    "version": 3
   },
   "file_extension": ".py",
   "mimetype": "text/x-python",
   "name": "python",
   "nbconvert_exporter": "python",
   "pygments_lexer": "ipython3",
   "version": "3.8.0"
  }
 },
 "nbformat": 4,
 "nbformat_minor": 0
}