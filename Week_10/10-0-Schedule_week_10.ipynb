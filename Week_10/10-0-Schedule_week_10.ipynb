{
 "cells": [
  {
   "attachments": {},
   "cell_type": "markdown",
   "metadata": {},
   "source": [
    "**Week 10: Regression Diagnostics and Remedies**\n",
    "\n",
    "**Objective:**\n",
    "This week is devoted to regression diagnostics and remedies. We'll look at how to conduct residual analysis and detect outliers, and discuss strategies for dealing with these issues. We'll also discuss how and when to apply transformations for variance stabilization. Python will be used for demonstrating these concepts.\n",
    "\n",
    "**Schedule:**\n",
    "\n",
    "*Residual Analysis*\n",
    "- Role of residuals in assessing the fit of a regression model\n",
    "- Plot and test to analize residuals.\n",
    "\n",
    "*Detection and Treatment of Outliers*\n",
    "- How to identify outliers \n",
    "- Dealing with outliers.\n",
    "\n",
    "*Transformations for Variance Stabilization*\n",
    "- Exploring transformations\n",
    "- Box-Cox transformation\n",
    "- Johnson transformation\n",
    "- Variance stabilization.\n",
    "\n",
    "*Regression Diagnostics and Remedies - Application*\n",
    "-conduct residual analysis, detect and treat outliers, and apply transformations for variance stabilization.\n",
    "\n",
    "**Required Readings:**\n",
    "\n",
    "[Chapter 12 from \"Applied Statistics and Probability for Engineers\" by Douglas C. Montgomery and George C. Runger.](https://uniandes.primo.exlibrisgroup.com/permalink/57U_UDLA/1sib6to/alma991005387282807681)\n",
    "\n",
    "\n",
    "[Chapters 10 and 11 from \"Introduction to linear regression analysis\" by  Douglas C. Montgomery, Elizabeth A. Peck, and Vining G.  Geoffrey](https://uniandes.primo.exlibrisgroup.com/permalink/57U_UDLA/1sib6to/alma991004028619707681)\n",
    "\n",
    "\n",
    "**Supplementary Material:**\n",
    "1. Chapter 4 from \"Regression Analysis by Example\" by Samprit Chatterjee and Ali S. Hadi.(https://uniandes.primo.exlibrisgroup.com/permalink/57U_UDLA/1sib6to/alma991005387282807681)\n",
    "2. Chapter 4 from \"Regression Modeling Strategies\" by Frank E. Harrell Jr.(https://uniandes.primo.exlibrisgroup.com/permalink/57U_UDLA/1sib6to/alma991005387282807681)\n",
    "3. Video: \"Regression Diagnostics\" by Brian Caffo (https://www.youtube.com/watch?v=VohfwSJuG4k)\n",
    "\n",
    "\n",
    "**Software Tutorial:**\n",
    "Python Tutorial: Multiple Regression and Model Selection in Python\n",
    "\n",
    "**Office Hours:**\n",
    "Available upon request. Please email to set up an appointment.\n"
   ]
  }
 ],
 "metadata": {
  "kernelspec": {
   "display_name": "Python 3",
   "language": "python",
   "name": "python3"
  },
  "language_info": {
   "codemirror_mode": {
    "name": "ipython",
    "version": 3
   },
   "file_extension": ".py",
   "mimetype": "text/x-python",
   "name": "python",
   "nbconvert_exporter": "python",
   "pygments_lexer": "ipython3",
   "version": "3.9.13"
  },
  "widgets": {
   "application/vnd.jupyter.widget-state+json": {
    "state": {},
    "version_major": 2,
    "version_minor": 0
   }
  }
 },
 "nbformat": 4,
 "nbformat_minor": 4
}
