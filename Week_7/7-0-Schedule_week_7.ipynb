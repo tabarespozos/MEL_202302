{
 "cells": [
  {
   "attachments": {},
   "cell_type": "markdown",
   "metadata": {},
   "source": [
    "**Semana 7. Regresión lineal múltiple - Parte I Regresión lineal múltiple - Parte I**\n",
    "\n",
    "**Objetivo**\n",
    "El objetivo de esta semana es ampliar nuestra comprensión de la regresión lineal al caso en el que tenemos más de una variable predictora. Aprenderemos a estimar e interpretar los coeficientes de un modelo de regresión múltiple y a evaluar el ajuste del modelo. La implementación de Python de estos conceptos proporcionará una comprensión práctica y experiencia práctica.\n",
    "\n",
    "**Programación**\n",
    "\n",
    "**Introducción a la Regresión Múltiple**\n",
    "- Concepto de Regresión Múltiple\n",
    "- Estimación de Coeficientes\n",
    "- Interpretación del Modelo\n",
    "\n",
    "**Supuestos en Regresión Múltiple**\n",
    "- Linealidad, Independencia, Homocedasticidad, Normalidad\n",
    "- Detección y corrección de incumplimientos de supuestos\n",
    "\n",
    "**Regresión Múltiple - Aplicación**\n",
    "- Implementación de la regresión múltiple en Python\n",
    "- Interpretación de los resultados de la regresión\n",
    "- Evaluación de la importancia de la regresión y los predictores individuales\n",
    "- Detección y corrección de violaciones de supuestos\n",
    "\n",
    "***Lecturas obligatorias:**\n",
    "\n",
    "[Chapters 12 from \"Applied Statistics and Probability for Engineers\" by Douglas C. Montgomery and George C. Runger.](https://uniandes.primo.exlibrisgroup.com/permalink/57U_UDLA/1sib6to/alma991005387282807681)\n",
    "\n",
    "[Chapters 6 from \"Introduction to linear regression analysis\" by  Douglas C. Montgomery, Elizabeth A. Peck, and Vining G.  Geoffrey](https://uniandes.primo.exlibrisgroup.com/permalink/57U_UDLA/1sib6to/alma991004028619707681)\n",
    "\n",
    "\n",
    "**Material suplementario:**\n",
    "1. \"Data Analysis Using Regression and Multilevel/Hierarchical Models\" by Andrew Gelman and Jennifer Hill. *(Biblioteca General Ramón de Zubiría, Piso 2 - Ciencia e ingeniería ; 519.536 G245)*\n",
    "2. [Video Lecture: \"Multiple Regression\" by StatQuest with Josh Starmer.](https://youtu.be/zITIFTsivN8)\n",
    "\n",
    "**Tutorial de Software**\n",
    "Python Tutorial: Multiple Regression and Model Selection in Python\n",
    "\n",
    "**Horario de oficina**\n",
    "Disponible bajo previa petición. Envíe un correo electrónico para concertar una cita.\n"
   ]
  }
 ],
 "metadata": {
  "kernelspec": {
   "display_name": "Python 3",
   "language": "python",
   "name": "python3"
  },
  "language_info": {
   "codemirror_mode": {
    "name": "ipython",
    "version": 3
   },
   "file_extension": ".py",
   "mimetype": "text/x-python",
   "name": "python",
   "nbconvert_exporter": "python",
   "pygments_lexer": "ipython3",
   "version": "3.8.0"
  },
  "widgets": {
   "application/vnd.jupyter.widget-state+json": {
    "state": {},
    "version_major": 2,
    "version_minor": 0
   }
  }
 },
 "nbformat": 4,
 "nbformat_minor": 4
}
