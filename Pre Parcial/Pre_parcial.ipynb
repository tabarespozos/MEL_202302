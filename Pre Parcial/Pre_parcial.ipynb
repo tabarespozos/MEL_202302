{
  "cells": [
    {
      "cell_type": "code",
      "execution_count": 1,
      "metadata": {
        "id": "jsgyRIwFoKwA"
      },
      "outputs": [],
      "source": [
        "import numpy as np\n",
        "import pandas as pd"
      ]
    },
    {
      "cell_type": "markdown",
      "metadata": {
        "id": "MCWwNdvUnzqz"
      },
      "source": [
        "\n",
        "\n",
        "#### Parte I: Análisis Exploratorio de Datos (45 minutos)\n",
        "1. **Análisis Exploratorio Detallado**: Realice un análisis exploratorio de los datos proporcionados. Incluya estadísticas descriptivas, análisis de correlaciones, y visualizaciones pertinentes.\n",
        "2. **Preparación de Datos**: Identifique y trate los valores atípicos y faltantes. Explique sus decisiones.\n",
        "\n"
      ]
    },
    {
      "cell_type": "code",
      "execution_count": 2,
      "metadata": {
        "id": "rOTxon6gn5bc"
      },
      "outputs": [],
      "source": [
        "# ingrese su respuesta"
      ]
    },
    {
      "cell_type": "markdown",
      "metadata": {
        "id": "m_9r1qTvoKmp"
      },
      "source": [
        "\n",
        "#### Parte II: Regresión Lineal Múltiple (30 minutos)\n",
        "1. **Construcción de Modelo**: Construya un modelo de regresión lineal múltiple. Seleccione las variables basándose en criterios estadísticos y justifique su elección.\n",
        "2. **Interpretación y Diagnóstico**: Interprete los coeficientes y realice un diagnóstico completo de los residuos.\n",
        "\n"
      ]
    },
    {
      "cell_type": "code",
      "execution_count": null,
      "metadata": {},
      "outputs": [],
      "source": [
        "# ingrese su respuesta"
      ]
    },
    {
      "cell_type": "markdown",
      "metadata": {
        "id": "FqCsoSDz7Pvd"
      },
      "source": [
        "#### Parte III: Regresión Regularizada (30 minutos)\n",
        "\n",
        "1. **Construcción de Modelo**: Aplique la regresión de Lasso y Ridge usando la base de datos fetch_california_housing. Realice la clusterización de las observaciones usando las variables latitud y longitud; seleccione las variables basándose en criterios estadísticos y justifique su elección.\n",
        "\n",
        "\n"
      ]
    },
    {
      "cell_type": "code",
      "execution_count": null,
      "metadata": {},
      "outputs": [],
      "source": [
        "# ingrese su respuesta"
      ]
    },
    {
      "cell_type": "markdown",
      "metadata": {
        "id": "7sHBsgxiOFon"
      },
      "source": [
        "#### Parte IV: Regresión Logística (30 minutos)\n",
        "\n",
        "1. **Modelo de Regresión Logística**: Convierta la la variable objetivo en una categorica en una variable binaria y aplique la regresión logística.\n",
        "2. **Análisis de Resultados**: Interprete los coeficientes y evalúe el rendimiento del modelo utilizando la matriz de confusión y otras métricas relevantes.\n",
        "\n",
        "\n"
      ]
    },
    {
      "cell_type": "code",
      "execution_count": null,
      "metadata": {},
      "outputs": [],
      "source": [
        "# ingrese su respuesta"
      ]
    },
    {
      "cell_type": "markdown",
      "metadata": {
        "id": "0iCHarGHca3D"
      },
      "source": [
        "#### Parte V: Regresión Logística Regularizada (15 minutos)\n",
        "1. **Regularización en Regresión Logística**: Implemente regularización L1 y L2 en el modelo de regresión logística. Discuta las diferencias y elija el mejor modelo.\n",
        "\n"
      ]
    },
    {
      "cell_type": "code",
      "execution_count": null,
      "metadata": {},
      "outputs": [],
      "source": [
        "# ingrese su respuesta"
      ]
    },
    {
      "cell_type": "markdown",
      "metadata": {
        "id": "pQbo5-vymak2"
      },
      "source": [
        "#### Parte VI: Estudio de Caso Aplicado (30 minutos)\n",
        "\n",
        "1. Usted y sus amigos estan interesado en generar una aplicación para celular de bajo costo que ayude a los usuarios a saber el precio de venta de las casa que se ofrecen en el mercado sin tener que usar intermediarios. Utilice los modelos desarrollados para decidir que factores pueden ser clave en su desarrollo.\n",
        "\n",
        "\n",
        "2. Reflexione sobre las limitaciones de los modelos generados y proponga procedimientos que pueden mejorar el rendimiento. Integre las mejoras propuestas y analice los nuevos resultados para responder la pregunta anterior.\n"
      ]
    },
    {
      "cell_type": "code",
      "execution_count": null,
      "metadata": {},
      "outputs": [],
      "source": [
        "# ingrese su respuesta"
      ]
    }
  ],
  "metadata": {
    "colab": {
      "provenance": []
    },
    "kernelspec": {
      "display_name": "Python 3",
      "name": "python3"
    },
    "language_info": {
      "name": "python"
    }
  },
  "nbformat": 4,
  "nbformat_minor": 0
}
