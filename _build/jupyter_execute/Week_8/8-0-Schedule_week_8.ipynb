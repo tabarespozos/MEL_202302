{
 "cells": [
  {
   "attachments": {},
   "cell_type": "markdown",
   "metadata": {},
   "source": [
    "**Week 8: Multiple Linear Regression - Part II**\n",
    "\n",
    "**Objective:**\n",
    "This week we will delve into potential issues that may arise in multiple linear regression models, specifically multicollinearity. We'll explore ways to detect and deal with multicollinearity. Furthermore, we'll also discuss various model selection techniques to choose the best fit model. Python will be used for practical illustrations.\n",
    "\n",
    "**Schedule:**\n",
    "\n",
    "*Multicollinearity*\n",
    "- Definition of multicollinearity\n",
    "- Implication for the multiple linear regression models\n",
    "- Detection of the multicollinearity\n",
    "\n",
    "*Dealing with Multicollinearity*\n",
    "- Dropping variables\n",
    "- Combining variables\n",
    "- Regularization.\n",
    "\n",
    "*Model Selection Techniques* \n",
    "- Forward selection\n",
    "- Backward elimination\n",
    "- Criterion-based selection.\n",
    "\n",
    "*Multicollinearity and Model Selection- Application*\n",
    "- Detect multicollinearity.\n",
    "- Perform model selection.\n",
    "\n",
    "**Required Readings:**\n",
    "\n",
    "[Chapters 9 and 10 from \"Applied Statistics and Probability for Engineers\" by Douglas C. Montgomery and George C. Runger.](https://uniandes.primo.exlibrisgroup.com/permalink/57U_UDLA/1sib6to/alma991005387282807681)\n",
    "\n",
    "[Chapters 12 from \"Introduction to linear regression analysis\" by  Douglas C. Montgomery, Elizabeth A. Peck, and Vining G.  Geoffrey](https://uniandes.primo.exlibrisgroup.com/permalink/57U_UDLA/1sib6to/alma991004028619707681)\n",
    "\n",
    "\n",
    "**Supplementary Material:**\n",
    "1. \"Data Analysis Using Regression and Multilevel/Hierarchical Models\" by Andrew Gelman and Jennifer Hill. *(Biblioteca General Ramón de Zubiría, Piso 2 - Ciencia e ingeniería ; 519.536 G245)*\n",
    "2. \"An Introduction to Statistical Learning\" by Gareth James, Daniela Witten, Trevor Hastie and Robert Tibshirani. *(Biblioteca General Ramón de Zubiría, Piso 2 - Ciencia e ingeniería ; 519.5 J27)*\n",
    "3. \"The Elements of Statistical Learning\" by Trevor Hastie, Robert Tibshirani and Jerome Friedman. *(Biblioteca General Ramón de Zubiría, Piso 2 - Ciencia e ingeniería ; 519.5 H35)*\n",
    "4. [Video Lecture: \"Multiple Regression\" by StatQuest with Josh Starmer.](https://youtu.be/zITIFTsivN8)\n",
    "5. [Video Lecture: \"Multicollinearity\" by By Jim Frost.](https://statisticsbyjim.com/regression/multicollinearity-in-regression-analysis/)\n",
    "6. [Video Lecture: \"Ridge Regresion\" by StatQuest with Josh Starmer.](https://youtu.be/Q81RR3yKn30)\n",
    "7. [Video Lecture: \"Lasso Regression\" by StatQuest with Josh Starmer.](https://youtu.be/NGf0voTMlcs)\n",
    "\n",
    "**Software Tutorial:**\n",
    "Python Tutorial: Multiple Regression and Model Selection in Python\n",
    "\n",
    "**Office Hours:**\n",
    "Available upon request. Please email to set up an appointment.\n"
   ]
  }
 ],
 "metadata": {
  "kernelspec": {
   "display_name": "Python 3",
   "language": "python",
   "name": "python3"
  },
  "language_info": {
   "codemirror_mode": {
    "name": "ipython",
    "version": 3
   },
   "file_extension": ".py",
   "mimetype": "text/x-python",
   "name": "python",
   "nbconvert_exporter": "python",
   "pygments_lexer": "ipython3",
   "version": "3.8.0"
  },
  "widgets": {
   "application/vnd.jupyter.widget-state+json": {
    "state": {},
    "version_major": 2,
    "version_minor": 0
   }
  }
 },
 "nbformat": 4,
 "nbformat_minor": 4
}