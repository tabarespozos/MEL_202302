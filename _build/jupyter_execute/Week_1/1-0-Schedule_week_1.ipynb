{
 "cells": [
  {
   "cell_type": "markdown",
   "metadata": {},
   "source": [
    "## **Semana 1. Introducción al análisis estadístico**"
   ]
  },
  {
   "attachments": {},
   "cell_type": "markdown",
   "metadata": {},
   "source": [
    "\n",
    "\n",
    "**Objetivo**\n",
    "Al final de esta sesión, usted debe ser capaz de entender los conceptos básicos de la estadística, los tipos de datos, y las medidas fundamentales de estadística descriptiva.\n",
    "\n",
    "**Programa:**\n",
    "\n",
    "*Introducción al curso*\n",
    "- Breve descripción de los objetivos y el programa del curso\n",
    "- Comprensión de la relevancia y aplicación de los modelos estadísticos en la toma de decisiones\n",
    "\n",
    "*Introducción a la estadística*\n",
    "- Definición de estadística: Descriptiva vs Inferencial\n",
    "- Comprensión de las variables: Cuantitativas y cualitativas\n",
    "- Escalas de medida: Nominal, Ordinal, Intervalo, Razón\n",
    "\n",
    "*Tipos de datos*\n",
    "- Datos transversales, de series temporales y de panel\n",
    "- Datos estructurados y no estructurados\n",
    "\n",
    "*Medidas de tendencia central*\n",
    "- Media, mediana, moda\n",
    "- Propiedades y casos de uso\n",
    "\n",
    "*Medidas de dispersión*\n",
    "- Rango, Varianza, Desviación Estándar, Rango Intercuartílico\n",
    "- Propiedades y casos de uso\n",
    "\n",
    "*Introducción a la visualización de datos*\n",
    "- Gráficos y diagramas básicos: Histogramas, diagramas de barras, diagramas de cajas, etc.\n",
    "- Importancia de la visualización de datos en el análisis estadístico\n",
    "\n",
    "**Lecturas requeridas:**\n",
    "\n",
    "[Chapters 6 from \"Applied Statistics and Probability for Engineers\" by Douglas C. Montgomery and George C. Runger.](https://uniandes.primo.exlibrisgroup.com/permalink/57U_UDLA/1sib6to/alma991005387282807681)\n",
    "\n",
    "**Material complementario:**\n",
    "\n",
    "1.[\"Statistics in a Nutshell\" by Sarah Boslaugh and Paul Andrew Watters](https://uniandes.primo.exlibrisgroup.com/permalink/57U_UDLA/1g0omtq/alma991005386693907681).\n",
    "\n",
    "2.[Video Lecture: \"Introduction to Statistics\" by Khan Academy](https://youtube.com/playlist?list=PLGcvh64d5a4HfGkm8O4SIqbrS5HFaaM3B).\n",
    "\n",
    "**Tutorial de software:**\n",
    "\n",
    "[McKinney, Wes. Python for Data Analysis : Data Wrangling with Pandas, NumPy, and IPython. Second edition. Beijing: O’Reilly, 2018. Print.](https://uniandes.primo.exlibrisgroup.com/permalink/57U_UDLA/1g0omtq/alma991005388703807681)\n",
    "\n",
    "[Plotting and Programming in Python](http://swcarpentry.github.io/python-novice-gapminder/)\n",
    "\n",
    "[Python Tutorial: Introduction to Python](https://scipy-lectures.org/intro/language/python_language.html)\n",
    "\n",
    "\n",
    "**Horario de atención:**\n",
    "Disponible bajo petición. Por favor, correo electrónico para concertar una cita."
   ]
  }
 ],
 "metadata": {
  "kernelspec": {
   "display_name": "Python 3",
   "language": "python",
   "name": "python3"
  },
  "language_info": {
   "codemirror_mode": {
    "name": "ipython",
    "version": 3
   },
   "file_extension": ".py",
   "mimetype": "text/x-python",
   "name": "python",
   "nbconvert_exporter": "python",
   "pygments_lexer": "ipython3",
   "version": "3.11.4"
  },
  "widgets": {
   "application/vnd.jupyter.widget-state+json": {
    "state": {},
    "version_major": 2,
    "version_minor": 0
   }
  }
 },
 "nbformat": 4,
 "nbformat_minor": 4
}