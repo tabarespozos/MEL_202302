{
 "cells": [
  {
   "cell_type": "markdown",
   "id": "0df5324c",
   "metadata": {},
   "source": [
    "## Lectura 2-1: Probabilidad y estadística"
   ]
  },
  {
   "cell_type": "markdown",
   "id": "606a0b9d-7b3b-4bef-87c0-88fb41f2e6de",
   "metadata": {
    "id": "606a0b9d-7b3b-4bef-87c0-88fb41f2e6de"
   },
   "source": [
    "- La probabilidad es el lenguaje de la **incertidumbre** que constituye también la base de la inferencia estadística .\n",
    "\n",
    "- Constituye una parte importante de los cimientos de la estadística, ya que nos proporciona las herramientas matemáticas para describir ***sucesos inciertos***.\n",
    "\n",
    "- El estudio de la probabilidad surgió en parte debido al interés por comprender los juegos de azar, como las cartas o los dados.\n",
    "\n",
    "- Estos juegos proporcionan ejemplos útiles de muchos conceptos estadísticos, porque cuando repetimos estos juegos la probabilidad de que se produzcan diferentes resultados sigue siendo (casi) la misma."
   ]
  },
  {
   "cell_type": "markdown",
   "id": "bf9e4459",
   "metadata": {
    "id": "bf9e4459"
   },
   "source": [
    "![gambling](../Images/gambling.png)"
   ]
  },
  {
   "cell_type": "markdown",
   "id": "3d7198a7",
   "metadata": {
    "id": "3d7198a7"
   },
   "source": [
    "## Probabilidad y estadística\n",
    "\n",
    "- El problema estudiado en probabilidad es: dado un proceso generador de datos, ¿cuáles son las propiedades de los resultados?\n",
    "\n",
    "- El problema estudiado en la inferencia estadística, la minería de datos y el aprendizaje automático es: dados los resultados, ¿qué podemos decir sobre el proceso que genera los datos observados?\n",
    "\n",
    "![](../Images/probandstats.png)"
   ]
  },
  {
   "cell_type": "markdown",
   "id": "8f8b6893",
   "metadata": {
    "id": "8f8b6893"
   },
   "source": [
    "### ¿Qué es la probabilidad?\n",
    "\n",
    "- Pensamos en la probabilidad como un número que describe la posibilidad de que ocurra algún acontecimiento, que oscila entre cero (imposibilidad) y uno (certeza).\n",
    "\n",
    "- Las probabilidades también pueden expresarse en porcentajes: cuando la previsión meteorológica predice un veinte por ciento de posibilidades de que llueva hoy.\n",
    "\n",
    "- En cada caso, estos números expresan la probabilidad de que se produzca ese acontecimiento concreto, que va de absolutamente imposible a absolutamente seguro."
   ]
  },
  {
   "cell_type": "markdown",
   "id": "81dc1307",
   "metadata": {
    "id": "81dc1307"
   },
   "source": [
    "### Conceptos de probabilidad\n",
    "\n",
    "- Un **experimento aleatorio** consiste en medir un proceso cuyo resultado es incierto.\n",
    "\n",
    "- Ejemplos: lanzar una moneda al aire, lanzar un dado de 6 caras o probar una nueva ruta al trabajo para ver si es más rápida que la antigua.\n",
    "\n",
    "- El conjunto de todos los resultados posibles de un experimento aleatorio es el **espacio muestral** $\\Omega$ (puede ser discreto o continuo).\n",
    "\n",
    "* Para lanzar una moneda $\\Omega = \\{cara, cruz$\\}$,\n",
    "* para el dado de 6 caras $\\Omega=\\{1,2,3,4,5,6\\}$,\n",
    "* y para la cantidad de tiempo que se tarda en llegar al trabajo $\\Omega$ son todos los números reales posibles mayores que cero.\n",
    "\n",
    "- Un **evento** $E \\subseteq \\Omega$ corresponde a un subconjunto de esas salidas.\n",
    "\n",
    "- Por ejemplo, $E = \\{ 2,4,6 \\}$ es el suceso de observar un número par al lanzar un dado."
   ]
  },
  {
   "cell_type": "markdown",
   "id": "bee843f3",
   "metadata": {
    "id": "bee843f3"
   },
   "source": [
    "### Probabilidad\n",
    "\n",
    "- Ahora podemos esbozar las características formales de una probabilidad, que fueron definidas por primera vez por el matemático ruso Andrei Kolmogorov.\n",
    "\n",
    "![](../Images/kolmogorov.jpeg)\n",
    "\n",
    "- Una probabilidad $\\mathbb{P}$ es una función de valor real definida sobre $\\Omega$ que satisface las siguientes propiedades:\n",
    "\n",
    "**Propiedades**\n",
    "\n",
    "1.  Para cualquier suceso $E \\subseteq \\Omega$ , $0 \\leq \\mathbb{P}(E) \\leq 1$.\n",
    "\n",
    "2.  La probabilidad del espacio muestral es 1: $\\mathbb{P}(\\Omega) =1$.\n",
    "\n",
    "3.  Sea $E_{1},E_{2},\\dots,E_{k} \\in \\Omega$ son conjuntos disjuntos\n",
    "\n",
    "$$\\mathbb{P}(\\bigcup_{i=1}^{k}E_{i}) = \\sum_{i}^{k}P(E_{i})$$\n",
    "\n",
    "En cualquier caso, las probabilidades no pueden ser negativas ni mayores que 1."
   ]
  },
  {
   "cell_type": "markdown",
   "id": "d7c51d22",
   "metadata": {
    "id": "d7c51d22"
   },
   "source": [
    "### Interpretación de las probabilidades\n",
    "\n",
    "Existen dos interpretaciones comunes de las probabilidades: frecuencias y grados de creencia (o probabilidades bayesianas).\n",
    "\n",
    "**Probabilidad frecuentista**\n",
    "\n",
    "- En la interpretación frecuentista, se define a la probabilidad de un suceso $\\mathbb{P}(E)$ como el límite de su frecuencia relativa en muchos ensayos.\n",
    "\n",
    "- Por ejemplo, si decimos que la probabilidad de que salga cara es 1/2, queremos decir que si lanzamos la moneda muchas veces, la proporción de veces que sale cara tiende a 1/2 a medida que aumenta el número de lanzamientos.\n",
    "\n",
    "- Cuando el espacio muestral $\\Omega$ es finito, podemos decir que\n",
    "    $$\\mathbb{P}(E) = \\frac{\\text{casos favorables}} {\\text{casos totales}} = \\frac{|E|}{|\\Omega|}$$"
   ]
  },
  {
   "cell_type": "markdown",
   "id": "e3301708",
   "metadata": {
    "id": "e3301708"
   },
   "source": [
    "**La probabilidad como grado de creencia**\n",
    "\n",
    "- La interpretación del grado de creencia (también conocida como interpretación bayesiana o interpretación subjetiva) es que $\\mathbb{P}(E)$ mide el grado de creencia de un observador de que $E$ es cierto.\n",
    "\n",
    "- Si yo le preguntara ***\"¿Qué probabilidad hay de que EE.UU. vuelva a la Luna en 2026?\"***, usted podría responder a esta pregunta basándose en sus conocimientos y creencias.\n",
    "\n",
    "- Aunque no haya frecuencias relevantes para calcular una probabilidad frecuentista.\n",
    "\n",
    "- En cualquiera de las dos interpretaciones, exigimos que se cumplan las propiedades 1 a 3.\n",
    "\n",
    "- La diferencia de interpretación no importará mucho hasta que nos ocupemos de la inferencia estadística.\n",
    "\n",
    "- En este caso, las distintas interpretaciones dan lugar a dos escuelas de inferencia: la frecuentista y la bayesiana."
   ]
  },
  {
   "cell_type": "markdown",
   "id": "4e224d73",
   "metadata": {
    "id": "4e224d73"
   },
   "source": [
    "### La regla de la resta\n",
    "\n",
    "- La probabilidad de que un suceso $E$ no ocurra es uno menos la probabilidad de que el suceso ocurra:\n",
    "    $$\\mathbb{P}(\\neg E) = 1 - \\mathbb{P}(E)$$\n",
    "\n",
    "- Por ejemplo, si la probabilidad de sacar un uno en un solo lanzamiento de dado es 1/6, entonces la probabilidad de sacar cualquier cosa que no sea un uno es 5/6."
   ]
  },
  {
   "cell_type": "markdown",
   "id": "41c2ffc0",
   "metadata": {
    "id": "41c2ffc0"
   },
   "source": [
    "### Métodos combinatorios\n",
    "\n",
    "- Hay algunos hechos de la teoría del recuento que son útiles para calcular probabilidades.\n",
    "\n",
    "- Dados $n$ objetos, el número de maneras de ordenar estos objetos es $n!=n(n-1)(n-2)\\cdots3\\cdot2\\cdot1$.\n",
    "\n",
    "- Por convención, definimos $$0!=1$$.\n",
    "\n",
    "- También definimos $${n \\choose k} = \\frac{n!}{k!(n-k)!}$$ léase \"n elige k\", que es el número de formas distintas de elegir k objetos de n.\n",
    "\n",
    "\n",
    "- Por ejemplo, si tenemos una clase de 20 personas y queremos seleccionar un comité de 3 estudiantes, entonces hay $${20 \\choose 3} = \\frac{20!}{3!17!}=1140$$ posibles comités."
   ]
  },
  {
   "cell_type": "code",
   "execution_count": 4,
   "id": "a1db9de7",
   "metadata": {
    "id": "a1db9de7",
    "outputId": "44052fd5-0e44-49bc-d206-a1e16cb5b17d"
   },
   "outputs": [
    {
     "name": "stdout",
     "output_type": "stream",
     "text": [
      "1140.0\n"
     ]
    }
   ],
   "source": [
    "import math\n",
    "\n",
    "# Using the factorial method\n",
    "\n",
    "result1 = math.factorial(20) / (math.factorial(3) * math.factorial(20 - 3))\n",
    "print(result1)  \n"
   ]
  },
  {
   "cell_type": "code",
   "execution_count": 5,
   "id": "64d62526",
   "metadata": {},
   "outputs": [
    {
     "name": "stdout",
     "output_type": "stream",
     "text": [
      "1140\n"
     ]
    }
   ],
   "source": [
    "\n",
    "# Using the built-in `comb()` function (available from Python 3.8 onwards\n",
    "\n",
    "comb = math.comb(20, 3)\n",
    "print(comb)"
   ]
  },
  {
   "cell_type": "markdown",
   "id": "9b063b2e",
   "metadata": {
    "id": "9b063b2e"
   },
   "source": [
    "- Observamos las siguientes propiedades:\n",
    "\n",
    "    -${n \\choose 0} = {n \\choose n}=1$ \n",
    "    \n",
    "    y\n",
    "\n",
    "    -${n \\choose k} = {n \\choose n-k}$"
   ]
  },
  {
   "cell_type": "markdown",
   "id": "2b406d86",
   "metadata": {
    "id": "2b406d86"
   },
   "source": [
    "\n",
    "## Probabilidades condicionales\n",
    "\n",
    "- La **probabilidad condicional** para $Y$ dado $X$ se define como:\n",
    "    $$\\mathbb{P}(Y|X) = \\frac{\\mathbb{P}(X,Y)}{\\mathbb{P}(X)}$$\n",
    "\n",
    "- $\\mathbb{P}(Y|X)$ puede interpretarse como la fracción de veces que ocurre $Y$ cuando se sabe que ocurre $X$.\n",
    "\n",
    "- Si $X$ y $Y$ son independientes $\\mathbb{P}(Y|X)=\\mathbb{P}(Y)$.\n",
    "\n",
    "**Ejemplo**\n",
    "\n",
    "- En el experimento de lanzar un dado justo, sea G el suceso de obtener un resultado mayor que 2 ($G=\\{3,4,5,6\\}$) y O el suceso de obtener un número impar ($O=\\{1,3,5\\}$).\n",
    "\n",
    "- ¿Cuál es el valor de $\\mathbb{P}(G|O)$?"
   ]
  },
  {
   "cell_type": "markdown",
   "id": "2185618e",
   "metadata": {
    "id": "2185618e"
   },
   "source": [
    "- Utilizando la definición  $\\mathbb{P}(X)=\\frac{\\text{casos favorables}}{\\text{casos totales}}$:\n",
    "    $\\mathbb{P}(G)=4/6$, $\\mathbb{P}(O)=3/6$, y\n",
    "    $\\mathbb{P}(G|O)= 2/3.$\n",
    "\n",
    "- Obsérvese que una vez que conocemos O, el número de casos favorables para G se\n",
    "    reducido a $\\{3,5\\}$ y el número total de casos a $\\{1,3,5\\}$.\n",
    "\n",
    "- Ahora, según la definición anterior\n",
    "    $\\mathbb{P}(G|O) = \\frac{\\mathbb{P}(G,O)}{\\mathbb{P}(O)}$.\n",
    "\n",
    "- Donde $\\mathbb{P}(G,O) = 2/6$ (los casos favorables corresponden a la\n",
    "    intersección entre G y O $\\{3,5\\}$).\n",
    "\n",
    "- Entonces\n",
    "    $\\mathbb{P}(G|O) = \\frac{\\mathbb{P}(G,O)}{\\mathbb{P}(O)}=\\frac{2/6}{3/6}=2/3$."
   ]
  },
  {
   "cell_type": "markdown",
   "id": "d7275a84",
   "metadata": {
    "id": "d7275a84"
   },
   "source": [
    "<div class=\"admonition tip alert alert-warning\">\n",
    "<p class=\"first admonition-title\" style=\"font-weight: bold;\">Atención</p>\n",
    "<p class=\"last\">\n",
    "\n",
    "- En general no es el caso que $\\mathbb{P}(Y|X) = \\mathbb{P}(X|Y)$.\n",
    "\n",
    "- La gente confunde esto todo el tiempo.\n",
    "\n",
    "- Por ejemplo, la probabilidad de tener manchas dado que se tiene sarampión es 1, pero la probabilidad de tener sarampión dado que se tienen manchas no es 1. \n",
    "\n",
    "\n",
    "- En este caso, la diferencia entre $\\mathbb{P}(Y|X)$ y $\\mathbb{P}(X|Y)$ es obvia, pero hay casos en los que no lo es tanto.</p>\n",
    "</div>\n",
    "\n"
   ]
  },
  {
   "cell_type": "markdown",
   "id": "ea67c659",
   "metadata": {
    "id": "ea67c659"
   },
   "source": [
    "## Probabilidades condicionales: Ejemplo\n",
    "\n",
    "- Una prueba médica para detectar una enfermedad D tiene resultados \"positivos\" y\n",
    "    \"negativos\", las probabilidades son\n",
    "\n",
    "    |          |   D   | $\\neg$ D |\n",
    "    |:--------:|:-----:|:--------:|\n",
    "    | positive | 0.009 |  0.099   |\n",
    "    | negative | 0.001 |  0.891   |\n",
    "\n",
    "\n",
    "-   A partir de la definición de probabilidad condicional\n",
    "\n",
    "    $$\\mathbb{P}(\\text{positive}|D) = \\frac{\\mathbb{P}(\\text{positive},D)}{\\mathbb{P}(D)}  = \\frac{0.009}{0.009+0.001} = 0.9$$\n",
    "\n"
   ]
  },
  {
   "cell_type": "code",
   "execution_count": 6,
   "id": "bc1039f8",
   "metadata": {
    "id": "bc1039f8",
    "outputId": "dcf87fed-63ee-43cd-89fc-1213d374a1c2"
   },
   "outputs": [
    {
     "name": "stdout",
     "output_type": "stream",
     "text": [
      "0.9\n"
     ]
    }
   ],
   "source": [
    "# Define the variables\n",
    "numerator = 0.009\n",
    "denominator = 0.009 + 0.001\n",
    "\n",
    "# Calculate and assign the result\n",
    "pos_d = numerator / denominator\n",
    "\n",
    "# Print the result\n",
    "print(pos_d)  # Prints: 0.9\n"
   ]
  },
  {
   "cell_type": "markdown",
   "id": "634a293f",
   "metadata": {
    "id": "634a293f"
   },
   "source": [
    "\n",
    "   y\n",
    "    $$\\mathbb{P}(\\text{negative}|\\neg D) = \\frac{\\mathbb{P}(\\text{negative},\\neg D)}{\\mathbb{P}(\\neg D)}  = \\frac{0.891}{0.891+0.0991} \\approx 0.9$$\n",
    "\n"
   ]
  },
  {
   "cell_type": "code",
   "execution_count": 7,
   "id": "0eccc962",
   "metadata": {
    "id": "0eccc962",
    "outputId": "9b7ee37f-4c6c-4386-b16c-3c0458005ae5"
   },
   "outputs": [
    {
     "name": "stdout",
     "output_type": "stream",
     "text": [
      "0.8999091000909\n"
     ]
    }
   ],
   "source": [
    "numerator = 0.891\n",
    "denominator = 0.891 + 0.0991\n",
    "\n",
    "# Calculate and assign the result\n",
    "neg_notd = numerator / denominator\n",
    "\n",
    "# Print the result\n",
    "print(neg_notd)\n"
   ]
  },
  {
   "cell_type": "markdown",
   "id": "f9d2093f",
   "metadata": {
    "id": "f9d2093f"
   },
   "source": [
    "- Aparentemente, la prueba es bastante precisa.\n",
    "\n",
    "- Las personas enfermas dan positivo el  90% de las veces y las sanas dan negativo el 90% de las veces.\n",
    "\n",
    "- Supongamos que te haces la prueba y obtienes un positivo.\n",
    "\n",
    "- ¿Cuál es la probabilidad de que tenga la enfermedad? La mayoría de la gente responde $0.90$.\n",
    "\n",
    "- La respuesta correcta es\n",
    "    $$\\mathbb{P}(D|\\text{positive}) = \\frac{\\mathbb{P}(D,\\text{positive})}{\\mathbb{P}(\\text{positive})} = \\frac{0.009}{0.009+0.099} \\approx 0.08$$\n",
    "\n"
   ]
  },
  {
   "cell_type": "code",
   "execution_count": 8,
   "id": "d590e103",
   "metadata": {
    "id": "d590e103",
    "outputId": "31753b3a-8f78-4be5-de03-ff42d10fe4ae"
   },
   "outputs": [
    {
     "name": "stdout",
     "output_type": "stream",
     "text": [
      "0.08333333333333333\n"
     ]
    }
   ],
   "source": [
    "# Define the variables\n",
    "numerator = 0.009\n",
    "denominator = 0.009 + 0.099\n",
    "\n",
    "# Calculate and assign the result\n",
    "d_pos = numerator / denominator\n",
    "\n",
    "# Print the result\n",
    "print(d_pos)"
   ]
  },
  {
   "cell_type": "markdown",
   "id": "e1803aa3",
   "metadata": {
    "id": "e1803aa3"
   },
   "source": [
    "\n",
    "- La lección aquí es que necesitas calcular la respuesta numéricamente.\n",
    "\n",
    "- No confíes en tu intuición."
   ]
  },
  {
   "cell_type": "markdown",
   "id": "68eaca9c",
   "metadata": {
    "id": "68eaca9c"
   },
   "source": [
    "## Teorema de Bayes y probabilidades totales\n",
    "\n",
    "- La probabilidad condicional $\\mathbb{P}(Y|X)$ y $\\mathbb{P}(X|Y)$   pueden expresarse en función de la otra mediante el teorema de Bayes.\n",
    "    $$\\mathbb{P}(Y|X)=\\frac{\\mathbb{P}(X|Y)\\mathbb{P}(Y)}{\\mathbb{P}(X)}$$\n",
    "\n",
    "- Entonces sea $\\{ Y_1,Y_2,\\dots, Y_k \\}$ un conjunto de sucesos mutuamente excluyentes  del espacio muestral de un Variable aleatoria $X$ ,  el denominador del teorema de Bayes\n",
    "    de Bayes puede expresarse como\n",
    "    $$\\mathbb{P}(X)= \\sum_{i=1}^{k} \\mathbb{P}(X,Y_i) = \\sum_{i=1}^{k} \\mathbb{P}(X|Y_i)\\mathbb{P}(Y_i)$$"
   ]
  },
  {
   "cell_type": "markdown",
   "id": "c6e5ae91",
   "metadata": {
    "id": "c6e5ae91"
   },
   "source": [
    "**Ejemplo**\n",
    "\n",
    "- Divido mis correos electrónicos en tres categorías: $A_1$=\"'spam'', $A_2$=\"'bajaprioridad'', $A_3$=\"'prioridad alta''.\n",
    "\n",
    "- Sabemos que $\\mathbb{P}(A_1)=0,7$, $\\mathbb{P}(A_2)=0,2$ y $\\mathbb{P}(A_3)=0.1$, claramente $0.7+0.2+0.1=1$.\n",
    "\n",
    "- Sea $B$ el suceso de que el correo contenga la palabra \"gratis\".\n",
    "\n",
    "- Sabemos que $\\mathbb{P}(B|A_1)=0,9$ $\\mathbb{P}(B|A_2)=0,01$ y  $\\mathbb{P}(B|A_3)=0.01$ claramente $0.9+0.01+0.01 \\neq 1$\n",
    "\n",
    "- ¿Cuál es la probabilidad de que un correo electrónico con la palabra \"gratis\" sea \"spam\"?\n",
    "\n",
    "- Usando Bayes:\n",
    "    $$\\mathbb{P}(A_1|B) = \\frac{\\mathbb{P}(B|A_1)\\times \\mathbb{P}(A_1)}{\\mathbb{P}(B)} = \\frac{0.9 \\times 0.7}{\\mathbb{P}(B)} = \\frac{0.63}{\\mathbb{P}(B)}$$\n",
    "\n",
    "---\n",
    "\n",
    "- Utilizando probabilidades totales:\n",
    "\n",
    "    $$\\begin{aligned}\n",
    "      \\mathbb{P}(B) & = & \\mathbb{P}(B|A_1)\\times\\mathbb{P}(A_1)+\\mathbb{P}(B|A_2)\\times\\mathbb{P}(A_2)+\\mathbb{P}(B|A_3)\\times\\mathbb{P}(A_3) \\\\\n",
    "      & = & 0.9 \\times 0.7 + 0.01 \\times 0.2 + 0.01 \\times 0.1 = 0.633\n",
    "     \n",
    "    \\end{aligned}$$\n",
    "\n",
    "    Finalmente,\n",
    "\n",
    "    $$\\mathbb{P}(A_1|B) = \\frac{0.63}{0.633} = 0.995$$"
   ]
  },
  {
   "cell_type": "code",
   "execution_count": 9,
   "id": "cb3f886d",
   "metadata": {
    "id": "cb3f886d",
    "outputId": "1a8ef683-97d1-457f-f6ac-ed609e515903"
   },
   "outputs": [
    {
     "name": "stdout",
     "output_type": "stream",
     "text": [
      "0.995260663507109\n"
     ]
    }
   ],
   "source": [
    "# Define the variables\n",
    "a1 = 0.7\n",
    "a2 = 0.2\n",
    "a3 = 0.1\n",
    "b_a1 = 0.9\n",
    "b_a2 = 0.01\n",
    "b_a3 = 0.01\n",
    "\n",
    "# Calculate the weighted sum\n",
    "b = b_a1*a1 + b_a2*a2 + b_a3*a3\n",
    "\n",
    "# Calculate the proportion of a1 (weighted by b_a1) in the weighted sum b\n",
    "a1_b = b_a1*a1 / b\n",
    "\n",
    "# Print the result\n",
    "print(a1_b)\n"
   ]
  },
  {
   "cell_type": "markdown",
   "id": "7abf802d",
   "metadata": {
    "id": "7abf802d"
   },
   "source": [
    "# Variable aleatoria\n",
    "\n",
    "- Una **variable aleatoria** es un mapeo (o función) $$X: \\Omega \\rightarrow \\mathbb{R}$$ que asigna un valor real $X(e)$ a cualquier suceso de $\\Omega$.\n",
    "\n",
    "- Ejemplo: Lanzamos una moneda al aire 10 veces. El resultado de cada lanzamiento es cara $H$ o cruz $T$.\n",
    "\n",
    "- Sea $X(e)$ el número de caras en la secuencia de resultados.\n",
    "\n",
    "    - Si $e=HHTHHTHHTT$, entonces $X(e)=6$."
   ]
  },
  {
   "cell_type": "markdown",
   "id": "41bd332f",
   "metadata": {
    "id": "41bd332f"
   },
   "source": [
    "- Una variable aleatoria puede ser en muchos casos la función identidad.\n",
    "\n",
    "- Por ejemplo, si lanzamos un dado de 6 caras una vez y $X(e)$ es el valor resultante del dado, entonces $X(e)=e$, para $e \\in \\{1,2,3,4,5,6\\}$.\n",
    "\n",
    "- En estos casos, la noción de que una variable aleatoria es una función puede ser confusa (se parece más a un conjunto), pero siempre podemos\n",
    "    reconstruir la función de asignación como función de identidad.\n",
    "\n",
    "- Es importante entender que podemos tener fácilmente diferentes variables aleatorias de un mismo espacio muestral.\n",
    "\n",
    "- Ejemplo: lanzamos un dado dos veces, $X(e)$ es la suma de las dos tiradas resultantes y $Y(e)$ es el producto de estos dos números.\n",
    "\n",
    "- Para el suceso $e=\\{4,5\\}$, $X(e)=9$ and $Y(e)=20$."
   ]
  },
  {
   "cell_type": "markdown",
   "id": "179ae3a2",
   "metadata": {
    "id": "179ae3a2"
   },
   "source": [
    "### Ejemplo\n",
    "\n",
    "- Lanzamos una moneda al aire 2 veces. Sea $X$ el número de caras obtenidas.\n",
    "\n",
    "- La variable aleatoria y su distribución se resumen como:\n",
    "\n",
    "| $e$ | $\\mathbb{P}(e)$ | $X(e)$ |\n",
    "|:---:|:---------------:|:------:|\n",
    "| TT  |       1/4       |   0    |\n",
    "| TH  |       1/4       |   1    |\n",
    "| HT  |       1/4       |   1    |\n",
    "| HH  |       1/4       |   2    |\n",
    "\n",
    "\n",
    "---------------------------------------\n",
    "\n",
    "| $x$ | $\\mathbb{P}(X = x)$ |\n",
    "|:---:|:-------------------:|\n",
    "|  0  |         1/4         |\n",
    "|  1  |         1/2         |\n",
    "|  2  |         1/4         |\n"
   ]
  },
  {
   "cell_type": "markdown",
   "id": "4f228c22",
   "metadata": {
    "id": "4f228c22"
   },
   "source": [
    "## Definiciones de Variable Aleatoria (R.V)\n",
    "\n",
    "- Sea $X$ un R.V , definimos **función de distribución acumulativa**\n",
    "    (CDF) o $F_{X}: \\mathbb{R} \\rightarrow [0,1]$ como:\n",
    "    $$F_{X}(x)=\\mathbb{P}(X\\leq x)$$\n",
    "\n",
    "- Para el ejemplo anterior de lanzar una moneda justa dos veces y contar el número de caras, la FDA es la siguiente:\n",
    "\n",
    "\n",
    "    $$F_X(x) =\n",
    "         \\begin{cases}\n",
    "         0 & x<0 \\\\\n",
    "         1/4 & 0 \\leq x < 1 \\\\\n",
    "         3/4 & 1 \\leq x < 2 \\\\\n",
    "         1 & x \\geq 2.\n",
    "         \\end{cases}$$"
   ]
  },
  {
   "cell_type": "markdown",
   "id": "7d3038c7",
   "metadata": {
    "id": "7d3038c7"
   },
   "source": [
    "![](../images/cdf_coin.png)\n",
    "\n",
    "\n",
    "- Las FDA pueden ser muy confusas.\n",
    "\n",
    "- Observe que la función es continua a la derecha, no decreciente, y que está definida para todo x, aunque la variable aleatoria sólo toma los valores 0,1 y 2.\n",
    "\n",
    "- Notación: cuando $X$ es una variable aleatoria, $x$ denota un valor particular de la variable aleatoria."
   ]
  },
  {
   "cell_type": "markdown",
   "id": "78229b3b",
   "metadata": {
    "id": "78229b3b"
   },
   "source": [
    "## Variables aleatorias discretas\n",
    "\n",
    "- Una V.A $X$ es **discreta** si asigna las salidas a un conjunto contable.\n",
    "\n",
    "- Definimos la **función de probabilidad** o **función de masa de probabilidad (FMP)** de una variable aleatoria discreta $X$ como $f_{X}(x)=\\mathbb{P}(X=x)$.\n",
    "\n",
    "- Entonces $f_{X}(x) \\geq 0 \\forall x \\in \\mathbb{R}$, y $\\sum_{i}f_{X}(x_{i})=1$\n",
    "\n",
    "- La Función acumlada de probabilidad de $X$ se relaciona con $f_{X}$ de la siguiente manera:\n",
    "    $$F_{X}= \\mathbb{P}(X\\leq x)= \\sum_{x_{i} \\leq x} f_{X}(x_{i})$$\n",
    "\n",
    "El PMF para el ejemplo anterior es:\n",
    "\n",
    "$$f_X(x) =\n",
    "     \\begin{cases}\n",
    "     1/4 & x=0 \\\\\n",
    "     1/2 & x=1 \\\\\n",
    "     1/4 & x=2 \\\\\n",
    "     0 &  \\text{otherwise.}\n",
    "     \\end{cases}$$"
   ]
  },
  {
   "cell_type": "markdown",
   "id": "01ae4e81",
   "metadata": {
    "id": "01ae4e81"
   },
   "source": [
    "## Variable aleatoria continua\n",
    "\n",
    "- Una V.A. $X$ es continua si\n",
    "\n",
    "- existe una función $f_{X}$ tal que $f_{X}(x) \\geq 0$    para todo $x$, y: $$\\int_{-\\infty}^{\\infty}f_{X}(x)dX=1$$\n",
    "\n",
    "- Para todo $a \\leq b$:\n",
    "    $$\\mathbb{P}(a < X < b) = \\int_{a}^{b} f_{X}(x)dx$$\n",
    "\n",
    "- La función $f_{X}$ se llama función de densidad de probabilidad (FDP).\n",
    "\n",
    "- La FDP se relaciona con la Función de distribución acumulada de la siguiente manera:\n",
    "    $$F_{X}(x)=\\int_{-\\infty}^{x}f_{X}(t)dt$$\n",
    "\n",
    "- Entonces $f_{X}(x) = F'_X(x)$ en todos los puntos $x$ donde $F_{X}$ es  diferenciable.\n"
   ]
  },
  {
   "cell_type": "markdown",
   "id": "a165243f",
   "metadata": {
    "id": "a165243f"
   },
   "source": [
    "- Ejemplo: Supongamos que $X$ tiene una FDP $$f_X(x) =\n",
    "         \\begin{cases}\n",
    "         1 & \\text{for }0\\leq x \\leq 1 \\\\\n",
    "         0 &  \\text{otherwise.}\n",
    "         \\end{cases}$$\n",
    "\n",
    "- Claramente, $f_X(x) \\geq 0$ y $\\int f_X(x) = 1$.\n",
    "\n",
    "- Una variable aleatoria con esta densidad se dice que tiene una distribución Uniforme (0,1).\n",
    "\n",
    "- Con ello se pretende captar la idea de elegir un punto al azar entre 0 y 1.\n",
    "\n",
    "-   La FDA viene dada por $$F_X(x) =\n",
    "         \\begin{cases}\n",
    "         0 & x<0 \\\\\n",
    "         x &  0\\leq x \\leq 1 \\\\\n",
    "         1 &  x>1.\n",
    "         \\end{cases}$$\n",
    "\n",
    "![](../images/cdf_uniform.png)\n"
   ]
  },
  {
   "cell_type": "markdown",
   "id": "7a788cd8",
   "metadata": {
    "id": "7a788cd8"
   },
   "source": [
    "- Las variables aleatorias continuas pueden llevar a confusión.\n",
    "\n",
    "- En primer lugar, tenga en cuenta que si $X$ es continua, entonces $\\mathbb{P}(X = x) = 0$   para cada $x$.\n",
    "\n",
    "- No trate de pensar en $f(x)$ como $\\mathbb{P}(X = x)$.\n",
    "\n",
    "- Esto sólo es válido para variables aleatorias discretas.\n",
    "\n",
    "- Obtenemos probabilidades de una PDF mediante la integración."
   ]
  },
  {
   "cell_type": "markdown",
   "id": "99c568c5",
   "metadata": {
    "id": "99c568c5"
   },
   "source": [
    "## Definiciones de Variables Aleatorias\n",
    "\n",
    "- Una FDP puede ser mayor que 1 (a diferencia de una función de masa).\n",
    "\n",
    "- Por ejemplo, si $f(x) = 5$ para $x \\in [0,1/5]$ y $0$ en caso contrario.\n",
    "\n",
    "- Entonces $f(x) \\geq 0$ y $\\int f(x)dx = 1$, por lo que se trata de una FDP bien definida aunque  $f(x) = 5$ en algunos puntos.\n",
    "\n",
    "- Una FDP también puede interpretarse como la tasa de cambio en la función de distribución acumulada (FDA).\n",
    "\n",
    "- Así, cuando la probabilidad acumulada aumenta rápidamente, la densidad puede superar fácilmente 1.\n",
    "\n",
    "- Pero si calculamos el área bajo la función de densidad, nunca superará 1."
   ]
  },
  {
   "cell_type": "markdown",
   "id": "037e0958",
   "metadata": {
    "id": "037e0958"
   },
   "source": [
    "\n",
    "![](../images/pdfcdf.png)\n",
    "\n",
    "Fuente:\n",
    "<http://reliawiki.org/index.php/Basic_Statistical_Background></span>"
   ]
  },
  {
   "cell_type": "markdown",
   "id": "f6600f89",
   "metadata": {
    "id": "f6600f89"
   },
   "source": [
    "\n",
    "## Agunas propiedades\n",
    "\n",
    "1.  $\\mathbb{P}( x < X \\leq y) = F(y) - F(x)$\n",
    "\n",
    "2.  $\\mathbb{P}(X > x) = 1 - F(x)$\n",
    "\n",
    "3.  si $X$  es continua: $$\\begin{aligned}\n",
    "     F(b) - F(a) = \\mathbb{P}(a < X < b) = \\mathbb{P} ( a \\leq X < b)  \\\\\n",
    "       = \\mathbb{P} ( a < X \\leq b) = \\mathbb{P} ( a \\leq X \\leq b)\n",
    "    \\end{aligned}$$"
   ]
  },
  {
   "cell_type": "markdown",
   "id": "a114d5eb",
   "metadata": {
    "id": "a114d5eb"
   },
   "source": [
    "## Cuantiles\n",
    "\n",
    "- Sea $X$ una V.A. con FDA $F$. La FDA inversa o función cuantil  se define como $$F^{-1}(q)= inf \\left\\{ x: \\ F(x) > q \\right\\}$$\n",
    "\n",
    "- Para $q \\in [0,1]$, si $F$ es estrictamente creciente y continua,  $F^{-1}(q)$ es el único valor real tal que $F(x)=q$.\n",
    "\n",
    "- Entonces $F^{-1}(1/4)$ es el primer cuartil, $F^{-1}(1/2)$  la mediana (o segundo cuartil) y $F^{-1}(3/4)$ el tercer cuartil.\n",
    "\n"
   ]
  },
  {
   "cell_type": "markdown",
   "id": "137272ba",
   "metadata": {
    "id": "137272ba"
   },
   "source": [
    "\n",
    "![](../Images/Probit_plot.png)"
   ]
  },
  {
   "cell_type": "markdown",
   "id": "77bf742b",
   "metadata": {
    "id": "77bf742b"
   },
   "source": [
    "## Algunas distribuciones\n",
    "\n",
    "|             |                               Probability Function                               |     Parameters     |\n",
    "|:-----------:|:--------------------------------------------------------------------------------:|:------------------:|\n",
    "|  Binomial   |                       $f_x= {n \\choose x}p^{x}(1-p)^{n-x}$                       |       $n,p$        |\n",
    "|   Normal    | $f_x=\\frac{1}{\\sqrt{2\\pi}\\sigma}\\exp^{-\\frac{1}{2}\\frac{(x-\\mu)^2}{\\sigma^{2}}}$ |   $\\mu, \\sigma$    |\n",
    "|   Poisson   |                   $f_x=\\frac{1}{x!}\\lambda^{x}\\exp^{-\\lambda}$                   |     $\\lambda$      |\n",
    "| Exponential |                         $f_x= \\lambda \\exp^{-\\lambda x}$                         |     $\\lambda$      |\n",
    "|    Gamma    |  $f_x= \\frac{\\lambda^{\\alpha}}{\\Gamma(\\alpha)} x^{\\alpha -1}\\exp^{-\\lambda x}$   | $\\lambda , \\alpha$ |\n",
    "| Chi-square  |       $f_x=\\frac{1}{2^{k/2} \\Gamma(k/2)} x^{(\\frac{k}{2} -1)} \\exp^{-x/2}$       |        $k$         |\n",
    "\n"
   ]
  },
  {
   "cell_type": "markdown",
   "id": "bb4ae580",
   "metadata": {
    "id": "bb4ae580"
   },
   "source": [
    "## Distribución Binomial\n",
    "\n",
    "- La distribución binomial es una distribución discreta que permite calcular la probabilidad de un número determinado de aciertos en un número determinado de ensayos.\n",
    "\n",
    "- En cada ensayo hay éxito o fracaso y nada en medio (conocidos como \"ensayos de Bernoulli\") dada una probabilidad conocida de éxito en cada ensayo.\n",
    "\n",
    "- Sea $n$ el número de ensayos, $x$ el número de aciertos y $p$ la probabilidad de acierto, la función de masa de probabilidad de la distribución Binomial es la siguiente:\n",
    "     $$f_x(n,p)= {n \\choose x}p^{x}(1-p)^{n-x}$$\n",
    "\n",
    "- El coeficiente binomial ${n \\choose x}$ describe el número de formas distintas en que se pueden elegir $x$ elementos de un total de $n$ elementos."
   ]
  },
  {
   "cell_type": "markdown",
   "id": "404d4ef5",
   "metadata": {
    "id": "404d4ef5"
   },
   "source": [
    "## Ejemplo\n",
    "\n",
    "- Ejemplo: el 20 de enero de 2018, el jugador de baloncesto Steph Curry acertó solo 2 de 4 tiros libres en un partido contra los Houston Rockets.\n",
    "\n",
    "- Sabemos que la probabilidad global de Curry de acertar tiros libres en toda la temporada fue de 0,91.\n",
    "\n",
    "- ¿Cuál es la probabilidad de que acierte sólo el 50% de sus tiros libres en un partido?\n",
    "\n",
    "$$f_2(4,0.91) = {4 \\choose 2}0.91^{2}(1-0.91)^{4-2}=0.040$$"
   ]
  },
  {
   "cell_type": "code",
   "execution_count": 11,
   "id": "c65c2b3c",
   "metadata": {
    "id": "c65c2b3c"
   },
   "outputs": [
    {
     "name": "stdout",
     "output_type": "stream",
     "text": [
      "0.040245659999999996\n"
     ]
    }
   ],
   "source": [
    "from scipy.stats import binom\n",
    "\n",
    "# Parameters\n",
    "n = 4      # number of trials\n",
    "k = 2      # number of successes\n",
    "p = 0.91   # probability of success in one trial\n",
    "\n",
    "# Calculate binomial probability\n",
    "prob = binom.pmf(k, n, p)\n",
    "print(prob)  # This should output 0.04024566 or something very close to it\n"
   ]
  },
  {
   "cell_type": "markdown",
   "id": "b0e7d904",
   "metadata": {
    "id": "b0e7d904"
   },
   "source": [
    "## La distribución normal\n",
    "\n",
    "- La distribución normal o gaussiana es extremadamente importante en estadística, en parte porque aparece todo el tiempo en la naturaleza.\n",
    "\n",
    "- Está controlada por dos parámetros, una media $\\mu$ y una desviación típica $\\sigma$.\n"
   ]
  },
  {
   "cell_type": "markdown",
   "id": "5f0d3595",
   "metadata": {
    "id": "5f0d3595"
   },
   "source": [
    "![](../Images/gaussian.jpg)"
   ]
  },
  {
   "cell_type": "markdown",
   "id": "17f79812",
   "metadata": {
    "id": "17f79812"
   },
   "source": [
    "- Como veremos en el siguiente ejemplo , la distribución normal se observa siempre que se suman muchas variaciones pequeñas e independientes para obtener un valor."
   ]
  },
  {
   "cell_type": "markdown",
   "id": "bed65f99",
   "metadata": {
    "id": "bed65f99"
   },
   "source": [
    "**Ejemplo**\n",
    "\n",
    "- Supongamos que usted y mil de sus amigos más íntimos se alinean en la línea media de un campo de fútbol.\n",
    "\n",
    "- Cada uno tiene una moneda en la mano. Cuando suena el silbato, empezáis a lanzar las monedas.\n",
    "\n",
    "- Cada vez que una moneda sale cara, esa persona da un paso hacia la portería de la izquierda.\n",
    "\n",
    "- Cada vez que una moneda sale cruz, esa persona da un paso hacia la meta de la derecha.\n",
    "\n",
    "- Cada persona lanza la moneda 16 veces, sigue los movimientos implícitos y luego se queda quieta.\n",
    "\n",
    "- Ahora medimos la distancia de cada persona desde la línea de mitad de camino.\n",
    "\n",
    "- ¿Puedes predecir qué proporción de las mil personas que están paradas se encuentra en la línea de medio campo? ¿Y qué proporción hay a 5 metros a la izquierda de la línea?\n",
    "\n",
    "- Es difícil decir dónde acabará cada persona, pero se puede decir con gran seguridad cuál será el conjunto de posiciones.\n",
    "\n",
    "- Las distancias se distribuirán de forma aproximadamente normal, o gaussiana.\n",
    "\n",
    "- Esto es así aunque la distribución subyacente sea binomial.\n",
    "\n",
    "- Esto es así porque hay muchas más formas posibles de realizar una secuencia de pasos izquierda-derecha que sume cero.\n",
    "\n",
    "- Hay un poco menos de formas de realizar una secuencia que termine un paso a la izquierda o a la derecha de cero, y así sucesivamente, con el número de secuencias posibles disminuyendo en la curva de campana característica de la distribución normal."
   ]
  },
  {
   "cell_type": "markdown",
   "id": "3818f17b",
   "metadata": {
    "id": "3818f17b"
   },
   "source": [
    "\n",
    "Soccer 1\n",
    "\n",
    "![](../Images/soccer1.png)\n",
    "\n",
    "Soccer 2\n",
    "\n",
    "![](../Images/soccer2.png)\n",
    "\n",
    "Soccer 3\n",
    "\n",
    "![](../Images/soccer3.png)\n",
    "\n",
    "Soccer 4\n",
    "\n",
    "![](../Images/soccer4.png)\n",
    "\n",
    "Soccer 5\n",
    "\n",
    "![](../Images/soccer5.png)\n",
    "\n"
   ]
  },
  {
   "cell_type": "markdown",
   "id": "e136cb49",
   "metadata": {},
   "source": [
    "- Los paseos aleatorios por el campo de fútbol convergen hacia una distribución normal.\n",
    "\n",
    "- Cuantos más pasos se dan, más se aproxima la coincidencia entre la distribución empírica real de las posiciones y la distribución normal ideal, superpuesta en el último gráfico del panel inferior."
   ]
  },
  {
   "cell_type": "markdown",
   "id": "ca895156",
   "metadata": {
    "id": "ca895156"
   },
   "source": [
    "## Definición formal de la distribución normal\n",
    "\n",
    "- $X$ tiene una distribución Normal o Gaussiana de parámetros $\\mu$ y $\\sigma$, $X \\sim N(\\mu,\\sigma^2)$ si\n",
    "\n",
    "  $$f_x=\\frac{1}{\\sqrt{2\\pi}\\sigma}\\exp^{-\\frac{1}{2}\\frac{(x-\\mu)^2}{\\sigma^{2}}}$$\n",
    "\n",
    "- Donde $\\mu \\in \\mathbb{R}$ es el \"centro\" o la \"media\" de la distribución y $\\sigma > 0$ es la \"desviación típica\".\n",
    "\n",
    "- La media desplaza la distribución a lo largo del eje x.\n",
    "\n",
    "- La desviación típica afecta a la forma, de modo que cuanto mayor sea $\\sigma$, más amplia será la forma.\n",
    "\n",
    "- Cuando $\\mu = 0$ y $\\sigma =1$ tenemos una **Distribución Normal Estándar** denotada por $Z$.\n",
    "\n",
    "- Nos referimos a la FDP por $\\phi(z)$ y a la FDA de una Normal Estándar por $\\Phi(z)$.\n",
    "\n",
    "- Se tabulan los valores de $\\Phi(z)= \\mathbb{P}(Z \\leq z)$."
   ]
  },
  {
   "cell_type": "markdown",
   "id": "1db44620",
   "metadata": {
    "id": "1db44620"
   },
   "source": [
    "![](../Images/gaussianTable.jpg)"
   ]
  },
  {
   "cell_type": "markdown",
   "id": "e1483c30",
   "metadata": {
    "id": "e1483c30"
   },
   "source": [
    "\n",
    "- Vamos a tratar de entender los principales componentes de $\\phi(z)$ como se muestra en .\n",
    "    $$\\phi(z) = \\frac{1}{\\sqrt{2\\pi}} \\exp^{-\\frac{1}{2}x^2}$$\n",
    "\n",
    "- Aquí hay un gráfico de sólo el exponente $-\\frac{1}{2}x^2$.\n",
    "\n",
    "![](../Images/gauss_exp.png)\n",
    "\n",
    "\n",
    "- Como puedes ver, se trata de una simple parábola."
   ]
  },
  {
   "cell_type": "markdown",
   "id": "c48c06e0",
   "metadata": {
    "id": "c48c06e0"
   },
   "source": [
    "\n",
    "Cuando elevamos $\\exp$ a la potencia de $-\\frac{1}{2}x^2$ obtenemos el siguiente gráfico.\n",
    " \n",
    "![](../Images/gauss_exp2.png)\n",
    "\n",
    "- Tomando la exponencial de una parábola negativa es lo que nos da la curva de campana. \n",
    "- Tal cual, el área bajo la curva es $\\sqrt{2\\pi}$, por lo que se incluye la constante $\\frac{1}{\\sqrt{2\\pi}}$ para que sea igual a 1.\n",
    "- Por último, el $\\frac{1}{2}$ en el exponente asegura que la varianza es igual a 1. \n",
    " "
   ]
  },
  {
   "cell_type": "markdown",
   "id": "e6cff1f5",
   "metadata": {
    "id": "e6cff1f5"
   },
   "source": [
    "- Para generalizar a cualquier distribución normal, simplemente incluimos los parámetros $\\mu$ y $\\sigma$\n",
    "    $$\\frac{1}{\\sqrt{2\\pi}\\sigma}\\exp^{-\\frac{1}{2}\\frac{(x-\\mu)^2}{\\sigma^{2}}}$$\n",
    "\n",
    "\n",
    "- Observa que $\\sigma$ escala la constante, pero que la acción real ocurre en el exponente.\n",
    "\n",
    "- El punto más alto de la densidad es desplazado por $\\mu$, y luego dividido por  $\\sigma$.\n"
   ]
  },
  {
   "cell_type": "markdown",
   "id": "01a30a94",
   "metadata": {
    "id": "01a30a94"
   },
   "source": [
    "\n",
    "## Propiedades Útiles\n",
    "\n",
    "1.  Si $X \\sim N(\\mu, \\sigma^2)$, entonces   $Z=(X-\\mu)/\\sigma \\sim N(0,1)$.\n",
    "\n",
    "2.  Si $Z \\sim N(0,1)$, then $X=\\mu+\\sigma Z \\sim N(\\mu, \\sigma^2)$\n",
    "\n",
    "3.  Deje $X_{i} \\sim N(\\mu_{i},\\sigma_{i}^{2})$ ,$i=1,\\dots,n$  ser una variable aleatoria independiente, entonces:\n",
    "    $$\\sum_{i=1}^{n}X_{i}\\sim N( \\sum_{i=1}^{n}\\mu_{i}, \\sum_{i=1}^{n}\\sigma_{i}^{2})$$\n",
    "\n"
   ]
  },
  {
   "cell_type": "markdown",
   "id": "57c2f167",
   "metadata": {
    "id": "57c2f167"
   },
   "source": [
    "**Ejemplo**\n",
    "\n",
    "-  En python podemos acceder a la función de densidad de probabilidad (PDF), la función de distribución acumulativa (CDF), la función de cuantiles y la generación de números aleatorios de las distribuciones.\n",
    "\n",
    "-  Para una distribución Normal, los comandos en Python son\n",
    "\n",
    "    -  `norm.pdf(x, loc, scale)` : PDF\n",
    "    -  `norm.cdf(x, loc, scale)` : CDF\n",
    "    -  `norm.ppf(q, loc, scale)` : Cuantiles\n",
    "    -  `norm.rvs(loc, scale, size)` : Generación de números aleatorios"
   ]
  },
  {
   "cell_type": "markdown",
   "id": "e0e97d90",
   "metadata": {
    "id": "e0e97d90"
   },
   "source": [
    "\n",
    "Ejemplo sea $X\\sim N(3,5)$, calcular $\\mathbb{P}(X > 1)$  \n",
    "$\\mathbb{P}(X >1) = 1-\\mathbb{P}(X<1) = 1-\\mathbb{P}(Z < \\frac{1-3}{\\sqrt{5}})=1-\\Phi(-0.8944)= 0.81$  \n",
    "\n",
    "En python:"
   ]
  },
  {
   "cell_type": "code",
   "execution_count": 12,
   "id": "02c35372",
   "metadata": {},
   "outputs": [
    {
     "name": "stdout",
     "output_type": "stream",
     "text": [
      "0.8144533152386513\n",
      "0.8144533152386513\n"
     ]
    }
   ],
   "source": [
    "from scipy.stats import norm\n",
    "import math\n",
    "\n",
    "# For the first snippet\n",
    "value1 = (1 - 3) / math.sqrt(5)\n",
    "prob1 = 1 - norm.cdf(value1)\n",
    "print(prob1)  \n",
    "\n",
    "# For the second snippet\n",
    "mean = 3\n",
    "sd = math.sqrt(5)\n",
    "value2 = 1\n",
    "prob2 = 1 - norm.cdf(value2, loc=mean, scale=sd)\n",
    "print(prob2)  \n"
   ]
  },
  {
   "cell_type": "markdown",
   "id": "003c03de",
   "metadata": {
    "id": "003c03de"
   },
   "source": [
    "\n",
    "## La distribución normal\n",
    "\n",
    "- Si se deduce de la propiedad 1 que si $X\\sim N(\\mu,\\sigma^2)$, entonces:\n",
    "\n",
    "    $$\\begin{aligned}\n",
    "      \\mathbb{P}(a<X<b) & = \\mathbb{P}\\left(\\frac{a-\\mu}{\\sigma}<Z<\\frac{b-\\mu}{\\sigma}\\right) \\\\\n",
    "       & = \\Phi \\left(\\frac{b-\\mu}{\\sigma}\\right)-\\Phi \\left(\\frac{a-\\mu}{\\sigma}\\right)\n",
    "     \n",
    "    \\end{aligned}$$\n"
   ]
  },
  {
   "cell_type": "markdown",
   "id": "74cc7598",
   "metadata": {
    "id": "74cc7598"
   },
   "source": [
    "\n",
    "### Ejemplo:\n",
    "\n",
    "Sea $X\\sim N(15,5)$, calcular $\\mathbb{P}(13<X<18)$:  \n",
    "\n",
    "\n",
    "$\\mathbb{P}(13<X<18)=\\Phi \\left(\\frac{18-15}{5}\\right)-\\Phi \\left(\\frac{13-15}{5}\\right)=\\Phi(0.6)-\\Phi(-0.4)$=0.381\n",
    "\n",
    "En python:"
   ]
  },
  {
   "cell_type": "code",
   "execution_count": 13,
   "id": "073de3bd",
   "metadata": {},
   "outputs": [
    {
     "name": "stdout",
     "output_type": "stream",
     "text": [
      "0.38116862386025063\n",
      "0.38116862386025063\n"
     ]
    }
   ],
   "source": [
    "from scipy.stats import norm\n",
    "\n",
    "# For the first snippet\n",
    "value1 = 0.6\n",
    "value2 = -0.4\n",
    "prob1 = norm.cdf(value1) - norm.cdf(value2)\n",
    "print(prob1)  # Should be close to 0.3811686\n",
    "\n",
    "# For the second snippet\n",
    "mean = 15\n",
    "sd = 5\n",
    "value3 = 18\n",
    "value4 = 13\n",
    "prob2 = norm.cdf(value3, loc=mean, scale=sd) - norm.cdf(value4, loc=mean, scale=sd)\n",
    "print(prob2)  # Should also be close to 0.3811686\n"
   ]
  },
  {
   "cell_type": "markdown",
   "id": "fdcd6955",
   "metadata": {
    "id": "fdcd6955"
   },
   "source": [
    "## Función de distribución acumulativa de la distribución normal\n",
    "\n",
    "- Como se ha comentado anteriormente, cuando tratamos con la probabilidad sobre valores continuos estamos principalmente interesados en la probabilidad sobre un rango.\n",
    "\n",
    "- Para algunos propósitos, es conveniente pensar en una distribución en términos de probabilidad total de un evento que ocurre en el rango de $-\\infty$ a z.\n",
    "\n",
    "- Para la distribución normal estándar obtenemos la siguiente FDA:\n",
    "    $$\\Phi(z)= \\mathbb{P}(Z \\leq z) = \\frac{1}{\\sqrt{2\\pi}}\\int_{-\\infty}^{z} \\exp^{\\frac{-t^2}{2}}dt$$\n",
    "\n",
    "- Aquí está un gráfico de la FDA normal estándar.\n"
   ]
  },
  {
   "cell_type": "markdown",
   "id": "6ce64388",
   "metadata": {
    "id": "6ce64388"
   },
   "source": [
    "![](../Images/normalcdf.png)"
   ]
  },
  {
   "cell_type": "markdown",
   "id": "34a8322c",
   "metadata": {
    "id": "34a8322c"
   },
   "source": [
    "- El eje y muestra la probabilidad acumulada, por lo que la función es siempre creciente.\n",
    "\n",
    "- La FDA expresa simplemente el área bajo la curva (es decir, la integral de $-\\infty$ a $z$) de la FDP.\n",
    "\n",
    "- Con $z = 0$, estamos en la media de la normal estándar, por lo que los valores tienen la misma probabilidad de ser menores o mayores que $z$.\n",
    "\n",
    "- Esto significa que la FDA en $z = 0$ debe ser $0,5$, ya que hemos acumulado la mitad de la probabilidad disponible."
   ]
  },
  {
   "cell_type": "markdown",
   "id": "4c34b9c8",
   "metadata": {
    "id": "4c34b9c8"
   },
   "source": [
    "![](../Images/cdfpdf.png)\n"
   ]
  },
  {
   "cell_type": "markdown",
   "id": "d622ad61",
   "metadata": {
    "id": "d622ad61"
   },
   "source": [
    "\n",
    "## La regla 68-95-99.7 de una distribución normal\n",
    "\n",
    "![](../Images/gaussian.png)\n",
    "\n",
    "Deje $X$ ser una variable aleatoria $\\sim N(\\mu,\\sigma^2)$.\n",
    "\n",
    "-   $\\mathbb{P}( \\mu - \\sigma \\leq X \\leq \\mu+ \\sigma) \\approx 0.6827$\n",
    "\n",
    "-   $\\mathbb{P}( \\mu - 2 \\sigma \\leq X \\leq \\mu+ 2 \\sigma) \\approx 0.9545$\n",
    "\n",
    "-   $\\mathbb{P}( \\mu - 3 \\sigma \\leq X \\leq \\mu+ 3 \\sigma) \\approx 0.9973$\n"
   ]
  },
  {
   "cell_type": "markdown",
   "id": "9b5888d1",
   "metadata": {
    "id": "9b5888d1"
   },
   "source": [
    "\n",
    "En Python para $X\\sim N(0,1)$:"
   ]
  },
  {
   "cell_type": "code",
   "execution_count": 14,
   "id": "2e58fd89",
   "metadata": {},
   "outputs": [
    {
     "name": "stdout",
     "output_type": "stream",
     "text": [
      "0.6826894921370859\n",
      "0.9544997361036416\n",
      "0.9973002039367398\n"
     ]
    }
   ],
   "source": [
    "from scipy.stats import norm\n",
    "\n",
    "# For the first range (-1 to 1)\n",
    "prob1 = norm.cdf(1) - norm.cdf(-1)\n",
    "print(prob1)  \n",
    "\n",
    "# For the second range (-2 to 2)\n",
    "prob2 = norm.cdf(2) - norm.cdf(-2)\n",
    "print(prob2)  \n",
    "\n",
    "# For the third range (-3 to 3)\n",
    "prob3 = norm.cdf(3) - norm.cdf(-3)\n",
    "print(prob3) "
   ]
  },
  {
   "cell_type": "markdown",
   "id": "44726ca0",
   "metadata": {
    "id": "44726ca0"
   },
   "source": [
    "\n",
    "## Simetría de la distribución normal\n",
    "\n",
    "- La PDF de una normal es simétrica alrededor de $\\mu$.\n",
    "\n",
    "- Entonces $\\phi(z)= \\phi(-z)$\n",
    "\n",
    "- $\\Phi(z)=1-\\Phi(-z)$\n",
    "\n"
   ]
  },
  {
   "cell_type": "code",
   "execution_count": 15,
   "id": "24e04e6d",
   "metadata": {},
   "outputs": [
    {
     "name": "stdout",
     "output_type": "stream",
     "text": [
      "0.24197072451914337\n",
      "0.24197072451914337\n",
      "0.8289438736915182\n",
      "0.8289438736915182\n"
     ]
    }
   ],
   "source": [
    "from scipy.stats import norm\n",
    "\n",
    "# Density for 1\n",
    "density1 = norm.pdf(1)\n",
    "print(density1)  \n",
    "\n",
    "# Density for -1 \n",
    "density2 = norm.pdf(-1)\n",
    "print(density2) \n",
    "\n",
    "# Cumulative probability for 0.95\n",
    "prob1 = norm.cdf(0.95)\n",
    "print(prob1)  \n",
    "\n",
    "# Tail probability for -0.95 (1 - CDF for -0.95)\n",
    "prob2 = 1 - norm.cdf(-0.95)\n",
    "print(prob2)  \n"
   ]
  },
  {
   "cell_type": "markdown",
   "id": "2a3f913c",
   "metadata": {
    "id": "2a3f913c"
   },
   "source": [
    "\n",
    "Trazado de la PDF de normales con distinta varianza en Python"
   ]
  },
  {
   "cell_type": "code",
   "execution_count": 16,
   "id": "7e59260d",
   "metadata": {},
   "outputs": [
    {
     "data": {
      "image/png": "[encoded data removed]",
      "text/plain": [
       "<Figure size 640x480 with 1 Axes>"
      ]
     },
     "metadata": {},
     "output_type": "display_data"
    }
   ],
   "source": [
    "import numpy as np\n",
    "import matplotlib.pyplot as plt\n",
    "\n",
    "# Generating sequence\n",
    "x = np.linspace(-8, 8, 400)\n",
    "\n",
    "# Calculate densities for different standard deviations\n",
    "y1 = [norm.pdf(i, loc=0, scale=0.5) for i in x]\n",
    "y2 = [norm.pdf(i, loc=0, scale=1) for i in x]\n",
    "y3 = [norm.pdf(i, loc=0, scale=2) for i in x]\n",
    "\n",
    "# Plotting\n",
    "plt.plot(x, y1, color='red')\n",
    "plt.plot(x, y2, color='green')\n",
    "plt.plot(x, y3, color='blue')\n",
    "\n",
    "plt.show()\n"
   ]
  },
  {
   "cell_type": "markdown",
   "id": "1efe8aa1",
   "metadata": {
    "id": "1efe8aa1"
   },
   "source": [
    "\n",
    "## Probabilidades conjuntas\n",
    "\n",
    "- La noción de función de probabilidad (masa o densidad) puede **extenderse** a más de una V.A.\n",
    "\n",
    "- Dado un par de variables aleatorias discretas $X$ y $Y$, defina la función de masa conjunta por $f(x,y) = \\mathbb{P}(X = x$ y$Y = y)$ o $f(x,y) = \\mathbb{P}(X = x$ ,$Y = y)$\n",
    "\n",
    "- Escribimos $f$ como $f_{X,Y}$ cuando queremos ser más explícitos.\n",
    "\n",
    "- Ejemplo: He aquí una distribución bivariante para dos variables aleatorias $X$ e $Y$, cada una de las cuales toma los valores 0 ó 1:\n",
    "\n",
    "    |       | $Y=0$ | $Y=1$ |     |\n",
    "    |:-----:|:-----:|:-----:|:---:|\n",
    "    | $X=0$ |  1/9  |  2/9  | 1/3 |\n",
    "    | $X=1$ |  2/9  |  4/9  | 2/3 |\n",
    "    |       |  1/3  |  2/3  |  1  |\n",
    "\n",
    "- Así, $f(1, 1) = \\mathbb{P}(X = 1, Y = 1) = 4/9$.\n"
   ]
  },
  {
   "cell_type": "markdown",
   "id": "31d87026",
   "metadata": {
    "id": "31d87026"
   },
   "source": [
    "## Caso Continuo\n",
    "\n",
    "En el caso continuo, llamamos a una función $f(x,y)$ una FDP para las variables aleatorias $(X, Y)$ si\n",
    "\n",
    "1. $f(x, y) \\geq 0$ para todo $(x, y)$,\n",
    "\n",
    "2. $\\int_{-\\infty}^{\\infty} f(x,y)dxdy=1$ y,\n",
    "\n",
    "3. para cualquier conjunto\n",
    "   $A \\subset \\mathbb{R}\\times\\mathbb{R}, \\mathbb{P}((X,Y) \\in A)=\\int \\int_{A}f(x,y)dxdy$.\n",
    "\n",
    "En el caso discreto o continuo definimos la FCD conjunta como $F_{X,Y} = \\mathbb{P}(X \\leq x, Y \\leq y)$.\n"
   ]
  },
  {
   "cell_type": "markdown",
   "id": "d8ceb4cb",
   "metadata": {
    "id": "d8ceb4cb"
   },
   "source": [
    "## Variables Aleatorias Independientes\n",
    "\n",
    "- Dos variables aleatorias $X$ y $Y$ son independientes si, para cada $A$ y $B$,\n",
    "    $$\\mathbb{P}(X \\in A, Y \\in B)=\\mathbb{P}(X \\in A)\\times \\mathbb{P}(Y \\in B)$$\n",
    "\n",
    "- Para el caso discreto eso significa que $\\mathbb{P}(X, Y) =\\mathbb{P}(X)\\times \\mathbb{P}(Y)$ y para el caso continuo tenemos que $f_{X,Y}(x, y) = f_{X}(x)\\times f_{Y}(y)$ para todos los valores $x$ e $y$.\n"
   ]
  },
  {
   "cell_type": "markdown",
   "id": "bdde3201",
   "metadata": {
    "id": "bdde3201"
   },
   "source": [
    "\n",
    "## Valor esperado\n",
    "\n",
    "- Sea $X$ un V.R., definimos su **expectativa**, o **media**, o  **momento de primer orden** como:\n",
    "$$\n",
    "\\mathbb{E}(X) = \\begin{cases}\n",
    "\\sum_{x}(x\\times f(x)) & \\text{if } X \\text{ is discrete} \\\\\n",
    "\\int_{-\\infty}^{\\infty} x f(x) \\, dx & \\text{if } X \\text{ is continuous}\n",
    "\\end{cases}\n",
    "$$\n",
    "\n",
    "-   El valor esperado es la media ponderada de todos los valores posibles que puede tomar una variable aleatoria.\n",
    "\n",
    "-   Piense en $\\mathbb{E}(X)$ como la media $\\sum_{i=1}^{n}X_i/n$ de un gran número de resultados de las variables IID $X_1, \\dots,X_n$.\n",
    "\n",
    "-    Para el caso de lanzar una moneda dos veces con $X$ el número de caras:\n",
    "  $$\\begin{aligned}\n",
    "    \\mathbb{E}(X) & = & (0 \\times f(0)) + (1 \\times f(1)) + (2 \\times f(2)) \\nonumber \\\\\n",
    "         & = & (0 \\times (1/4)) + (1 \\times (1/2)) + (2 \\times (1/4)) =1  \\nonumber \\\\\n",
    "   \n",
    "  \\end{aligned}$$\n",
    "\n",
    "-  Sean las variables aleatorias $X_1, X_2, \\dots , X_n$ y las constantes   $a_1, a_2, \\dots, a_n$,\n",
    "\n",
    "    $$\\mathbb{E}\\left(\\sum_{i}a_i X_i \\right) = \\sum_{i} a_{i} \\mathbb{E}(X_i)$$\n"
   ]
  },
  {
   "cell_type": "markdown",
   "id": "cb575556",
   "metadata": {
    "id": "cb575556"
   },
   "source": [
    "\n",
    "## Varianza\n",
    "\n",
    "- La varianza mide la \"dispersión\" de una distribución.\n",
    "\n",
    "-   Lex $X$ sea una R.V de media $\\mu$, os la varianza de $X$\n",
    "      denotada como $\\sigma^2$, $\\sigma^{2}_{X}$ o $\\mathbb{V}(X)$ como:\n",
    "\\begin{equation}\n",
    "\\mathbb{V}(X) = \\mathbb{E}(X - \\mu)^2 =  \n",
    "\\begin{cases}\n",
    "  \\sum_{i=1}^{n} f_{x}(x_{i})(x_{i} - \\mu)^2 &\\text{if } X \\text{ is discrete} \\\\\n",
    "   \\int (x- \\mu)^{2}f_X(x)dx &\\text{if } X \\text{ is continuous}\n",
    "\\end{cases}\n",
    "\\end{equation}\n",
    "\n",
    "\n",
    "-   La **desviación estándar** $\\sigma$ se define como\n",
    "    $\\sqrt{\\mathbb{V}(X)}$\n"
   ]
  },
  {
   "cell_type": "markdown",
   "id": "6f3cfb65",
   "metadata": {
    "id": "6f3cfb65"
   },
   "source": [
    "\n",
    "## Propiedades\n",
    "\n",
    "-   $\\mathbb{V}(X)=  \\mathbb{E}(X^2)- \\mathbb{E}(X)^2 =  \\mathbb{E}(X^2)-\\mu^2$\n",
    "\n",
    "-   Si $a$ y $b$ son constantes, entonces\n",
    "    $\\mathbb{V}(aX+b)=a^2\\mathbb{V}(X)$\n",
    "\n",
    "-   Si $X_1,\\dots,X_n$ son independientes y $a_1,\\dots,a_n$ son\n",
    "    constantes, entonces\n",
    "    $$\\mathbb{V}\\left(\\sum_{i=1}^{n}a_i X_i \\right) = \\sum_{i=1}^{n} a_{i}^{2} \\mathbb{V}(X_{i})$$\n"
   ]
  },
  {
   "cell_type": "markdown",
   "id": "bfafc77d",
   "metadata": {},
   "source": [
    "\n",
    "**Expectativa y varianza de distribuciones conocidas**\n"
   ]
  },
  {
   "cell_type": "markdown",
   "id": "254fec94",
   "metadata": {
    "id": "254fec94"
   },
   "source": [
    "![](../Images/expectations.png)\n"
   ]
  },
  {
   "cell_type": "markdown",
   "id": "cfadedd4",
   "metadata": {
    "id": "cfadedd4"
   },
   "source": [
    "\n",
    "## Ley de los Grandes Números\n",
    "\n",
    "**Forma débil**\n",
    "\n",
    "- Este teorema dice que la media de una muestra grande es cercana a la\n",
    "    media de la distribución.\n",
    "\n",
    "-   Sean $X_{1},X_{2},\\dots X_{n}$ variables aleatorias IID de media $\\mu$\n",
    "    y varianza $\\sigma^2$.\n",
    "\n",
    "-   La media $\\overline{X_{n}} =\\frac{\\sum_{i=1}^{n}X_{i}}{n}$ converge\n",
    "    en probabilidad a $\\mu$,\n",
    "    $\\overline{X_{n}} \\overset{P}{\\rightarrow} \\mu$\n",
    "\n",
    "-   Esto equivale a decir que para todo $\\epsilon > 0$\n",
    "    $$\\lim_{n\\rightarrow \\infty} \\mathbb{P}(|\\overline{X_{n}} - \\mu| < \\epsilon)=1$$\n",
    "\n",
    "-   Entonces la distribución de $\\overline{X_{n}}$ más concentrada alrededor de\n",
    "    $\\mu$ como $n$ crece.\n"
   ]
  },
  {
   "cell_type": "markdown",
   "id": "e9bebdde",
   "metadata": {
    "id": "e9bebdde"
   },
   "source": [
    "\n",
    "**Ejemplo**\n",
    "\n",
    "- Sea el experimento de lanzar una moneda donde la probabilidad de que salga\n",
    "    cara es $p$.\n",
    "\n",
    "- Para una V.A distribuida Bernoulli $\\mathbb{E}(X)=p$.\n",
    "\n",
    "- Sea $\\overline{X_{n}}$ la fracción de caras después de $n$ lanzamientos.\n",
    "\n",
    "- La ley de los grandes números nos dice que $\\overline{X_{n}}$$  converge\n",
    "\n",
    "   en  probabilidad a $p$.\n",
    "\n",
    "- Esto no implica que $\\overline{X_{n}}$ sea numéricamente igual a\n",
    "    $p$.\n",
    "\n",
    "- Pero si $n$ es suficientemente grande, la distribución de $\\overline{X_{n}}$\n",
    "    se centrará en torno a $p$.\n"
   ]
  },
  {
   "cell_type": "markdown",
   "id": "84c65821",
   "metadata": {
    "id": "84c65821"
   },
   "source": [
    "    - Visualicemos la ejecución del experimento de lanzar la moneda dos veces con $n=1,000$ y $p=0,5$ en el siguiente gráfico.\n"
   ]
  },
  {
   "cell_type": "markdown",
   "id": "58efba27",
   "metadata": {
    "id": "58efba27"
   },
   "source": [
    "![](../Images/large_numbers.png)"
   ]
  },
  {
   "cell_type": "markdown",
   "id": "c528f136",
   "metadata": {
    "id": "c528f136"
   },
   "source": [
    "\n",
    "- En el eje x mostramos el número de lanzamientos y a lo largo del eje y, mostramos la media acumulada, o nuestro número medio de caras obtenidas.\n",
    "\n",
    "- Al principio hay mucha variación en las puntuaciones medias.\n",
    "\n",
    "- Sin embargo, a medida que avanza hacia 1,000 tiradas, las carreras convergerán hacia la probabilidad esperada de 0.5.\n",
    "\n",
    "- Cuantos más eventos aleatorios independientes tengas, menos variabilidad habrá en torno a los resultados teóricamente esperados.\n"
   ]
  },
  {
   "cell_type": "markdown",
   "id": "15976581",
   "metadata": {
    "id": "15976581"
   },
   "source": [
    "\n",
    "## Teorema del límite central\n",
    "\n",
    "- Mientras que la ley de los grandes números nos dice que $\\overline{X_{n}}$ se aproxima a $\\mu$ a medida que $n$ crece.\n",
    "\n",
    "- Esto no es suficiente para decir nada acerca de la distribución de $\\overline{X_{n}}$.\n",
    "\n",
    "- Sean $X_{1},X_{2},\\dots X_{n}$ variables aleatorias IID de media $\\mu$ y varianza $\\sigma^2$.\n",
    "\n",
    "- Sea $\\overline{X_{n}}=\\frac{\\sum_{i=1}^{n} X_i}{n}$\n",
    "    $$Z_{n} \\equiv \\frac{\\overline{X_{n}}-\\mu}{\\sqrt{\\mathbb{V}(\\overline{X_{n}})}}=\\frac{\\overline{X_{n}}-\\mu}{\\frac{\\sigma}{\\sqrt{n}}}  \\rightsquigarrow Z$$\n",
    "    where $Z\\sim N(0,1)$\n",
    "\n",
    "-   Esto equivale a:\n",
    "    $$\\lim_{n\\rightarrow \\infty} \\mathbb{P}(Z_{n} \\leq z) = \\Phi(z) = \\int_{-\\infty}^{z}\\frac{1}{\\sqrt{2\\pi}}e^{-x^2/2}dx$$\n",
    "\n",
    "-  El teorema nos permite aproximar la distribución de $\\overline{X_{n}}$ a una distribución gaussiana cuando $n$ es grande.\n",
    "\n",
    "- Aunque no conozcamos la distribución de $X_{i}$$, podemos aproximar la distribución de su media.\n"
   ]
  },
  {
   "cell_type": "markdown",
   "id": "cea34efe",
   "metadata": {
    "id": "cea34efe"
   },
   "source": [
    "\n",
    "## Teorema central del límite (2)\n",
    "\n",
    "- El ejemplo anterior sobre el campo de fútbol era una clara manifestación del teorema central del límite (TLC).\n",
    "\n",
    "- En ese caso estábamos sumando varias variables aleatorias independientes procedentes de una distribución no normal (Binomial).\n",
    "\n",
    "- El TLC también es válido para la suma de variables aleatorias, porque la suma es simplemente $\\overline{X_{n}}$ multiplicada por una constante.\n",
    "\n",
    "Anotaciones alternativas que muestran que $Z_{n}$ converge a una Normal\n",
    "\n",
    "\n",
    "$$ Z_n  \\approx N(0,1)     \\nonumber $$\n",
    "$$ \\overline{X_{n}}  \\approx  N \\left(\\mu, \\frac{\\sigma^2}{n} \\right)   \\nonumber $$\n",
    "$$ \\overline{X_{n}}-\\mu  \\approx  N \\left(0, \\frac{\\sigma^2}{n} \\right)   \\nonumber $$\n",
    "$$ \\sqrt{n}(\\overline{X_{n}}-\\mu)  \\approx  N (0,\\sigma^2) \\nonumber $$\n",
    "$$ \\frac{\\overline{X_{n}}-\\mu}{\\frac{\\sigma}{\\sqrt{n}}}  \\approx  N (0,1) \\nonumber $$\n",
    "\n"
   ]
  },
  {
   "cell_type": "markdown",
   "id": "182b703c",
   "metadata": {},
   "source": [
    "[Asiste este pequeño video para ilustrar el TCL](https://youtu.be/EvHiee7gs9Y)"
   ]
  },
  {
   "cell_type": "markdown",
   "id": "f4e3002a",
   "metadata": {
    "id": "f4e3002a"
   },
   "source": [
    "\n",
    "## ¿Por qué es importante el Teorema Central del Límite?\n",
    "\n",
    "- Para los experimentadores, el CLT es un concepto extremadamente importante.\n",
    "\n",
    "- Para muchas cuestiones prácticas, no podemos obtener mediciones de toda una población de interés.\n",
    "\n",
    "- Así que tenemos que seleccionar una muestra de la que extraer conclusiones.\n",
    "\n",
    "- ¿Cómo podemos estar seguros de que las conclusiones que extraemos sobre la muestra se generalizan a toda la población?\n",
    "\n",
    "- El teorema central del límite nos permite hacer afirmaciones sobre la distribución de nuestras **medias muestrales**.\n",
    "\n",
    "- ***Ésta será una idea fundamental para la inferencia estadística***."
   ]
  },
  {
   "cell_type": "markdown",
   "id": "058be8ad",
   "metadata": {
    "id": "058be8ad"
   },
   "source": [
    "\n",
    "### Ejemplo: Teorema central del límite\n",
    "\n",
    "- Supongamos que el número de errores $X$ de un programa informático en una semana sigue una distribución de Poisson con parámetro $\\lambda=5$.\n",
    "\n",
    "- Si $X \\sim Poisson(\\lambda)$, $\\mathbb{E}(X)=\\lambda$ y $\\mathbb{V}(X)=\\lambda$.\n",
    "\n",
    "- Esto significa que, en media, un programa informático comete 5 errores en una semana.\n",
    "\n",
    "- Si tenemos 125 programas independientes $X_{1},\\dots,X_{125}$ nos gustaría aproximar la probabilidad de que el número medio de errores de todos estos programas durante una semana sea inferior a 5.5:\n",
    "\n",
    "\n",
    "    $$\\mathbb{P}(\\overline{X_{n}} < 5.5)$$\n",
    "\n",
    "-   Usando el CLT tenemos que: \n",
    "\n",
    "\n",
    "$$ \\mathbb{P}(\\overline{X_{n}} < 5.5) = \\mathbb{P} \\left( \\frac{\\overline{X_{n}}-\\mu}{\\frac{\\sigma}{\\sqrt{n}}} < \\frac{5.5 -\\mu}{\\frac{\\sigma} {\\sqrt{n}}} \\right) $$\n",
    "$$ \\approx \\mathbb{P}\\left( Z < \\frac{5.5 - 5}{\\frac{\\sqrt{5}}{\\sqrt{125}}} \\right) $$\n",
    "$$ = \\mathbb{P}( Z < 2.5) = 0.9938$$\n",
    "\n"
   ]
  },
  {
   "cell_type": "markdown",
   "id": "a7605430",
   "metadata": {
    "id": "a7605430"
   },
   "source": [
    "\n",
    "-   En python:"
   ]
  },
  {
   "cell_type": "code",
   "execution_count": 17,
   "id": "12a57d22",
   "metadata": {},
   "outputs": [
    {
     "name": "stdout",
     "output_type": "stream",
     "text": [
      "0.9937903346742238\n",
      "0.9937903346742238\n"
     ]
    }
   ],
   "source": [
    "from scipy.stats import norm\n",
    "import math\n",
    "\n",
    "n = 125\n",
    "sigma = math.sqrt(5)\n",
    "mu = 5\n",
    "\n",
    "# First calculation\n",
    "result_1 = norm.cdf(5.5, loc=mu, scale=sigma/math.sqrt(n))\n",
    "print(result_1)\n",
    "\n",
    "# Alternatively\n",
    "result_2 = norm.cdf(2.5)\n",
    "print(result_2)\n"
   ]
  },
  {
   "cell_type": "markdown",
   "id": "2dc2195c",
   "metadata": {
    "id": "2dc2195c"
   },
   "source": [
    "\n",
    "## Conclusiones\n",
    "\n",
    "- Hemos visitado los principales conceptos de la probabilidad, el lenguaje de la incertidumbre.\n",
    "\n",
    "- Las variables aleatorias, las FPDd, las FMP, las FPA, son elementos fundamentales para la inferencia estadística.\n",
    "\n",
    "- La ley de los grandes números y el teorema central del límite nos permitirán hacer afirmaciones probabilísticas sobre la población aunque sólo trabajemos con muestras.\n"
   ]
  }
 ],
 "metadata": {
  "colab": {
   "provenance": []
  },
  "kernelspec": {
   "display_name": "base",
   "language": "python",
   "name": "python3"
  },
  "language_info": {
   "codemirror_mode": {
    "name": "ipython",
    "version": 3
   },
   "file_extension": ".py",
   "mimetype": "text/x-python",
   "name": "python",
   "nbconvert_exporter": "python",
   "pygments_lexer": "ipython3",
   "version": "3.11.4"
  }
 },
 "nbformat": 4,
 "nbformat_minor": 5
}