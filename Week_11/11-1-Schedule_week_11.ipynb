{
 "cells": [
  {
   "attachments": {},
   "cell_type": "markdown",
   "metadata": {},
   "source": [
    "**Week 12: Logistic Regression - Part I**\n",
    "\n",
    "**Objective:**\n",
    "This week introduces logistic regression, a technique used when the dependent variable is binary. We will discuss how to estimate and interpret the coefficients of a logistic regression model. The Python implementation will provide practical understanding and hands-on experience.\n",
    "\n",
    "**Schedule:**\n",
    "\n",
    "*Introduction to Logistic Regression*\n",
    "- Basics of logistic regression\n",
    "- Differences and similarities with linear regression\n",
    "- Applicability.\n",
    "\n",
    "*Estimation of Coefficients*\n",
    "- Method of maximum likelihood\n",
    "\n",
    "*Model Interpretation*\n",
    "- Interpretation of coefficients\n",
    "- Odds ratios\n",
    "\n",
    "*Logistic Regression - Application*\n",
    "- Data preparation\n",
    "- Model fitting\n",
    "- Result interpretation\n",
    "\n",
    "\n",
    "**Required Readings:**\n",
    "[Chapter 15 from \"Applied Statistics and Probability for Engineers\" by Douglas C. Montgomery and George C. Runger.](https://uniandes.primo.exlibrisgroup.com/permalink/57U_UDLA/1sib6to/alma991005387282807681)\n",
    "\n",
    "**Supplementary Material:**\n",
    "1. [\"Applied Logistic Regression\" by David W. Hosmer Jr., Stanley Lemeshow, and Rodney X. Sturdivant.](https://uniandes.primo.exlibrisgroup.com/permalink/57U_UDLA/1sib6to/alma991004707879707681)\n",
    "2. [Video Lecture: \"Logistic Regression\" by StatQuest with Josh Starmer.](https://youtube.com/playlist?list=PLblh5JKOoLUKxzEP5HA2d-Li7IJkHfXSe)\n",
    "\n",
    "**Software Tutorial:**\n",
    "Python Tutorial: [Logistic Regression in Python](https://www.datacamp.com/tutorial/understanding-logistic-regression-python)\n",
    "\n",
    "**Office Hours:**\n",
    "Available upon request. Please email to set up an appointment."
   ]
  },
  {
   "attachments": {},
   "cell_type": "markdown",
   "metadata": {},
   "source": [
    "**Assignments:**\n",
    "\n",
    "Assignment 5: Conduct a multiple regression analysis on a given dataset. Address potential issues of multicollinearity and violations of assumptions. Choose the best model using appropriate model selection techniques. (Due: Week 6 Class 1)\n",
    "\n",
    "Assignment 6: Run a one-way and a two-way ANOVA on given datasets. Interpret the ANOVA tables and conduct appropriate post-hoc tests. (Due: Week 8 Class 1)\n",
    "\n",
    "Assignment 7: Conduct various non-parametric tests on given datasets. Compare the results with parametric tests where appropriate, and discuss the advantages and disadvantages of non-parametric methods. (Due: Week 9 Class 1)\n",
    "\n",
    "Assignment 8: Conduct binary and multinomial logistic regression analyses on given datasets. Interpret the coefficients, assess the model fit, and validate the model. (Due: Week 10 Class 1)"
   ]
  }
 ],
 "metadata": {
  "kernelspec": {
   "display_name": "Python 3",
   "language": "python",
   "name": "python3"
  },
  "language_info": {
   "codemirror_mode": {
    "name": "ipython",
    "version": 3
   },
   "file_extension": ".py",
   "mimetype": "text/x-python",
   "name": "python",
   "nbconvert_exporter": "python",
   "pygments_lexer": "ipython3",
   "version": "3.8.0"
  },
  "widgets": {
   "application/vnd.jupyter.widget-state+json": {
    "state": {},
    "version_major": 2,
    "version_minor": 0
   }
  }
 },
 "nbformat": 4,
 "nbformat_minor": 4
}
